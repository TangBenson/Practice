{
 "cells": [
  {
   "cell_type": "markdown",
   "metadata": {
    "application/vnd.databricks.v1+cell": {
     "inputWidgets": {},
     "nuid": "a7eab306-ba33-487f-a095-521d7b62f1f5",
     "showTitle": false,
     "title": ""
    },
    "jp-MarkdownHeadingCollapsed": true,
    "tags": []
   },
   "source": [
    "##### matplotlib 的 API 分成兩種型態:\n",
    "##### plt.plot｜繪圖的懶人包(包括 df.plot)\n",
    "##### ax.plot｜提供多項客製化的參數與圖表控制\n",
    "\n",
    "##### Figure：可以把他當作畫布，一張畫布上可以有很多的 Axes\n",
    "##### Axes：就是我們俗稱的「子圖」，每個 Axes 一次只能在一張畫布上\n",
    "\n",
    "##### plt是模块matplotlib.pyplot\n",
    "##### fig是类matplotlib.figure.Figure的实例\n",
    "##### ax是类matplotlib.axes.Axes的实例，axs是类Axes实例的集合"
   ]
  },
  {
   "cell_type": "markdown",
   "metadata": {
    "tags": []
   },
   "source": [
    "##### 註：plt.plot 來繪圖沒用到 figure 和 axes。因為他幫你把基礎的參數設定好，不代表背後就沒有 figure 和 axes 的運作\n",
    "##### Figure(fig)是一个顶层的绘图容器, Figure(fig)中应该包含1个或多个的 Axes(ax/axs/axes)\n",
    "##### plt.figure()：plt.* * * 系列。通过plt.xxx来画图，其实是取了一个捷径\n",
    "##### fig, ax = plt.subplots()：这个就是正统的稍微复杂一点的画图方法了。指定figure和axes，然后对axes单独操作"
   ]
  },
  {
   "cell_type": "code",
   "execution_count": 1,
   "metadata": {
    "application/vnd.databricks.v1+cell": {
     "inputWidgets": {},
     "nuid": "286473a8-a758-452f-8ea0-c4a5eb66c41f",
     "showTitle": false,
     "title": ""
    }
   },
   "outputs": [],
   "source": [
    "import matplotlib.pyplot as plt\n",
    "import pandas as pd\n",
    "import numpy as np"
   ]
  },
  {
   "cell_type": "markdown",
   "metadata": {},
   "source": [
    "#### 捷徑法"
   ]
  },
  {
   "cell_type": "code",
   "execution_count": 33,
   "metadata": {
    "application/vnd.databricks.v1+cell": {
     "inputWidgets": {},
     "nuid": "88ad6c02-3275-4558-ac1a-1460f5f7375f",
     "showTitle": false,
     "title": ""
    },
    "tags": []
   },
   "outputs": [
    {
     "data": {
      "text/plain": [
       "Text(0.5, 1.0, 'TEST')"
      ]
     },
     "execution_count": 33,
     "metadata": {},
     "output_type": "execute_result"
    },
    {
     "data": {
      "image/png": "[encoded data removed]",
      "text/plain": [
       "<Figure size 432x432 with 1 Axes>"
      ]
     },
     "metadata": {
      "needs_background": "light"
     },
     "output_type": "display_data"
    }
   ],
   "source": [
    "# 1.创建一个Figure\n",
    "fig = plt.figure(figsize=(6,6))\n",
    "plt.title('TEST') # 加這行才畫得出來"
   ]
  },
  {
   "cell_type": "code",
   "execution_count": 3,
   "metadata": {
    "tags": []
   },
   "outputs": [],
   "source": [
    "# 將 axe 新增到實例化後 2×2 的 figure 上，並指定第 1,2,3 個\n",
    "ax_1 = fig.add_subplot(2, 2, 1)\n",
    "ax_2 = fig.add_subplot(2, 2, 2)\n",
    "ax_3 = fig.add_subplot(2, 2, 3)"
   ]
  },
  {
   "cell_type": "markdown",
   "metadata": {},
   "source": [
    "#### 完整法"
   ]
  },
  {
   "cell_type": "code",
   "execution_count": 7,
   "metadata": {
    "application/vnd.databricks.v1+cell": {
     "inputWidgets": {},
     "nuid": "8e48aa3f-7763-4ad9-92a3-faf59b4a5a39",
     "showTitle": false,
     "title": ""
    }
   },
   "outputs": [
    {
     "data": {
      "image/png": "[encoded data removed]",
      "text/plain": [
       "<Figure size 432x288 with 1 Axes>"
      ]
     },
     "metadata": {
      "needs_background": "light"
     },
     "output_type": "display_data"
    }
   ],
   "source": [
    "fig, ax = plt.subplots()"
   ]
  },
  {
   "cell_type": "code",
   "execution_count": 5,
   "metadata": {
    "application/vnd.databricks.v1+cell": {
     "inputWidgets": {},
     "nuid": "68a1cf23-4532-49fa-86c3-777c16011ffd",
     "showTitle": false,
     "title": ""
    }
   },
   "outputs": [
    {
     "data": {
      "image/png": "[encoded data removed]",
      "text/plain": [
       "<Figure size 432x288 with 6 Axes>"
      ]
     },
     "metadata": {
      "needs_background": "light"
     },
     "output_type": "display_data"
    }
   ],
   "source": [
    "fig, axs = plt.subplots(2, 3)"
   ]
  },
  {
   "cell_type": "markdown",
   "metadata": {},
   "source": [
    "### %---------------------------------------%"
   ]
  },
  {
   "cell_type": "code",
   "execution_count": null,
   "metadata": {
    "application/vnd.databricks.v1+cell": {
     "inputWidgets": {},
     "nuid": "7d05a8d6-81fa-4b7a-a871-8e2d94452cdc",
     "showTitle": false,
     "title": ""
    }
   },
   "outputs": [],
   "source": [
    "# 当使用fig = plt.figure() 时,一定是先进行绘图操作,才能获取Axes的集合\n",
    "# 2和3順序不能換\n",
    "\n",
    "# 1.创建一个Figure\n",
    "fig = plt.figure()\n",
    "fig.set_facecolor('cornflowerblue')\n",
    "\n",
    "# 2.绘图\n",
    "plt.plot([86, 89, 96, 90], label='English')\n",
    "plt.plot([100, 82, 97, 92], label='Math')\n",
    "\n",
    "# 3.获取axes集合\n",
    "axes = fig.axes\n",
    "axes[0].set_facecolor('pink')\n",
    "\n",
    "# 4.设置标题\n",
    "fig.suptitle('1.fig = plt.figure()')  # 这里是设置的Figure的标题\n",
    "axes[0].set_title('axes[0]')  # 设置Axes的标题\n",
    "axes[0].legend() # 右上角顯示線代表的資料種類\n",
    "\n",
    "# 5.输出信息\n",
    "# print('\\t  fig的类型:', type(fig))\n",
    "# print('\\t axes的类型:', type(axes))\n",
    "# print('\\t      axes:', axes)\n",
    "\n",
    "fig.tight_layout()"
   ]
  },
  {
   "cell_type": "code",
   "execution_count": null,
   "metadata": {
    "application/vnd.databricks.v1+cell": {
     "inputWidgets": {},
     "nuid": "570f0844-fbe0-4bbe-975f-0913bf81df14",
     "showTitle": false,
     "title": ""
    }
   },
   "outputs": [],
   "source": [
    "# 1.创建一个新Figure\n",
    "fig, ax = plt.subplots()\n",
    "fig.set_facecolor('cornflowerblue')\n",
    "ax.set_facecolor('pink')\n",
    "\n",
    "# 2.绘图\n",
    "ax.plot([86, 89, 96, 90], label='English')\n",
    "ax.plot([100, 82, 97, 92], label='Math')\n",
    "\n",
    "# 4.设置标题\n",
    "fig.suptitle('fig, ax = plt.subplots()')  # 这里是设置的Figure的标题\n",
    "ax.set_title('ax')  # 设置Axes的标题\n",
    "ax.legend() # 右上角顯示線代表的資料種類\n",
    "\n",
    "# 5.输出信息\n",
    "# print('\\tfig的类型:', type(fig))\n",
    "# print('\\t ax的类型:', type(ax))\n",
    "# print('\\t      ax:', ax\n",
    "\n",
    "fig.tight_layout()"
   ]
  },
  {
   "cell_type": "code",
   "execution_count": null,
   "metadata": {
    "application/vnd.databricks.v1+cell": {
     "inputWidgets": {},
     "nuid": "7e1286dd-37ec-418d-8f46-218e1d5a9437",
     "showTitle": false,
     "title": ""
    }
   },
   "outputs": [],
   "source": [
    "# 1.创建一个新Figure\n",
    "fig, axs = plt.subplots(2, 2)\n",
    "fig.set_facecolor('cornflowerblue')\n",
    "axs[1, 0].set_facecolor('pink')\n",
    "\n",
    "# 2.绘图\n",
    "axs[1, 0].plot([86, 89, 96, 90], label='English')\n",
    "axs[1, 0].plot([100, 82, 97, 92], label='Math')\n",
    "\n",
    "# 4.设置标题\n",
    "fig.suptitle('fig, axs = plt.subplots(2, 2)')  # 这里是设置的Figure的标题\n",
    "axs[1, 0].set_title('axs[1, 0]')  # 设置Axes的标题\n",
    "axs[0, 0].set_title('axs[0, 0]')  # 设置Axes的标题\n",
    "axs[0, 1].set_title('axs[0, 1]')  # 设置Axes的标题\n",
    "axs[1, 1].set_title('axs[1, 1]')  # 设置Axes的标题\n",
    "axs[1, 0].legend()\n",
    "\n",
    "# 5.输出信息\n",
    "# print('3.当subplots()的参数nrows=2,ncols=2时,fig, axs = plt.subplots(2, 2):')\n",
    "# print('\\t fig的类型:', type(fig))\n",
    "# print('\\t axs的类型:', type(axs))\n",
    "# print('\\t      axs:\\n', axs)\n",
    "# print('\\taxs.dtype:', axs.dtype)\n",
    "# print('\\n', '=*'*40, '\\n')\n",
    "\n",
    "fig.tight_layout()"
   ]
  },
  {
   "cell_type": "code",
   "execution_count": null,
   "metadata": {
    "application/vnd.databricks.v1+cell": {
     "inputWidgets": {},
     "nuid": "e8e497b2-5a04-4cd9-92cf-0091d8e3fd8f",
     "showTitle": false,
     "title": ""
    }
   },
   "outputs": [],
   "source": [
    "# 1.创建一个新Figure\n",
    "fig, axs = plt.subplots(2, 1)\n",
    "fig.set_facecolor('cornflowerblue')\n",
    "axs[0].set_facecolor('pink')\n",
    "\n",
    "# 2.绘图\n",
    "axs[0].plot([86, 89, 96, 90], label='English')\n",
    "axs[0].plot([100, 82, 97, 92], label='Math')\n",
    "\n",
    "# 4.设置标题\n",
    "fig.suptitle('fig, axs = plt.subplots(2, 1)')  # 这里是设置的Figure的标题\n",
    "axs[0].set_title('axs[0]')  # 设置Axes的标题\n",
    "axs[1].set_title('axs[1]')  # 设置Axes的标题\n",
    "axs[0].legend()\n",
    "\n",
    "# 5.输出信息\n",
    "# print('\\t fig的类型:', type(fig))\n",
    "# print('\\t axs的类型:', type(axs))\n",
    "# print('\\t      axs:\\n', axs)\n",
    "# print('\\taxs.dtype:', axs.dtype)\n",
    "\n",
    "fig.tight_layout()"
   ]
  },
  {
   "cell_type": "code",
   "execution_count": null,
   "metadata": {
    "application/vnd.databricks.v1+cell": {
     "inputWidgets": {},
     "nuid": "02124537-226b-4f2c-b45e-802b9380116c",
     "showTitle": false,
     "title": ""
    }
   },
   "outputs": [],
   "source": [
    "# 同上個cell\n",
    "fig = plt.figure()\n",
    "axs = fig.subplots(2, 1)\n",
    "\n",
    "fig.set_facecolor('cornflowerblue')\n",
    "axs[0].set_facecolor('pink')\n",
    "\n",
    "axs[0].plot([86, 89, 96, 90], label='English')\n",
    "axs[0].plot([100, 82, 97, 92], label='Math')\n",
    "\n",
    "fig.suptitle('fig, axs = plt.subplots(2, 1)')  # 这里是设置的Figure的标题\n",
    "axs[0].set_title('axs[0]')  # 设置Axes的标题\n",
    "axs[1].set_title('axs[1]')  # 设置Axes的标题\n",
    "axs[0].legend()\n",
    "\n",
    "fig.tight_layout()"
   ]
  },
  {
   "cell_type": "code",
   "execution_count": null,
   "metadata": {
    "application/vnd.databricks.v1+cell": {
     "inputWidgets": {},
     "nuid": "8f8e2849-61ef-4877-bed8-1f0780c475ba",
     "showTitle": false,
     "title": ""
    }
   },
   "outputs": [],
   "source": []
  }
 ],
 "metadata": {
  "application/vnd.databricks.v1+notebook": {
   "dashboards": [],
   "language": "python",
   "notebookMetadata": {
    "pythonIndentUnit": 4
   },
   "notebookName": "matplotlib_bible",
   "notebookOrigID": 4372362459870112,
   "widgets": {}
  },
  "kernelspec": {
   "display_name": "Python 3 (ipykernel)",
   "language": "python",
   "name": "python3"
  },
  "language_info": {
   "codemirror_mode": {
    "name": "ipython",
    "version": 3
   },
   "file_extension": ".py",
   "mimetype": "text/x-python",
   "name": "python",
   "nbconvert_exporter": "python",
   "pygments_lexer": "ipython3",
   "version": "3.9.12"
  }
 },
 "nbformat": 4,
 "nbformat_minor": 4
}
