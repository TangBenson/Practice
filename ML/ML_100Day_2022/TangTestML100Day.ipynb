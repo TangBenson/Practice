{
 "cells": [
  {
   "cell_type": "code",
   "execution_count": 2,
   "id": "73e9cf56-3523-41aa-95d9-bbd91796052f",
   "metadata": {},
   "outputs": [],
   "source": [
    "import os\n",
    "import numpy as np\n",
    "import pandas as pd"
   ]
  },
  {
   "cell_type": "code",
   "execution_count": 3,
   "id": "e9568843-3f0b-411e-af11-916661006187",
   "metadata": {},
   "outputs": [],
   "source": [
    "## 導入視覺化套件\n",
    "import matplotlib.pyplot as plt\n",
    "%matplotlib inline"
   ]
  },
  {
   "cell_type": "code",
   "execution_count": 5,
   "id": "b9d1c995-e5a1-48f6-9d2f-ebc9d983efe0",
   "metadata": {},
   "outputs": [],
   "source": [
    "f_app_train = os.path.join('./', 'TangTestML100Day.csv')\n",
    "app_train = pd.read_csv(f_app_train)"
   ]
  },
  {
   "cell_type": "code",
   "execution_count": 4,
   "id": "9a2cd1d9-ca70-4201-8c7f-ab5c4fa16a97",
   "metadata": {},
   "outputs": [
    {
     "data": {
      "text/html": [
       "<div>\n",
       "<style scoped>\n",
       "    .dataframe tbody tr th:only-of-type {\n",
       "        vertical-align: middle;\n",
       "    }\n",
       "\n",
       "    .dataframe tbody tr th {\n",
       "        vertical-align: top;\n",
       "    }\n",
       "\n",
       "    .dataframe thead th {\n",
       "        text-align: right;\n",
       "    }\n",
       "</style>\n",
       "<table border=\"1\" class=\"dataframe\">\n",
       "  <thead>\n",
       "    <tr style=\"text-align: right;\">\n",
       "      <th></th>\n",
       "      <th>MEMIDNO</th>\n",
       "      <th>MEMCNAME</th>\n",
       "      <th>MEMTEL</th>\n",
       "      <th>MEMHTEL</th>\n",
       "      <th>MEMBIRTH</th>\n",
       "      <th>MEMCOUNTRY</th>\n",
       "      <th>MEMCITY</th>\n",
       "      <th>MEMADDR</th>\n",
       "      <th>MEMEMAIL</th>\n",
       "      <th>MEMCOMTEL</th>\n",
       "      <th>MEMCONTRACT</th>\n",
       "      <th>MEMCONTEL</th>\n",
       "      <th>Audit</th>\n",
       "      <th>AuditMessage</th>\n",
       "      <th>SPECSTATUS</th>\n",
       "      <th>age</th>\n",
       "      <th>DIY_SEX</th>\n",
       "    </tr>\n",
       "  </thead>\n",
       "  <tbody>\n",
       "    <tr>\n",
       "      <th>0</th>\n",
       "      <td>F225195982</td>\n",
       "      <td>劉靜萍</td>\n",
       "      <td>932076337</td>\n",
       "      <td>29828329</td>\n",
       "      <td>1981-08-30 00:00:00.000</td>\n",
       "      <td>65</td>\n",
       "      <td>39</td>\n",
       "      <td>車路偷街51巷13好五樓</td>\n",
       "      <td>cow0830@hotmail.com</td>\n",
       "      <td>22761511</td>\n",
       "      <td>劉如琪</td>\n",
       "      <td>921522766</td>\n",
       "      <td>2</td>\n",
       "      <td>資料跟證件不符</td>\n",
       "      <td>4</td>\n",
       "      <td>41</td>\n",
       "      <td>M</td>\n",
       "    </tr>\n",
       "    <tr>\n",
       "      <th>1</th>\n",
       "      <td>Q123003601</td>\n",
       "      <td>蔡明孝</td>\n",
       "      <td>938130690</td>\n",
       "      <td>89147177</td>\n",
       "      <td>1979-11-18 00:00:00.000</td>\n",
       "      <td>56</td>\n",
       "      <td>30</td>\n",
       "      <td>中興路二段143號15樓</td>\n",
       "      <td>allen0479@yahoo.com.tw</td>\n",
       "      <td>25062121</td>\n",
       "      <td>魏筱帆</td>\n",
       "      <td>936880556</td>\n",
       "      <td>2</td>\n",
       "      <td>NaN</td>\n",
       "      <td>4</td>\n",
       "      <td>43</td>\n",
       "      <td>F</td>\n",
       "    </tr>\n",
       "    <tr>\n",
       "      <th>2</th>\n",
       "      <td>A110906716</td>\n",
       "      <td>譚達舜</td>\n",
       "      <td>910893888</td>\n",
       "      <td>910893888</td>\n",
       "      <td>1965-07-15 00:00:00.000</td>\n",
       "      <td>0</td>\n",
       "      <td>33</td>\n",
       "      <td>仁愛路325號</td>\n",
       "      <td>tan.edward88@gmail.com</td>\n",
       "      <td>910893888</td>\n",
       "      <td>NaN</td>\n",
       "      <td>NaN</td>\n",
       "      <td>1</td>\n",
       "      <td>NaN</td>\n",
       "      <td>4</td>\n",
       "      <td>57</td>\n",
       "      <td>M</td>\n",
       "    </tr>\n",
       "    <tr>\n",
       "      <th>3</th>\n",
       "      <td>A221296812</td>\n",
       "      <td>陳靜怡</td>\n",
       "      <td>988790923</td>\n",
       "      <td>NaN</td>\n",
       "      <td>1978-08-15 00:00:00.000</td>\n",
       "      <td>0</td>\n",
       "      <td>5</td>\n",
       "      <td>安居街60巷8號4樓</td>\n",
       "      <td>celaine35@gmail.com</td>\n",
       "      <td>NaN</td>\n",
       "      <td>NaN</td>\n",
       "      <td>NaN</td>\n",
       "      <td>1</td>\n",
       "      <td>NaN</td>\n",
       "      <td>0</td>\n",
       "      <td>44</td>\n",
       "      <td>M</td>\n",
       "    </tr>\n",
       "    <tr>\n",
       "      <th>4</th>\n",
       "      <td>B121453576</td>\n",
       "      <td>賴浤毅</td>\n",
       "      <td>919667402</td>\n",
       "      <td>22278899</td>\n",
       "      <td>1977-07-27 00:00:00.000</td>\n",
       "      <td>132</td>\n",
       "      <td>106</td>\n",
       "      <td>建國路152號</td>\n",
       "      <td>ROY@mail.hotaimotor.com.tw</td>\n",
       "      <td>22278899</td>\n",
       "      <td>張紫萱</td>\n",
       "      <td>916685450</td>\n",
       "      <td>2</td>\n",
       "      <td>NaN</td>\n",
       "      <td>4</td>\n",
       "      <td>45</td>\n",
       "      <td>M</td>\n",
       "    </tr>\n",
       "  </tbody>\n",
       "</table>\n",
       "</div>"
      ],
      "text/plain": [
       "      MEMIDNO MEMCNAME     MEMTEL    MEMHTEL                 MEMBIRTH  \\\n",
       "0  F225195982      劉靜萍  932076337   29828329  1981-08-30 00:00:00.000   \n",
       "1  Q123003601      蔡明孝  938130690   89147177  1979-11-18 00:00:00.000   \n",
       "2  A110906716      譚達舜  910893888  910893888  1965-07-15 00:00:00.000   \n",
       "3  A221296812      陳靜怡  988790923        NaN  1978-08-15 00:00:00.000   \n",
       "4  B121453576      賴浤毅  919667402   22278899  1977-07-27 00:00:00.000   \n",
       "\n",
       "   MEMCOUNTRY  MEMCITY       MEMADDR                    MEMEMAIL  MEMCOMTEL  \\\n",
       "0          65       39  車路偷街51巷13好五樓         cow0830@hotmail.com   22761511   \n",
       "1          56       30  中興路二段143號15樓      allen0479@yahoo.com.tw   25062121   \n",
       "2           0       33       仁愛路325號      tan.edward88@gmail.com  910893888   \n",
       "3           0        5    安居街60巷8號4樓         celaine35@gmail.com        NaN   \n",
       "4         132      106       建國路152號  ROY@mail.hotaimotor.com.tw   22278899   \n",
       "\n",
       "  MEMCONTRACT  MEMCONTEL  Audit AuditMessage SPECSTATUS  age DIY_SEX  \n",
       "0         劉如琪  921522766      2      資料跟證件不符          4   41       M  \n",
       "1         魏筱帆  936880556      2          NaN          4   43       F  \n",
       "2         NaN        NaN      1          NaN          4   57       M  \n",
       "3         NaN        NaN      1          NaN          0   44       M  \n",
       "4         張紫萱  916685450      2          NaN          4   45       M  "
      ]
     },
     "execution_count": 4,
     "metadata": {},
     "output_type": "execute_result"
    }
   ],
   "source": [
    "app_train.head()"
   ]
  },
  {
   "cell_type": "code",
   "execution_count": 5,
   "id": "081582c5-500c-49f5-bfb5-8f025e61d03c",
   "metadata": {},
   "outputs": [
    {
     "data": {
      "text/html": [
       "<div>\n",
       "<style scoped>\n",
       "    .dataframe tbody tr th:only-of-type {\n",
       "        vertical-align: middle;\n",
       "    }\n",
       "\n",
       "    .dataframe tbody tr th {\n",
       "        vertical-align: top;\n",
       "    }\n",
       "\n",
       "    .dataframe thead th {\n",
       "        text-align: right;\n",
       "    }\n",
       "</style>\n",
       "<table border=\"1\" class=\"dataframe\">\n",
       "  <thead>\n",
       "    <tr style=\"text-align: right;\">\n",
       "      <th></th>\n",
       "      <th>MEMCOUNTRY</th>\n",
       "      <th>MEMCITY</th>\n",
       "      <th>Audit</th>\n",
       "      <th>age</th>\n",
       "    </tr>\n",
       "  </thead>\n",
       "  <tbody>\n",
       "    <tr>\n",
       "      <th>count</th>\n",
       "      <td>1256.000000</td>\n",
       "      <td>1256.000000</td>\n",
       "      <td>1256.000000</td>\n",
       "      <td>1256.000000</td>\n",
       "    </tr>\n",
       "    <tr>\n",
       "      <th>mean</th>\n",
       "      <td>74.301752</td>\n",
       "      <td>65.208599</td>\n",
       "      <td>1.082006</td>\n",
       "      <td>37.191879</td>\n",
       "    </tr>\n",
       "    <tr>\n",
       "      <th>std</th>\n",
       "      <td>85.290489</td>\n",
       "      <td>79.777456</td>\n",
       "      <td>0.573348</td>\n",
       "      <td>9.834761</td>\n",
       "    </tr>\n",
       "    <tr>\n",
       "      <th>min</th>\n",
       "      <td>0.000000</td>\n",
       "      <td>0.000000</td>\n",
       "      <td>0.000000</td>\n",
       "      <td>0.000000</td>\n",
       "    </tr>\n",
       "    <tr>\n",
       "      <th>25%</th>\n",
       "      <td>29.000000</td>\n",
       "      <td>9.000000</td>\n",
       "      <td>1.000000</td>\n",
       "      <td>30.000000</td>\n",
       "    </tr>\n",
       "    <tr>\n",
       "      <th>50%</th>\n",
       "      <td>56.000000</td>\n",
       "      <td>37.000000</td>\n",
       "      <td>1.000000</td>\n",
       "      <td>36.000000</td>\n",
       "    </tr>\n",
       "    <tr>\n",
       "      <th>75%</th>\n",
       "      <td>87.000000</td>\n",
       "      <td>83.000000</td>\n",
       "      <td>1.000000</td>\n",
       "      <td>43.000000</td>\n",
       "    </tr>\n",
       "    <tr>\n",
       "      <th>max</th>\n",
       "      <td>396.000000</td>\n",
       "      <td>370.000000</td>\n",
       "      <td>3.000000</td>\n",
       "      <td>122.000000</td>\n",
       "    </tr>\n",
       "  </tbody>\n",
       "</table>\n",
       "</div>"
      ],
      "text/plain": [
       "        MEMCOUNTRY      MEMCITY        Audit          age\n",
       "count  1256.000000  1256.000000  1256.000000  1256.000000\n",
       "mean     74.301752    65.208599     1.082006    37.191879\n",
       "std      85.290489    79.777456     0.573348     9.834761\n",
       "min       0.000000     0.000000     0.000000     0.000000\n",
       "25%      29.000000     9.000000     1.000000    30.000000\n",
       "50%      56.000000    37.000000     1.000000    36.000000\n",
       "75%      87.000000    83.000000     1.000000    43.000000\n",
       "max     396.000000   370.000000     3.000000   122.000000"
      ]
     },
     "execution_count": 5,
     "metadata": {},
     "output_type": "execute_result"
    }
   ],
   "source": [
    "app_train.describe()"
   ]
  },
  {
   "cell_type": "code",
   "execution_count": 6,
   "id": "078d5172-bdf8-4677-864a-86d1b3e4612c",
   "metadata": {},
   "outputs": [
    {
     "data": {
      "text/plain": [
       "MEMIDNO         object\n",
       "MEMCNAME        object\n",
       "MEMTEL          object\n",
       "MEMHTEL         object\n",
       "MEMBIRTH        object\n",
       "MEMCOUNTRY       int64\n",
       "MEMCITY          int64\n",
       "MEMADDR         object\n",
       "MEMEMAIL        object\n",
       "MEMCOMTEL       object\n",
       "MEMCONTRACT     object\n",
       "MEMCONTEL       object\n",
       "Audit            int64\n",
       "AuditMessage    object\n",
       "SPECSTATUS      object\n",
       "age              int64\n",
       "DIY_SEX         object\n",
       "dtype: object"
      ]
     },
     "execution_count": 6,
     "metadata": {},
     "output_type": "execute_result"
    }
   ],
   "source": [
    "app_train.dtypes"
   ]
  },
  {
   "cell_type": "code",
   "execution_count": 7,
   "id": "0ed2f5d7-2f16-45fd-837f-0b4c75ee05a4",
   "metadata": {},
   "outputs": [
    {
     "data": {
      "image/png": "[encoded data removed]",
      "text/plain": [
       "<Figure size 432x288 with 1 Axes>"
      ]
     },
     "metadata": {
      "needs_background": "light"
     },
     "output_type": "display_data"
    }
   ],
   "source": [
    "## 方法一\n",
    "app_train['age'].plot.hist(alpha = 0.6);"
   ]
  },
  {
   "cell_type": "code",
   "execution_count": 8,
   "id": "30d4842a-2a64-4d8b-ad5b-1067f394db25",
   "metadata": {},
   "outputs": [
    {
     "data": {
      "image/png": "[encoded data removed]",
      "text/plain": [
       "<Figure size 432x288 with 1 Axes>"
      ]
     },
     "metadata": {
      "needs_background": "light"
     },
     "output_type": "display_data"
    }
   ],
   "source": [
    "## 方法二\n",
    "plt.hist(app_train['age'], color = 'gold')\n",
    "plt.title('irent')\n",
    "plt.xlabel('Age')\n",
    "plt.ylabel('Count')\n",
    "plt.show()"
   ]
  },
  {
   "cell_type": "code",
   "execution_count": 9,
   "id": "f1be51f8-d95c-4c9d-9327-5c8ff23b0736",
   "metadata": {},
   "outputs": [
    {
     "data": {
      "image/png": "[encoded data removed]",
      "text/plain": [
       "<Figure size 432x288 with 1 Axes>"
      ]
     },
     "metadata": {
      "needs_background": "light"
     },
     "output_type": "display_data"
    }
   ],
   "source": [
    "plt.hist(app_train['age']);"
   ]
  },
  {
   "cell_type": "code",
   "execution_count": 10,
   "id": "270db061-4d9e-4645-a307-dba427740f20",
   "metadata": {},
   "outputs": [
    {
     "data": {
      "text/plain": [
       "array([2, 1, 0, 3])"
      ]
     },
     "execution_count": 10,
     "metadata": {},
     "output_type": "execute_result"
    }
   ],
   "source": [
    "app_train['Audit'].unique()"
   ]
  },
  {
   "cell_type": "code",
   "execution_count": 11,
   "id": "daef4b9f-4a79-441c-8ad2-0e019e5e06bb",
   "metadata": {},
   "outputs": [
    {
     "data": {
      "image/png": "[encoded data removed]",
      "text/plain": [
       "<Figure size 432x288 with 1 Axes>"
      ]
     },
     "metadata": {
      "needs_background": "light"
     },
     "output_type": "display_data"
    }
   ],
   "source": [
    "plt.bar(['0', '1','2','3'], app_train['Audit'].value_counts());"
   ]
  },
  {
   "cell_type": "code",
   "execution_count": 14,
   "id": "c8f72881-5f99-4096-b471-e2303acff7e7",
   "metadata": {},
   "outputs": [
    {
     "data": {
      "text/plain": [
       "array(['M', 'F', 'SHIT', 'CAKE'], dtype=object)"
      ]
     },
     "execution_count": 14,
     "metadata": {},
     "output_type": "execute_result"
    }
   ],
   "source": [
    "app_train['DIY_SEX'].unique()"
   ]
  },
  {
   "cell_type": "code",
   "execution_count": 18,
   "id": "224e5e95-2a4d-4e6e-af8a-f6d8f66c13b0",
   "metadata": {},
   "outputs": [
    {
     "data": {
      "image/png": "[encoded data removed]",
      "text/plain": [
       "<Figure size 432x288 with 1 Axes>"
      ]
     },
     "metadata": {
      "needs_background": "light"
     },
     "output_type": "display_data"
    }
   ],
   "source": [
    "# 當處理不為數值型態的特徵時，可以使用value_counts來計算其各唯一值數量\n",
    "plt.bar(['F', 'M', 'SHIT', 'CAKE'], app_train['DIY_SEX'].value_counts())\n",
    "plt.title('SEX')\n",
    "plt.xlabel('TYPE')\n",
    "plt.ylabel('Count')\n",
    "plt.show()"
   ]
  },
  {
   "cell_type": "markdown",
   "id": "d02b629f-d1b0-4534-9cee-2d6bee1aa8c0",
   "metadata": {},
   "source": [
    "# 畫圖方式比較"
   ]
  },
  {
   "cell_type": "code",
   "execution_count": 7,
   "id": "7492ab05-5db9-464e-bd68-ac3756335883",
   "metadata": {},
   "outputs": [
    {
     "data": {
      "text/plain": [
       "<AxesSubplot:title={'center':'方法二'}, ylabel='Frequency'>"
      ]
     },
     "execution_count": 7,
     "metadata": {},
     "output_type": "execute_result"
    },
    {
     "name": "stderr",
     "output_type": "stream",
     "text": [
      "/usr/local/lib/python3.8/dist-packages/IPython/core/pylabtools.py:151: UserWarning: Glyph 26041 (\\N{CJK UNIFIED IDEOGRAPH-65B9}) missing from current font.\n",
      "  fig.canvas.print_figure(bytes_io, **kw)\n",
      "/usr/local/lib/python3.8/dist-packages/IPython/core/pylabtools.py:151: UserWarning: Glyph 27861 (\\N{CJK UNIFIED IDEOGRAPH-6CD5}) missing from current font.\n",
      "  fig.canvas.print_figure(bytes_io, **kw)\n",
      "/usr/local/lib/python3.8/dist-packages/IPython/core/pylabtools.py:151: UserWarning: Glyph 20108 (\\N{CJK UNIFIED IDEOGRAPH-4E8C}) missing from current font.\n",
      "  fig.canvas.print_figure(bytes_io, **kw)\n"
     ]
    },
    {
     "data": {
      "image/png": "[encoded data removed]",
      "text/plain": [
       "<Figure size 432x288 with 1 Axes>"
      ]
     },
     "metadata": {
      "needs_background": "light"
     },
     "output_type": "display_data"
    }
   ],
   "source": [
    "app_train['age'].plot.hist(title = '方法二')"
   ]
  },
  {
   "cell_type": "code",
   "execution_count": 6,
   "id": "0860d44a-7baa-439e-bd17-b1daa3b78d4b",
   "metadata": {},
   "outputs": [
    {
     "data": {
      "image/png": "[encoded data removed]",
      "text/plain": [
       "<Figure size 432x288 with 1 Axes>"
      ]
     },
     "metadata": {
      "needs_background": "light"
     },
     "output_type": "display_data"
    }
   ],
   "source": [
    "plt.hist(app_train['age'])\n",
    "plt.show()"
   ]
  },
  {
   "cell_type": "code",
   "execution_count": 9,
   "id": "fda2deac-a129-4c3c-8216-50631ebc6ef5",
   "metadata": {},
   "outputs": [
    {
     "name": "stderr",
     "output_type": "stream",
     "text": [
      "/home/tang/.local/lib/python3.8/site-packages/seaborn/_decorators.py:36: FutureWarning: Pass the following variable as a keyword arg: x. From version 0.12, the only valid positional argument will be `data`, and passing other arguments without an explicit keyword will result in an error or misinterpretation.\n",
      "  warnings.warn(\n"
     ]
    },
    {
     "data": {
      "text/plain": [
       "<AxesSubplot:xlabel='age', ylabel='count'>"
      ]
     },
     "execution_count": 9,
     "metadata": {},
     "output_type": "execute_result"
    },
    {
     "data": {
      "image/png": "[encoded data removed]",
      "text/plain": [
       "<Figure size 432x288 with 1 Axes>"
      ]
     },
     "metadata": {
      "needs_background": "light"
     },
     "output_type": "display_data"
    }
   ],
   "source": [
    "import seaborn as sns #簡易版matplotlib\n",
    "sns.countplot(app_train['age']) #生存以及死亡的比例"
   ]
  },
  {
   "cell_type": "code",
   "execution_count": null,
   "id": "f9233dda-e4f1-4dbb-b076-835300f70e72",
   "metadata": {},
   "outputs": [],
   "source": []
  }
 ],
 "metadata": {
  "kernelspec": {
   "display_name": "Python 3 (ipykernel)",
   "language": "python",
   "name": "python3"
  },
  "language_info": {
   "codemirror_mode": {
    "name": "ipython",
    "version": 3
   },
   "file_extension": ".py",
   "mimetype": "text/x-python",
   "name": "python",
   "nbconvert_exporter": "python",
   "pygments_lexer": "ipython3",
   "version": "3.8.10"
  }
 },
 "nbformat": 4,
 "nbformat_minor": 5
}
