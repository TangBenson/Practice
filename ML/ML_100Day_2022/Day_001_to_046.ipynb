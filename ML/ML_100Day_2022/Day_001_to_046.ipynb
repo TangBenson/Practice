{
 "cells": [
  {
   "cell_type": "markdown",
   "id": "004e9073-7438-4e9c-a924-41a0da12c686",
   "metadata": {},
   "source": [
    "# D1"
   ]
  },
  {
   "cell_type": "code",
   "execution_count": 1,
   "id": "67ef64e3-3df9-4001-bc9c-8b90b78a8799",
   "metadata": {},
   "outputs": [],
   "source": [
    "import numpy as np\n",
    "import matplotlib.pyplot as plt"
   ]
  },
  {
   "cell_type": "code",
   "execution_count": 4,
   "id": "f1829200-c34f-456e-b52e-4a2b168f16c4",
   "metadata": {},
   "outputs": [
    {
     "name": "stdout",
     "output_type": "stream",
     "text": [
      "<class 'numpy.ndarray'>\n"
     ]
    },
    {
     "data": {
      "text/plain": [
       "array([  0.,   1.,   2.,   3.,   4.,   5.,   6.,   7.,   8.,   9.,  10.,\n",
       "        11.,  12.,  13.,  14.,  15.,  16.,  17.,  18.,  19.,  20.,  21.,\n",
       "        22.,  23.,  24.,  25.,  26.,  27.,  28.,  29.,  30.,  31.,  32.,\n",
       "        33.,  34.,  35.,  36.,  37.,  38.,  39.,  40.,  41.,  42.,  43.,\n",
       "        44.,  45.,  46.,  47.,  48.,  49.,  50.,  51.,  52.,  53.,  54.,\n",
       "        55.,  56.,  57.,  58.,  59.,  60.,  61.,  62.,  63.,  64.,  65.,\n",
       "        66.,  67.,  68.,  69.,  70.,  71.,  72.,  73.,  74.,  75.,  76.,\n",
       "        77.,  78.,  79.,  80.,  81.,  82.,  83.,  84.,  85.,  86.,  87.,\n",
       "        88.,  89.,  90.,  91.,  92.,  93.,  94.,  95.,  96.,  97.,  98.,\n",
       "        99., 100.])"
      ]
     },
     "execution_count": 4,
     "metadata": {},
     "output_type": "execute_result"
    }
   ],
   "source": [
    "x_lin = np.linspace(0, 100, 101)\n",
    "print(type(x_lin))\n",
    "x_lin"
   ]
  },
  {
   "cell_type": "code",
   "execution_count": 6,
   "id": "48a282de-6196-4c7b-9ba3-e33f91d9495a",
   "metadata": {},
   "outputs": [
    {
     "name": "stdout",
     "output_type": "stream",
     "text": [
      "<class 'numpy.ndarray'>\n"
     ]
    },
    {
     "data": {
      "text/plain": [
       "array([  2.14562475,   9.45795057,   0.88145581,  16.97850985,\n",
       "         1.65853978,  10.96580537,   7.81256259,  20.93421309,\n",
       "        15.95678856,  22.76692709,  33.57178239,  37.31166099,\n",
       "        44.09754354,  74.76437089,  38.67874685,  35.11463334,\n",
       "        41.25152576,  38.80714547,  60.16361843,  58.15695197,\n",
       "        70.05101709,  76.7245334 ,  57.46758176,  64.6038974 ,\n",
       "        50.20587324,  77.5473353 ,  58.43238762,  62.99205921,\n",
       "        73.04700363,  98.73581477,  72.44507955,  92.9031281 ,\n",
       "       109.8444274 , 110.96529816,  82.16510302, 134.70424173,\n",
       "       114.14060043, 124.94886187, 137.72799057, 152.25405967,\n",
       "       115.48694287, 122.51005579, 115.03561727, 138.16445355,\n",
       "       122.96518186, 112.96341291, 136.80253698, 133.4442885 ,\n",
       "       141.46566904, 137.21212992, 156.7649104 , 160.84994748,\n",
       "       160.24470508, 133.6521631 , 169.16873361, 172.33411672,\n",
       "       174.80078644, 191.75361096, 177.87814189, 179.41962627,\n",
       "       170.3632102 , 171.0889959 , 158.49205006, 190.72363175,\n",
       "       207.02468062, 205.8821649 , 212.96866145, 204.41617116,\n",
       "       203.22283437, 185.44579427, 197.93610077, 237.61842514,\n",
       "       205.91144508, 266.38710215, 232.46796555, 228.16559312,\n",
       "       216.76124108, 235.32958293, 237.44125046, 241.98711756,\n",
       "       261.44274849, 243.65722594, 219.14429754, 264.53012018,\n",
       "       237.42908619, 246.93501091, 246.33420505, 254.6876652 ,\n",
       "       265.67428883, 271.92113949, 281.03423448, 293.55672992,\n",
       "       279.82110869, 284.83248117, 306.44544695, 290.02517733,\n",
       "       298.25994034, 285.32843554, 283.36881612, 308.96787841,\n",
       "       287.52486498])"
      ]
     },
     "execution_count": 6,
     "metadata": {},
     "output_type": "execute_result"
    }
   ],
   "source": [
    "y = (x_lin + np.random.randn(101) * 5) * 3 + 0.5\n",
    "print(type(y))\n",
    "y"
   ]
  },
  {
   "cell_type": "code",
   "execution_count": 8,
   "id": "daca2c19-98f6-412c-baa9-fb3ce073ca96",
   "metadata": {},
   "outputs": [
    {
     "data": {
      "image/png": "[encoded data removed]",
      "text/plain": [
       "<Figure size 432x288 with 1 Axes>"
      ]
     },
     "metadata": {
      "needs_background": "light"
     },
     "output_type": "display_data"
    }
   ],
   "source": [
    "plt.plot(x_lin, y, 'b.', label = 'data points')\n",
    "plt.title(\"Assume we have data points\")\n",
    "plt.legend(loc = 2)\n",
    "plt.show()"
   ]
  },
  {
   "cell_type": "code",
   "execution_count": null,
   "id": "f9a5e0f4-a3e9-4b17-a25e-393392d5600d",
   "metadata": {},
   "outputs": [],
   "source": []
  },
  {
   "cell_type": "code",
   "execution_count": null,
   "id": "bc60eed4-2804-432a-960f-30142b6a9dc6",
   "metadata": {},
   "outputs": [],
   "source": []
  },
  {
   "cell_type": "code",
   "execution_count": null,
   "id": "f0d62eac-bc2d-4cde-9530-b55f66585884",
   "metadata": {},
   "outputs": [],
   "source": []
  }
 ],
 "metadata": {
  "kernelspec": {
   "display_name": "Python 3 (ipykernel)",
   "language": "python",
   "name": "python3"
  },
  "language_info": {
   "codemirror_mode": {
    "name": "ipython",
    "version": 3
   },
   "file_extension": ".py",
   "mimetype": "text/x-python",
   "name": "python",
   "nbconvert_exporter": "python",
   "pygments_lexer": "ipython3",
   "version": "3.9.12"
  }
 },
 "nbformat": 4,
 "nbformat_minor": 5
}
