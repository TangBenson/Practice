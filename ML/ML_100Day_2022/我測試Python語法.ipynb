{
 "cells": [
  {
   "cell_type": "markdown",
   "id": "5144d77b",
   "metadata": {},
   "source": [
    "## module"
   ]
  },
  {
   "cell_type": "code",
   "execution_count": 1,
   "id": "cea2ff74",
   "metadata": {},
   "outputs": [],
   "source": [
    "import pandas as pd"
   ]
  },
  {
   "cell_type": "code",
   "execution_count": 2,
   "id": "8fa07e48",
   "metadata": {},
   "outputs": [
    {
     "data": {
      "text/plain": [
       "module"
      ]
     },
     "execution_count": 2,
     "metadata": {},
     "output_type": "execute_result"
    }
   ],
   "source": [
    "type(pd)"
   ]
  },
  {
   "cell_type": "code",
   "execution_count": 3,
   "id": "4f5f5893",
   "metadata": {},
   "outputs": [],
   "source": [
    "import time"
   ]
  },
  {
   "cell_type": "code",
   "execution_count": 4,
   "id": "950b14da",
   "metadata": {},
   "outputs": [
    {
     "data": {
      "text/plain": [
       "module"
      ]
     },
     "execution_count": 4,
     "metadata": {},
     "output_type": "execute_result"
    }
   ],
   "source": [
    "type(time)"
   ]
  },
  {
   "cell_type": "markdown",
   "id": "ceaf46f9",
   "metadata": {},
   "source": [
    "## class"
   ]
  },
  {
   "cell_type": "code",
   "execution_count": 19,
   "id": "420f34a7",
   "metadata": {},
   "outputs": [],
   "source": [
    "class Myclass:\n",
    "    x = 5\n",
    "    def __init__(self,name,age):\n",
    "        self.name = name\n",
    "        self.age = age\n",
    "    def ooxx():\n",
    "        print(\"ooxx\")"
   ]
  },
  {
   "cell_type": "code",
   "execution_count": 20,
   "id": "dfd75963",
   "metadata": {},
   "outputs": [
    {
     "data": {
      "text/plain": [
       "type"
      ]
     },
     "execution_count": 20,
     "metadata": {},
     "output_type": "execute_result"
    }
   ],
   "source": [
    "type(Myclass)"
   ]
  },
  {
   "cell_type": "code",
   "execution_count": 21,
   "id": "9ab9655f",
   "metadata": {},
   "outputs": [],
   "source": [
    "c1 = Myclass('Tang',\"32\")"
   ]
  },
  {
   "cell_type": "code",
   "execution_count": 22,
   "id": "928a5c48",
   "metadata": {},
   "outputs": [
    {
     "data": {
      "text/plain": [
       "__main__.Myclass"
      ]
     },
     "execution_count": 22,
     "metadata": {},
     "output_type": "execute_result"
    }
   ],
   "source": [
    "type(c1)"
   ]
  },
  {
   "cell_type": "code",
   "execution_count": 25,
   "id": "b6715b44",
   "metadata": {},
   "outputs": [
    {
     "data": {
      "text/plain": [
       "method"
      ]
     },
     "execution_count": 25,
     "metadata": {},
     "output_type": "execute_result"
    }
   ],
   "source": [
    "type(c1.ooxx)"
   ]
  },
  {
   "cell_type": "code",
   "execution_count": 26,
   "id": "9719fb51",
   "metadata": {},
   "outputs": [
    {
     "data": {
      "text/plain": [
       "int"
      ]
     },
     "execution_count": 26,
     "metadata": {},
     "output_type": "execute_result"
    }
   ],
   "source": [
    "type(c1.x)"
   ]
  },
  {
   "cell_type": "code",
   "execution_count": 27,
   "id": "b15d3163",
   "metadata": {},
   "outputs": [
    {
     "data": {
      "text/plain": [
       "str"
      ]
     },
     "execution_count": 27,
     "metadata": {},
     "output_type": "execute_result"
    }
   ],
   "source": [
    "type(c1.age)"
   ]
  },
  {
   "cell_type": "markdown",
   "id": "71d50dc0",
   "metadata": {},
   "source": [
    "## function"
   ]
  },
  {
   "cell_type": "code",
   "execution_count": 57,
   "id": "f16259b5",
   "metadata": {},
   "outputs": [],
   "source": [
    "def Myfunc():\n",
    "    print(\"Hi~\")"
   ]
  },
  {
   "cell_type": "code",
   "execution_count": 55,
   "id": "79e44373",
   "metadata": {},
   "outputs": [
    {
     "data": {
      "text/plain": [
       "function"
      ]
     },
     "execution_count": 55,
     "metadata": {},
     "output_type": "execute_result"
    }
   ],
   "source": [
    "type(Myfunc)"
   ]
  },
  {
   "cell_type": "markdown",
   "id": "81abe01c",
   "metadata": {},
   "source": [
    "##  函式都有closure屬性 "
   ]
  },
  {
   "cell_type": "code",
   "execution_count": 30,
   "id": "b5a23df7",
   "metadata": {},
   "outputs": [],
   "source": [
    "Myfunc.__closure__"
   ]
  },
  {
   "cell_type": "code",
   "execution_count": 31,
   "id": "d4a454e1",
   "metadata": {},
   "outputs": [],
   "source": [
    "c1.ooxx.__closure__"
   ]
  },
  {
   "cell_type": "markdown",
   "id": "0fe630bd",
   "metadata": {},
   "source": [
    "## 模組都有name屬性"
   ]
  },
  {
   "cell_type": "code",
   "execution_count": 32,
   "id": "3fdb2711",
   "metadata": {},
   "outputs": [
    {
     "data": {
      "text/plain": [
       "'pandas'"
      ]
     },
     "execution_count": 32,
     "metadata": {},
     "output_type": "execute_result"
    }
   ],
   "source": [
    "pd.__name__"
   ]
  },
  {
   "cell_type": "code",
   "execution_count": 33,
   "id": "71d12ef9",
   "metadata": {},
   "outputs": [
    {
     "data": {
      "text/plain": [
       "'time'"
      ]
     },
     "execution_count": 33,
     "metadata": {},
     "output_type": "execute_result"
    }
   ],
   "source": [
    "time.__name__"
   ]
  },
  {
   "cell_type": "markdown",
   "id": "c060ce0e",
   "metadata": {},
   "source": [
    "## 類別都有new和init方法"
   ]
  },
  {
   "cell_type": "code",
   "execution_count": 38,
   "id": "c82a27ae",
   "metadata": {},
   "outputs": [
    {
     "data": {
      "text/plain": [
       "<function object.__new__(*args, **kwargs)>"
      ]
     },
     "execution_count": 38,
     "metadata": {},
     "output_type": "execute_result"
    }
   ],
   "source": [
    "Myclass.__new__"
   ]
  },
  {
   "cell_type": "code",
   "execution_count": 39,
   "id": "5b573eb0",
   "metadata": {},
   "outputs": [
    {
     "data": {
      "text/plain": [
       "<function __main__.Myclass.__init__(self, name, age)>"
      ]
     },
     "execution_count": 39,
     "metadata": {},
     "output_type": "execute_result"
    }
   ],
   "source": [
    "Myclass.__init__"
   ]
  },
  {
   "cell_type": "markdown",
   "id": "6c4f7958",
   "metadata": {},
   "source": [
    "## 查看成員（包括變數、函式和類別）"
   ]
  },
  {
   "cell_type": "code",
   "execution_count": 40,
   "id": "a99cc875",
   "metadata": {
    "scrolled": true
   },
   "outputs": [
    {
     "data": {
      "text/plain": [
       "['__annotations__',\n",
       " '__call__',\n",
       " '__class__',\n",
       " '__closure__',\n",
       " '__code__',\n",
       " '__defaults__',\n",
       " '__delattr__',\n",
       " '__dict__',\n",
       " '__dir__',\n",
       " '__doc__',\n",
       " '__eq__',\n",
       " '__format__',\n",
       " '__ge__',\n",
       " '__get__',\n",
       " '__getattribute__',\n",
       " '__globals__',\n",
       " '__gt__',\n",
       " '__hash__',\n",
       " '__init__',\n",
       " '__init_subclass__',\n",
       " '__kwdefaults__',\n",
       " '__le__',\n",
       " '__lt__',\n",
       " '__module__',\n",
       " '__name__',\n",
       " '__ne__',\n",
       " '__new__',\n",
       " '__qualname__',\n",
       " '__reduce__',\n",
       " '__reduce_ex__',\n",
       " '__repr__',\n",
       " '__setattr__',\n",
       " '__sizeof__',\n",
       " '__str__',\n",
       " '__subclasshook__']"
      ]
     },
     "execution_count": 40,
     "metadata": {},
     "output_type": "execute_result"
    }
   ],
   "source": [
    "dir(Myfunc)"
   ]
  },
  {
   "cell_type": "code",
   "execution_count": 45,
   "id": "321cdf39",
   "metadata": {},
   "outputs": [
    {
     "data": {
      "text/plain": [
       "['__class__',\n",
       " '__delattr__',\n",
       " '__dict__',\n",
       " '__dir__',\n",
       " '__doc__',\n",
       " '__eq__',\n",
       " '__format__',\n",
       " '__ge__',\n",
       " '__getattribute__',\n",
       " '__gt__',\n",
       " '__hash__',\n",
       " '__init__',\n",
       " '__init_subclass__',\n",
       " '__le__',\n",
       " '__lt__',\n",
       " '__module__',\n",
       " '__ne__',\n",
       " '__new__',\n",
       " '__reduce__',\n",
       " '__reduce_ex__',\n",
       " '__repr__',\n",
       " '__setattr__',\n",
       " '__sizeof__',\n",
       " '__str__',\n",
       " '__subclasshook__',\n",
       " '__weakref__',\n",
       " 'ooxx',\n",
       " 'x']"
      ]
     },
     "execution_count": 45,
     "metadata": {},
     "output_type": "execute_result"
    }
   ],
   "source": [
    "dir(Myclass)"
   ]
  },
  {
   "cell_type": "code",
   "execution_count": 51,
   "id": "3c9bdb7f",
   "metadata": {},
   "outputs": [
    {
     "data": {
      "text/plain": [
       "{}"
      ]
     },
     "execution_count": 51,
     "metadata": {},
     "output_type": "execute_result"
    }
   ],
   "source": [
    "Myfunc.__dict__"
   ]
  },
  {
   "cell_type": "code",
   "execution_count": 47,
   "id": "99079bf0",
   "metadata": {},
   "outputs": [
    {
     "data": {
      "text/plain": [
       "mappingproxy({'__module__': '__main__',\n",
       "              'x': 5,\n",
       "              '__init__': <function __main__.Myclass.__init__(self, name, age)>,\n",
       "              'ooxx': <function __main__.Myclass.ooxx()>,\n",
       "              '__dict__': <attribute '__dict__' of 'Myclass' objects>,\n",
       "              '__weakref__': <attribute '__weakref__' of 'Myclass' objects>,\n",
       "              '__doc__': None})"
      ]
     },
     "execution_count": 47,
     "metadata": {},
     "output_type": "execute_result"
    }
   ],
   "source": [
    "Myclass.__dict__"
   ]
  },
  {
   "cell_type": "code",
   "execution_count": null,
   "id": "c2dba928",
   "metadata": {},
   "outputs": [],
   "source": []
  }
 ],
 "metadata": {
  "kernelspec": {
   "display_name": "Python 3 (ipykernel)",
   "language": "python",
   "name": "python3"
  },
  "language_info": {
   "codemirror_mode": {
    "name": "ipython",
    "version": 3
   },
   "file_extension": ".py",
   "mimetype": "text/x-python",
   "name": "python",
   "nbconvert_exporter": "python",
   "pygments_lexer": "ipython3",
   "version": "3.9.12"
  }
 },
 "nbformat": 4,
 "nbformat_minor": 5
}
