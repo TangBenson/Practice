{
 "cells": [
  {
   "cell_type": "markdown",
   "id": "a9b54a96-cb28-4977-9e2a-4ce1f861ab34",
   "metadata": {},
   "source": [
    "#### Python讀取資料夾下的所有檔案"
   ]
  },
  {
   "cell_type": "code",
   "execution_count": null,
   "id": "ac066fbf-a5a7-4ab1-b25b-eb1c14777321",
   "metadata": {},
   "outputs": [],
   "source": [
    "# import os\n",
    "# path = \"../Videos\" #資料夾目錄\n",
    "# files= os.listdir(path) #得到資料夾下的所有檔名稱\n",
    "# s = []\n",
    "# for file in files: #遍歷資料夾\n",
    "#     if not os.path.isdir(file): #判斷是否是資料夾，不是資料夾才開啟\n",
    "#         f = open(path+\"/\"+file); #開啟檔案\n",
    "#         iter_f = iter(f); #建立迭代器\n",
    "#         str = \"\"\n",
    "#         for line in iter_f: #遍歷檔案，一行行遍歷，讀取文字\n",
    "#             str = str + line\n",
    "#         s.append(str) #每個檔案的文字存到list中\n",
    "# print(s) #列印結果"
   ]
  },
  {
   "cell_type": "code",
   "execution_count": null,
   "id": "3ed90c63-9565-441a-970e-54eaa9d789ef",
   "metadata": {
    "tags": []
   },
   "outputs": [],
   "source": [
    "import pandas as pd\n",
    "import warnings\n",
    "warnings.filterwarnings('ignore')\n",
    "import os"
   ]
  },
  {
   "cell_type": "code",
   "execution_count": null,
   "id": "16b63f87-2c6f-410d-a377-52da61dfb149",
   "metadata": {},
   "outputs": [],
   "source": [
    "whatFile = input('please enter year 2018 or 2019')"
   ]
  },
  {
   "cell_type": "code",
   "execution_count": null,
   "id": "cb0ceecd-6411-4346-a9bd-0b1e1ad5c99d",
   "metadata": {},
   "outputs": [],
   "source": [
    "whatFile"
   ]
  },
  {
   "cell_type": "code",
   "execution_count": null,
   "id": "856a0b45-3ec6-4ea1-bb99-692aa3f0abf1",
   "metadata": {},
   "outputs": [],
   "source": [
    "df_station = pd.read_csv('./data/TempHisStation.csv')\n",
    "df_station.head(2)"
   ]
  },
  {
   "cell_type": "code",
   "execution_count": null,
   "id": "ce60c5b7-9c23-4387-ab4d-4d6c9a9e1006",
   "metadata": {
    "tags": []
   },
   "outputs": [],
   "source": [
    "path = f\"./data/TempHis{whatFile}/\" #資料夾目錄\n",
    "files= os.listdir(path) #得到資料夾下的所有檔名稱\n",
    "df = pd.read_csv(f'./data/TempHis{whatFile}/{files[0]}',index_col=[x for x in range(35)]) #月有30或31天，但我設一個大過的數會自動抓完\n",
    "df.head()"
   ]
  },
  {
   "cell_type": "code",
   "execution_count": null,
   "id": "50bea6a9-aefe-453b-bbec-d77ab1dced50",
   "metadata": {
    "tags": []
   },
   "outputs": [],
   "source": [
    "# 檢查index發現是複合的，我一直以為是沒有index...\n",
    "df.index"
   ]
  },
  {
   "cell_type": "code",
   "execution_count": null,
   "id": "9908cf0f-6af8-402e-847b-c733f891bcca",
   "metadata": {
    "tags": []
   },
   "outputs": [],
   "source": [
    "df.columns"
   ]
  },
  {
   "cell_type": "code",
   "execution_count": null,
   "id": "a4fb4e09-22a4-4ddc-9ce5-6494ff90815d",
   "metadata": {
    "tags": []
   },
   "outputs": [],
   "source": [
    "# 重制index，變成我能看懂的\n",
    "df = df.reset_index()\n",
    "df.head(3)"
   ]
  },
  {
   "cell_type": "code",
   "execution_count": null,
   "id": "d33844d0-41e6-4aec-933f-9435508606e3",
   "metadata": {
    "tags": []
   },
   "outputs": [],
   "source": [
    "df.index"
   ]
  },
  {
   "cell_type": "code",
   "execution_count": null,
   "id": "39b6231d-9abb-40a1-82ce-15f0626df759",
   "metadata": {
    "tags": []
   },
   "outputs": [],
   "source": [
    "df.columns"
   ]
  },
  {
   "cell_type": "code",
   "execution_count": null,
   "id": "6b9d7deb-2ad7-4b31-80d2-314f74fe8aec",
   "metadata": {
    "tags": []
   },
   "outputs": [],
   "source": [
    "#修改columns名稱，用第1列來表示\n",
    "df.columns = list(df.iloc[0])\n",
    "df.head(3)"
   ]
  },
  {
   "cell_type": "code",
   "execution_count": null,
   "id": "00bc8b66-48df-482e-badd-b68eddf668d6",
   "metadata": {
    "tags": []
   },
   "outputs": [],
   "source": [
    "# 刪除前兩列說明\n",
    "df = df.drop(index=[0,1])\n",
    "df.head(3)"
   ]
  },
  {
   "cell_type": "code",
   "execution_count": null,
   "id": "c9d47377-a209-478f-a95c-e8d455fd0736",
   "metadata": {
    "tags": []
   },
   "outputs": [],
   "source": [
    "# 加入一行，若是加入一列要用df.loc[index名稱]=\n",
    "df['觀測站'] = files[0][:6]\n",
    "df.head(3)"
   ]
  },
  {
   "cell_type": "markdown",
   "id": "f7c9d9a6-3477-43b3-b2e2-312d0480acca",
   "metadata": {},
   "source": [
    "#### 接著用for把剩餘的csv全加進去"
   ]
  },
  {
   "cell_type": "code",
   "execution_count": null,
   "id": "0b0fa87c-6102-4826-9061-2b7f36e26ef1",
   "metadata": {},
   "outputs": [],
   "source": [
    "files = os.listdir(f'./data/TempHis{whatFile}/')\n",
    "\n",
    "for file in files[1:]:\n",
    "    if not os.path.isdir(file): #判斷是否是資料夾，不是資料夾才開啟\n",
    "        df_tmp = pd.read_csv(f'./data/TempHis{whatFile}/{files[files.index(file)]}',index_col=[x for x in range(35)])\n",
    "        df_tmp = df_tmp.reset_index()\n",
    "        df_tmp.columns = list(df_tmp.iloc[0])\n",
    "        df_tmp = df_tmp.drop(index=[0,1])\n",
    "        df_tmp['觀測站'] = file[:6]\n",
    "        df = pd.concat([df,df_tmp])\n",
    "        "
   ]
  },
  {
   "cell_type": "code",
   "execution_count": null,
   "id": "7da36f35-f116-48f1-bcc8-8c07c3498e9d",
   "metadata": {},
   "outputs": [],
   "source": [
    "# 我pandas真是有夠不熟...幹！！\n",
    "# 篩選觀測站466940的資料\n",
    "# 這只是練習，和清洗無關\n",
    "# df[(df['觀測站']=='466940')]"
   ]
  },
  {
   "cell_type": "code",
   "execution_count": null,
   "id": "623fd491-2091-4527-adb4-14c785695458",
   "metadata": {},
   "outputs": [],
   "source": [
    "df.head(1)"
   ]
  },
  {
   "cell_type": "markdown",
   "id": "faacf392-3983-4c71-9973-4e6179bca073",
   "metadata": {},
   "source": [
    "### 接著把df樣式改成匯入tb_weather的樣式"
   ]
  },
  {
   "cell_type": "code",
   "execution_count": null,
   "id": "9a9fdb81-8bc1-4160-a23c-797393098a6c",
   "metadata": {
    "tags": []
   },
   "outputs": [],
   "source": [
    "# # df[df['觀測站']=='466940']['觀測站'] = '基隆' # 這樣不行\n",
    "# df.loc[df['觀測站']=='466940','觀測站']='基隆'\n",
    "# df.loc[df['觀測站']=='C0AI30','觀測站']='三重'\n",
    "# df.loc[df['觀測站']=='C0A640','觀測站']='石碇'\n",
    "# df.loc[df['觀測站']=='C0C590','觀測站']='觀音'\n",
    "# df.loc[df['觀測站']=='C0AH00','觀測站']='汐止'\n",
    "# df.loc[df['觀測站']=='466880','觀測站']='板橋'\n",
    "# df.loc[df['觀測站']=='C0A530','觀測站']='坪林'\n",
    "\n",
    "# df.loc[df['觀測站']=='C0A9C0','觀測站']='天母'\n",
    "# df.loc[df['觀測站']=='C0AI00','觀測站']='五股'\n",
    "# df.loc[df['觀測站']=='C0C620','觀測站']='蘆竹'\n",
    "# df.loc[df['觀測站']=='C1AC50','觀測站']='關渡'\n",
    "# df.loc[df['觀測站']=='C0AC60','觀測站']='三峽'\n",
    "# df.loc[df['觀測站']=='466920','觀測站']='臺北'\n",
    "\n",
    "# df.loc[df['觀測站']=='C0C670','觀測站']='龍潭'\n",
    "# df.loc[df['觀測站']=='C0C630','觀測站']='大溪'\n",
    "# df.loc[df['觀測站']=='466900','觀測站']='淡水'\n",
    "# df.loc[df['觀測站']=='C0C660','觀測站']='楊梅'\n",
    "# df.loc[df['觀測站']=='C0A570','觀測站']='桶後'\n",
    "# df.loc[df['觀測站']=='C0C650','觀測站']='平鎮'\n",
    "# df.loc[df['觀測站']=='C0A980','觀測站']='社子'\n",
    "# df.loc[df['觀測站']=='C0B010','觀測站']='七堵'\n",
    "# df.loc[df['觀測站']=='C0C490','觀測站']='八德'\n",
    "# df.loc[df['觀測站']=='466930','觀測站']='竹子湖'\n",
    "# df.loc[df['觀測站']=='C0AH80','觀測站']='深坑'\n",
    "# df.loc[df['觀測站']=='C0A940','觀測站']='金山'\n",
    "# df.loc[df['觀測站']=='C0A660','觀測站']='瑞芳'\n",
    "# df.loc[df['觀測站']=='C0AH70','觀測站']='松山'\n",
    "# df.loc[df['觀測站']=='466910','觀測站']='鞍部'\n",
    "# df.loc[df['觀測站']=='C0C700','觀測站']='中壢'\n",
    "# df.loc[df['觀測站']=='C0AG80','觀測站']='中和'\n",
    "# df.loc[df['觀測站']=='C0AC80','觀測站']='文山'\n",
    "# df.loc[df['觀測站']=='C0AH50','觀測站']='林口'\n",
    "# df.loc[df['觀測站']=='C0A880','觀測站']='福隆'\n",
    "# df.loc[df['觀測站']=='C0C460','觀測站']='復興'\n",
    "# df.loc[df['觀測站']=='C0A890','觀測站']='雙溪'\n",
    "# df.loc[df['觀測站']=='C0C540','觀測站']='大園'\n",
    "# df.loc[df['觀測站']=='C0A9F0','觀測站']='內湖'\n",
    "# df.loc[df['觀測站']=='C0AC70','觀測站']='信義'\n",
    "# df.loc[df['觀測站']=='C0C480','觀測站']='桃園'\n",
    "# df.loc[df['觀測站']=='C0C680','觀測站']='龜山'\n",
    "# df.loc[df['觀測站']=='C0A770','觀測站']='士林'\n",
    "# df.loc[df['觀測站']=='C0AH10','觀測站']='永和'\n",
    "# df.loc[df['觀測站']=='C0ACA0','觀測站']='新莊'\n",
    "# df.loc[df['觀測站']=='C0AD30','觀測站']='蘆洲'"
   ]
  },
  {
   "cell_type": "code",
   "execution_count": null,
   "id": "777f665f-c954-4d69-b4c2-c5efa3e8b539",
   "metadata": {
    "tags": []
   },
   "outputs": [],
   "source": [
    "#改index名稱\n",
    "df.index = df['觀測站']"
   ]
  },
  {
   "cell_type": "code",
   "execution_count": null,
   "id": "ac43fc10-50f5-4e1a-89cf-f56378489964",
   "metadata": {
    "tags": []
   },
   "outputs": [],
   "source": [
    "df.head(2)"
   ]
  },
  {
   "cell_type": "code",
   "execution_count": null,
   "id": "87fb34ab-03ab-4f3e-9a14-26177a50462b",
   "metadata": {
    "tags": []
   },
   "outputs": [],
   "source": [
    "#把第一行的值改掉\n",
    "df['觀測時間(day)'] = df['測站最高氣壓時間(LST)']\n",
    "df.head(2)"
   ]
  },
  {
   "cell_type": "code",
   "execution_count": null,
   "id": "7df9d01c-3c81-4917-943c-bd623fb85ff7",
   "metadata": {
    "tags": []
   },
   "outputs": [],
   "source": [
    "#把第一行的值只取年月日\n",
    "for i in range(len(df['觀測時間(day)'])):\n",
    "    df['觀測時間(day)'][i] = df['觀測時間(day)'][i][:10]\n",
    "df.head(2)"
   ]
  },
  {
   "cell_type": "code",
   "execution_count": null,
   "id": "5e979fe4-39b3-4100-9bf0-656f250aa2a7",
   "metadata": {
    "tags": []
   },
   "outputs": [],
   "source": [
    "#df[欄位名]　    只顯示所有資料的該欄位 = df.loc[:,欄位名]\n",
    "#df.iloc[ｎ]　  列出第ｎ筆；df.iloc[:5]=df.head()；df.iloc[:5,:2]＝顯示前５筆前２個欄位\n",
    "#df.loc[索引名]　列出所有筆該索引的資料；df.loc['三重','測站氣壓(hPa)']＝索引是三重、欄位只顯示測站氣壓(hPa)"
   ]
  },
  {
   "cell_type": "code",
   "execution_count": null,
   "id": "9a607a64-7bc9-4921-8546-89b3efc8d0a5",
   "metadata": {
    "tags": []
   },
   "outputs": [],
   "source": [
    "# 用某些 column 值來取某些 row 的時候，可以用 df[(df.a>10)|(df.b==3.0)]，但在資料行數（row數）\n",
    "# 很大的時候官方建議使用 query()來取用某些行，例子如下 df1=df.query('a>10 or b==3.0')，\n",
    "# 也可以用符號 @把 local variables 拿進篩選條件中來使用，在去除資料 outlier 的時候很有用，例子如\n",
    "# mean_a = df['a'].mean()\n",
    "# std_a = df['a'].std()\n",
    "# df=df.query('abs(a-@std_a)<5*@std_a')"
   ]
  },
  {
   "cell_type": "code",
   "execution_count": null,
   "id": "55827285-81d6-4770-96cf-ca123da92aec",
   "metadata": {
    "tags": []
   },
   "outputs": [],
   "source": [
    "# 在處理 column 間的數值處理時，我們會使用如 df[d]=df[a]+df[b]/df[c]，在資料行數 row 不夠大的時候上述方法比較快，\n",
    "# 但在資料行數萬筆以上的情況下 pandas 官方建議使用 eval()函數來處理，可有較快的速度，上面的例子變成 df.eval('d=a+b/c',inplace=True)\n",
    "# 或是 df['d']=pd.eval(\"(df.a+df.b)/df.c\")"
   ]
  },
  {
   "cell_type": "code",
   "execution_count": null,
   "id": "6e3ba740-20bb-484e-afef-c6f8bbfdec3f",
   "metadata": {},
   "outputs": [],
   "source": [
    "#刪除行\n",
    "df = df.drop(['海平面氣壓(hPa)'],axis=1)\n",
    "df = df.drop(['測站最高氣壓時間(LST)'],axis=1)\n",
    "df = df.drop(['測站最高氣壓(hPa)'],axis=1)\n",
    "df = df.drop(['測站最低氣壓(hPa)'],axis=1)\n",
    "df = df.drop(['測站最低氣壓時間(LST)'],axis=1)\n",
    "df = df.drop(['最高氣溫(℃)'],axis=1)\n",
    "df = df.drop(['最高氣溫時間(LST)'],axis=1)\n",
    "df = df.drop(['最低氣溫(℃)'],axis=1)\n",
    "df = df.drop(['最低氣溫時間(LST)'],axis=1)\n",
    "df = df.drop(['最小相對溼度(%)'],axis=1)\n",
    "df = df.drop(['最小相對溼度時間(LST)'],axis=1)\n",
    "df = df.drop(['最大陣風(m/s)'],axis=1)\n",
    "df = df.drop(['最大陣風風向(360degree)'],axis=1)\n",
    "df = df.drop(['最大陣風風速時間(LST)'],axis=1)\n",
    "df = df.drop(['最大十分鐘降水量(mm)'],axis=1)\n",
    "df = df.drop(['最大十分鐘降水量起始時間(LST)'],axis=1)\n",
    "df = df.drop(['最大六十分鐘降水量(mm)'],axis=1)\n",
    "df = df.drop(['最大六十分鐘降水量起始時間(LST)'],axis=1)\n",
    "df = df.drop(['全天空日射量(MJ/㎡)'],axis=1)\n",
    "df = df.drop(['能見度(km)'],axis=1)\n",
    "df = df.drop(['A型蒸發量(mm)'],axis=1)\n",
    "df = df.drop(['日最高紫外線指數'],axis=1)\n",
    "df = df.drop(['日最高紫外線指數時間(LST)'],axis=1)\n",
    "df = df.drop(['總雲量(0~10)'],axis=1)\n",
    "df = df.drop(['測站氣壓(hPa)'],axis=1)\n",
    "df = df.drop(['露點溫度(℃)'],axis=1)\n",
    "df = df.drop(['風向(360degree)'],axis=1)\n",
    "df = df.drop(['降水時數(hour)'],axis=1)\n",
    "df = df.drop(['日照時數(hour)'],axis=1)\n",
    "df = df.drop(['日照率(%)'],axis=1)"
   ]
  },
  {
   "cell_type": "code",
   "execution_count": null,
   "id": "52139260-9c7e-471b-bbb9-f0ece0f1d43d",
   "metadata": {},
   "outputs": [],
   "source": [
    "df.head(2)"
   ]
  },
  {
   "cell_type": "code",
   "execution_count": null,
   "id": "56b8addd-77b5-4fc2-bdaf-8856aedd3851",
   "metadata": {},
   "outputs": [],
   "source": [
    "df_station.head(1)"
   ]
  },
  {
   "cell_type": "code",
   "execution_count": null,
   "id": "5d94fb4d-6665-4e97-ae02-5c0b2355d698",
   "metadata": {},
   "outputs": [],
   "source": [
    "#改index名稱\n",
    "df_station.index = df_station['站號']"
   ]
  },
  {
   "cell_type": "code",
   "execution_count": null,
   "id": "3d052e45-6bea-4af5-9323-605c2f00f509",
   "metadata": {},
   "outputs": [],
   "source": [
    "df_station.head(1)"
   ]
  },
  {
   "cell_type": "code",
   "execution_count": null,
   "id": "95d58143-41b4-4f75-8c81-784c7f22b5e9",
   "metadata": {},
   "outputs": [],
   "source": [
    "#新增地點說明欄位資訊\n",
    "df['站名'] = [df_station.loc[df.iloc[i]['觀測站']]['站名'] for i in range(len(df))]\n",
    "df['經度'] = [df_station.loc[df.iloc[i]['觀測站']]['經度'] for i in range(len(df))]\n",
    "df['緯度'] = [df_station.loc[df.iloc[i]['觀測站']]['緯度'] for i in range(len(df))]\n",
    "df['城市'] = [df_station.loc[df.iloc[i]['觀測站']]['城市'] for i in range(len(df))]\n",
    "df['地址'] = [df_station.loc[df.iloc[i]['觀測站']]['地址'] for i in range(len(df))]"
   ]
  },
  {
   "cell_type": "code",
   "execution_count": null,
   "id": "c416fed9-a3ce-4054-ae45-c6e346abc2cd",
   "metadata": {},
   "outputs": [],
   "source": [
    "df.info()"
   ]
  },
  {
   "cell_type": "code",
   "execution_count": null,
   "id": "a232891d-2968-4d21-aa78-160be0ea439b",
   "metadata": {
    "tags": []
   },
   "outputs": [],
   "source": [
    "#交換 DataFrame 的 column 順序\n",
    "# cols = df.columns.to_list()#拿到 column list\n",
    "# cols = ['觀測時間(day)','風速(m/s)','風向(360degree)','氣溫(℃)','相對溼度(%)','測站氣壓(hPa)','降水量(mm)','降水時數(hour)','露點溫度(℃)','日照時數(hour)','日照率(%)','觀測站']\n",
    "# df = df[cols]　#套用新的column 順序，但只要資料量很大會出問題（SyntaxError: invalid character in identifier）\n",
    "#找不到解法，不換了，幹！"
   ]
  },
  {
   "cell_type": "code",
   "execution_count": null,
   "id": "d1459198-52c5-4601-9a7a-5d6249b811bf",
   "metadata": {},
   "outputs": [],
   "source": [
    "#找出有空值的列\n",
    "# df[df['觀測時間(day)'].isna()==True]\n",
    "df[df['觀測時間(day)']=='...']"
   ]
  },
  {
   "cell_type": "code",
   "execution_count": null,
   "id": "3f79a8e4-f37a-4380-93ee-4925fa6d88e8",
   "metadata": {},
   "outputs": [],
   "source": [
    "lst_sql = df.values.tolist()\n",
    "lst_sql[0]"
   ]
  },
  {
   "cell_type": "code",
   "execution_count": null,
   "id": "463d8dc3-3fdf-4837-b9bc-53447cce9dea",
   "metadata": {},
   "outputs": [],
   "source": [
    "# 轉成list的資料不知為何出現\\xa0結尾，故把它幹掉\n",
    "for i in range(len(lst_sql)):\n",
    "    for j in range(5):\n",
    "        lst_sql[i][j] = lst_sql[i][j].replace(u'\\xa0', u'')\n",
    "\n",
    "#...資料變空值\n",
    "for i in range(len(lst_sql)):\n",
    "    for j in range(5):\n",
    "        lst_sql[i][j] = lst_sql[i][j].replace(u'...', u'')\n",
    "\n",
    "for i in range(len(lst_sql)):\n",
    "    for j in range(5):\n",
    "        lst_sql[i][j] = lst_sql[i][j].replace(u'X', u'')\n",
    "\n",
    "for i in range(len(lst_sql)):\n",
    "    for j in range(5):\n",
    "        lst_sql[i][j] = lst_sql[i][j].replace(u'T', u'')\n",
    "        \n",
    "for i in range(len(lst_sql)):\n",
    "    for j in range(5):\n",
    "        lst_sql[i][j] = lst_sql[i][j].replace(u'/', u'')\n",
    "        \n",
    "for i in range(len(lst_sql)):\n",
    "    for j in range(5):\n",
    "        lst_sql[i][j] = lst_sql[i][j].replace(u'&', u'')"
   ]
  },
  {
   "cell_type": "code",
   "execution_count": null,
   "id": "6d56d65a-01a2-47b8-8fac-ccf72767be6f",
   "metadata": {},
   "outputs": [],
   "source": [
    "lst_sql[0]"
   ]
  },
  {
   "cell_type": "code",
   "execution_count": null,
   "id": "e3973244-0525-41f0-8054-7254d9655a30",
   "metadata": {},
   "outputs": [],
   "source": [
    "import pyodbc\n",
    "\n",
    "#連線\n",
    "server = 'sqyhi03az.database.windows.net'\n",
    "username = 'irentadmin'\n",
    "password = 'hims@QaWsEd'\n",
    "database = 'IRENT_V2'\n",
    "driver = '{ODBC Driver 17 for SQL Server}'\n",
    "# connectionString = 'DRIVER={0};PORT=1433;SERVER={1};DATABASE={2};UID={3};PWD={4}'.format(driver, server, database, username, password)\n",
    "connectionString = f'DRIVER={driver};PORT=1433;SERVER={server};DATABASE={database};UID={username};PWD={password}'\n",
    "cnxn = pyodbc.connect(connectionString)\n",
    "cursor = cnxn.cursor()\n",
    "\n",
    "for i in range(len(lst_sql)):\n",
    "    with open(\"log.txt\",\"a\") as file: #寫入不覆蓋，一直寫下去\n",
    "        file.write(f'{lst_sql[i]}\\n')\n",
    "        \n",
    "    if lst_sql[i][0]!='':\n",
    "        insertSql = f\"insert into TB_WeatherHis(day,temp,wet,windspeed,rain,station,stationNAME,lon,lat,city,address)\\\n",
    "        values ('{lst_sql[i][0]}','{lst_sql[i][1]}','{lst_sql[i][2]}','{lst_sql[i][3]}','{lst_sql[i][4]}','{lst_sql[i][5]}'\\\n",
    "        ,'{lst_sql[i][6]}','{lst_sql[i][7]}','{lst_sql[i][8]}','{lst_sql[i][9]}','{lst_sql[i][10]}')\"\n",
    "        cursor.execute(insertSql) # 執行\n",
    "    \n",
    "cursor.commit()\n",
    "cnxn.close()"
   ]
  },
  {
   "cell_type": "code",
   "execution_count": null,
   "id": "1dac576d-9e91-4bd9-8c7b-c4f5f08da650",
   "metadata": {},
   "outputs": [],
   "source": []
  },
  {
   "cell_type": "code",
   "execution_count": null,
   "id": "9242750d-f648-48d2-b675-06f3d3550e91",
   "metadata": {},
   "outputs": [],
   "source": []
  }
 ],
 "metadata": {
  "kernelspec": {
   "display_name": "Python 3 (ipykernel)",
   "language": "python",
   "name": "python3"
  },
  "language_info": {
   "codemirror_mode": {
    "name": "ipython",
    "version": 3
   },
   "file_extension": ".py",
   "mimetype": "text/x-python",
   "name": "python",
   "nbconvert_exporter": "python",
   "pygments_lexer": "ipython3",
   "version": "3.8.10"
  }
 },
 "nbformat": 4,
 "nbformat_minor": 5
}
