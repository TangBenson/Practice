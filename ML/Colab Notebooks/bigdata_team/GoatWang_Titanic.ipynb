{
 "cells": [
  {
   "cell_type": "code",
   "execution_count": 2,
   "id": "0d896c80-0ba5-4ea8-80cb-65b55b4b0dd1",
   "metadata": {},
   "outputs": [],
   "source": [
    "import pandas as pd\n",
    "import numpy as np\n",
    "from collections import Counter\n",
    "import re\n",
    "\n",
    "from sklearn import preprocessing\n",
    "\n",
    "import matplotlib.pyplot as plt\n",
    "from mpl_toolkits.mplot3d import Axes3D\n",
    "from sklearn.decomposition import PCA\n",
    "\n",
    "import seaborn as sns\n",
    "sns.set()\n",
    "%matplotlib inline\n",
    "import string\n",
    "\n",
    "import os \n",
    "from datetime import datetime\n",
    "import random\n",
    "import math\n",
    "\n",
    "# from sklearn.cross_validation import train_test_split"
   ]
  },
  {
   "cell_type": "code",
   "execution_count": 3,
   "id": "b353bc4b-a36d-4225-960b-24f59e1c8741",
   "metadata": {},
   "outputs": [
    {
     "name": "stdout",
     "output_type": "stream",
     "text": [
      "<class 'pandas.core.frame.DataFrame'>\n",
      "RangeIndex: 891 entries, 0 to 890\n",
      "Data columns (total 12 columns):\n",
      " #   Column       Non-Null Count  Dtype  \n",
      "---  ------       --------------  -----  \n",
      " 0   PassengerId  891 non-null    int64  \n",
      " 1   Survived     891 non-null    int64  \n",
      " 2   Pclass       891 non-null    int64  \n",
      " 3   Name         891 non-null    object \n",
      " 4   Sex          891 non-null    object \n",
      " 5   Age          714 non-null    float64\n",
      " 6   SibSp        891 non-null    int64  \n",
      " 7   Parch        891 non-null    int64  \n",
      " 8   Ticket       891 non-null    object \n",
      " 9   Fare         891 non-null    float64\n",
      " 10  Cabin        204 non-null    object \n",
      " 11  Embarked     889 non-null    object \n",
      "dtypes: float64(2), int64(5), object(5)\n",
      "memory usage: 83.7+ KB\n"
     ]
    }
   ],
   "source": [
    "df = pd.read_csv(\"~/bigdata_team/data/Titanic/train.csv\")\n",
    "df.info()"
   ]
  },
  {
   "cell_type": "code",
   "execution_count": 4,
   "id": "ee7250b7-9cbd-4343-a260-f53d53535230",
   "metadata": {},
   "outputs": [
    {
     "data": {
      "text/html": [
       "<div>\n",
       "<style scoped>\n",
       "    .dataframe tbody tr th:only-of-type {\n",
       "        vertical-align: middle;\n",
       "    }\n",
       "\n",
       "    .dataframe tbody tr th {\n",
       "        vertical-align: top;\n",
       "    }\n",
       "\n",
       "    .dataframe thead th {\n",
       "        text-align: right;\n",
       "    }\n",
       "</style>\n",
       "<table border=\"1\" class=\"dataframe\">\n",
       "  <thead>\n",
       "    <tr style=\"text-align: right;\">\n",
       "      <th></th>\n",
       "      <th>PassengerId</th>\n",
       "      <th>Survived</th>\n",
       "      <th>Pclass</th>\n",
       "      <th>Age</th>\n",
       "      <th>SibSp</th>\n",
       "      <th>Parch</th>\n",
       "      <th>Fare</th>\n",
       "    </tr>\n",
       "  </thead>\n",
       "  <tbody>\n",
       "    <tr>\n",
       "      <th>count</th>\n",
       "      <td>891.000000</td>\n",
       "      <td>891.000000</td>\n",
       "      <td>891.000000</td>\n",
       "      <td>714.000000</td>\n",
       "      <td>891.000000</td>\n",
       "      <td>891.000000</td>\n",
       "      <td>891.000000</td>\n",
       "    </tr>\n",
       "    <tr>\n",
       "      <th>mean</th>\n",
       "      <td>446.000000</td>\n",
       "      <td>0.383838</td>\n",
       "      <td>2.308642</td>\n",
       "      <td>29.699118</td>\n",
       "      <td>0.523008</td>\n",
       "      <td>0.381594</td>\n",
       "      <td>32.204208</td>\n",
       "    </tr>\n",
       "    <tr>\n",
       "      <th>std</th>\n",
       "      <td>257.353842</td>\n",
       "      <td>0.486592</td>\n",
       "      <td>0.836071</td>\n",
       "      <td>14.526497</td>\n",
       "      <td>1.102743</td>\n",
       "      <td>0.806057</td>\n",
       "      <td>49.693429</td>\n",
       "    </tr>\n",
       "    <tr>\n",
       "      <th>min</th>\n",
       "      <td>1.000000</td>\n",
       "      <td>0.000000</td>\n",
       "      <td>1.000000</td>\n",
       "      <td>0.420000</td>\n",
       "      <td>0.000000</td>\n",
       "      <td>0.000000</td>\n",
       "      <td>0.000000</td>\n",
       "    </tr>\n",
       "    <tr>\n",
       "      <th>25%</th>\n",
       "      <td>223.500000</td>\n",
       "      <td>0.000000</td>\n",
       "      <td>2.000000</td>\n",
       "      <td>20.125000</td>\n",
       "      <td>0.000000</td>\n",
       "      <td>0.000000</td>\n",
       "      <td>7.910400</td>\n",
       "    </tr>\n",
       "    <tr>\n",
       "      <th>50%</th>\n",
       "      <td>446.000000</td>\n",
       "      <td>0.000000</td>\n",
       "      <td>3.000000</td>\n",
       "      <td>28.000000</td>\n",
       "      <td>0.000000</td>\n",
       "      <td>0.000000</td>\n",
       "      <td>14.454200</td>\n",
       "    </tr>\n",
       "    <tr>\n",
       "      <th>75%</th>\n",
       "      <td>668.500000</td>\n",
       "      <td>1.000000</td>\n",
       "      <td>3.000000</td>\n",
       "      <td>38.000000</td>\n",
       "      <td>1.000000</td>\n",
       "      <td>0.000000</td>\n",
       "      <td>31.000000</td>\n",
       "    </tr>\n",
       "    <tr>\n",
       "      <th>max</th>\n",
       "      <td>891.000000</td>\n",
       "      <td>1.000000</td>\n",
       "      <td>3.000000</td>\n",
       "      <td>80.000000</td>\n",
       "      <td>8.000000</td>\n",
       "      <td>6.000000</td>\n",
       "      <td>512.329200</td>\n",
       "    </tr>\n",
       "  </tbody>\n",
       "</table>\n",
       "</div>"
      ],
      "text/plain": [
       "       PassengerId    Survived      Pclass         Age       SibSp  \\\n",
       "count   891.000000  891.000000  891.000000  714.000000  891.000000   \n",
       "mean    446.000000    0.383838    2.308642   29.699118    0.523008   \n",
       "std     257.353842    0.486592    0.836071   14.526497    1.102743   \n",
       "min       1.000000    0.000000    1.000000    0.420000    0.000000   \n",
       "25%     223.500000    0.000000    2.000000   20.125000    0.000000   \n",
       "50%     446.000000    0.000000    3.000000   28.000000    0.000000   \n",
       "75%     668.500000    1.000000    3.000000   38.000000    1.000000   \n",
       "max     891.000000    1.000000    3.000000   80.000000    8.000000   \n",
       "\n",
       "            Parch        Fare  \n",
       "count  891.000000  891.000000  \n",
       "mean     0.381594   32.204208  \n",
       "std      0.806057   49.693429  \n",
       "min      0.000000    0.000000  \n",
       "25%      0.000000    7.910400  \n",
       "50%      0.000000   14.454200  \n",
       "75%      0.000000   31.000000  \n",
       "max      6.000000  512.329200  "
      ]
     },
     "execution_count": 4,
     "metadata": {},
     "output_type": "execute_result"
    }
   ],
   "source": [
    "df.describe()"
   ]
  },
  {
   "cell_type": "code",
   "execution_count": 5,
   "id": "7e313aba-7399-4b4b-b2f5-48ac199430ba",
   "metadata": {},
   "outputs": [
    {
     "data": {
      "text/plain": [
       "<AxesSubplot:ylabel='Frequency'>"
      ]
     },
     "execution_count": 5,
     "metadata": {},
     "output_type": "execute_result"
    },
    {
     "data": {
      "image/png": "[encoded data removed]",
      "text/plain": [
       "<Figure size 432x288 with 1 Axes>"
      ]
     },
     "metadata": {
      "needs_background": "light"
     },
     "output_type": "display_data"
    }
   ],
   "source": [
    "df['Fare'].plot(kind='hist')"
   ]
  },
  {
   "cell_type": "code",
   "execution_count": null,
   "id": "ac1d4346-7b15-4fe2-aa13-2154de6cc4df",
   "metadata": {},
   "outputs": [],
   "source": [
    "# 資料切片(Discretization)\n",
    "# 每一個等分有相同的資料量\n",
    "ranges = pd.cut(df['Fare'], 5)\n",
    "df_Fare_discretization = pd.DataFrame(list(Counter(ranges).values()), columns=['count'], index= list(Counter(ranges).keys()))\n",
    "df_Fare_discretization"
   ]
  },
  {
   "cell_type": "code",
   "execution_count": null,
   "id": "602f860d-e054-49be-85a3-847d67ccff3d",
   "metadata": {},
   "outputs": [],
   "source": [
    "# 資料切片(Discretization)\n",
    "# 每一個等分的長度相同\n",
    "ranges = pd.qcut(df['Fare'], 5)\n",
    "df_Fare_discretization = pd.DataFrame(list(Counter(ranges).values()), columns=['count'], index= list(Counter(ranges).keys()))\n",
    "df_Fare_discretization"
   ]
  },
  {
   "cell_type": "code",
   "execution_count": null,
   "id": "4d282a89-8b96-4eaf-8193-9a6572e03f1c",
   "metadata": {},
   "outputs": [],
   "source": [
    "def preprocess(df):\n",
    "    ## 處理None值\n",
    "#      avg_age = df['Age'].mean() #作法一: 取平均值\n",
    "#     avg_age = df['Age'].median() #作法二: 取中位數\n",
    "#     作法三: 用相同的分布產生亂數塞入\n",
    "    std = df['Age'].std()\n",
    "    mean = df['Age'].mean()\n",
    "    size = len(df[pd.isnull(df['Age'])])\n",
    "    age_null_random_list = np.random.randint(mean - std, mean + std, size=size)\n",
    "    df.loc[pd.isnull(df['Age']), 'Age'] = age_null_random_list\n",
    "    \n",
    "    # fare discretization\n",
    "    def farecat(f):\n",
    "        if f <= 16:\n",
    "            cat = 0\n",
    "        elif f > 17 and f <= 32:\n",
    "            cat = 1\n",
    "        elif f > 32 and f <= 48:\n",
    "            cat = 2\n",
    "        elif f < 48 and f <= 64:\n",
    "            cat = 3\n",
    "        elif f < 64 and f <= 80:\n",
    "            cat = 4\n",
    "        elif f < 80 and f <= 96:\n",
    "            cat = 5\n",
    "        else:\n",
    "            cat = 6\n",
    "        return cat\n",
    "\n",
    "    # avg_fare\n",
    "    fares_notnull = df[pd.notnull(df['Fare'])]['Fare']\n",
    "    avg_fare = fares_notnull.median()\n",
    "\n",
    "    # ticket\n",
    "    ticket_cat = {}\n",
    "    for ticket in df['Ticket']:\n",
    "        if ticket.isdigit():\n",
    "            ticket_cat[ticket] = 1\n",
    "        elif ticket.startswith('A'):\n",
    "            ticket_cat[ticket] = 2\n",
    "        elif ticket.startswith('C'):\n",
    "            ticket_cat[ticket] = 3\n",
    "        elif ticket.startswith('F'):\n",
    "            ticket_cat[ticket] = 4\n",
    "        elif ticket.startswith('P'):\n",
    "            ticket_cat[ticket] = 5\n",
    "        elif ticket.startswith('SOTON'):\n",
    "            ticket_cat[ticket] = 6\n",
    "        elif ticket.startswith('STON'):\n",
    "            ticket_cat[ticket] = 7\n",
    "        elif ticket.startswith('S'):\n",
    "            ticket_cat[ticket] = 8\n",
    "        elif ticket.startswith('W'):\n",
    "            ticket_cat[ticket] = 9\n",
    "        else:\n",
    "            ticket_cat[ticket] = 0\n",
    "            \n",
    "    ticket_cat1 = {}\n",
    "    for num, name in enumerate(list(set([item.split()[0].replace(\".\", \"\").replace(\"/\", \"\") for item in df['Ticket'] if not item.isdigit()]))):\n",
    "        ticket_cat1[name] = num\n",
    "    \n",
    "    # cabin\n",
    "    cabin_cat = {}\n",
    "    for cabin in df['Cabin']:\n",
    "        if pd.isnull(cabin):\n",
    "            cabin_cat[cabin] = 0\n",
    "        elif cabin.startswith('A'):\n",
    "            cabin_cat[cabin] = 1\n",
    "        elif cabin.startswith('B'):\n",
    "            cabin_cat[cabin] = 2\n",
    "        elif cabin.startswith('C'):\n",
    "            cabin_cat[cabin] = 3\n",
    "        elif cabin.startswith('D'):\n",
    "            cabin_cat[cabin] = 4\n",
    "        elif cabin.startswith('E'):\n",
    "            cabin_cat[cabin] = 5\n",
    "        else:\n",
    "            cabin_cat[cabin] = 0\n",
    "    \n",
    "    # embarked\n",
    "    embarked_cat = {}\n",
    "    for embarked in df['Embarked']:\n",
    "        if pd.isnull(embarked):\n",
    "            embarked_cat[embarked] = 0\n",
    "        elif embarked.startswith('S'):\n",
    "            embarked_cat[embarked] = 0\n",
    "        elif embarked.startswith('Q'):\n",
    "            embarked_cat[embarked] = 1\n",
    "        elif embarked.startswith('C'):\n",
    "            embarked_cat[embarked] = 2\n",
    "            \n",
    "    # title\n",
    "    title_mapping= {\n",
    "        'Ms':\"Miss\",\n",
    "        'Mlle':\"Miss\",\n",
    "        'Miss':\"Miss\",\n",
    "        'Mrs':\"Mrs\",\n",
    "        'Mme':\"Mrs\",\n",
    "        'MrsMartin(ElizabethL':\"Mrs\",\n",
    "        'Mr':\"Mr\"\n",
    "        }\n",
    "    \n",
    "    title_cat = {\"Mr\": 1, \"Miss\": 2, \"Mrs\": 3, \"Master\": 4, \"Rare\": 5}\n",
    "    \n",
    "    # Name_with specail chars\n",
    "    def withspecailchar(name):\n",
    "        for char in name:\n",
    "            if char in string.punctuation:\n",
    "                return 1\n",
    "        return 0\n",
    "    \n",
    "    def applyfun(row):\n",
    "        # Normalization\n",
    "        row['Fare'] = row['Fare'] if pd.notnull(row['Fare']) else avg_fare\n",
    "        row['Fare_log10'] = math.log(row['Fare'], 10) if  row['Fare'] != 0 else 0\n",
    "                \n",
    "        # Transformation\n",
    "        row['Cabin'] = cabin_cat.get(row['Cabin'])  ## 整理艙位的類別\n",
    "        row['Ticket'] = ticket_cat.get(row['Ticket'])  ## 整理票券類別\n",
    "        row['Embarked'] = embarked_cat.get(row['Embarked'])  ## 整出發地類別\n",
    "        row['Sex'] = 1 if row['Sex'] == 'male' else 0  ## 性別\n",
    "        row['Name_Length'] = len(row['Name'])  ## Name => Name_Length\n",
    "        row['Name_With_Special_Char'] = withspecailchar(row['Name'].replace(',', \"\").replace('.', \"\"))  ## Name => Name_With_Special_Char\n",
    "        call = re.search(r'\\,.+\\.', row['Name']).group(0).replace(\",\", \"\").replace(\".\", \"\").replace(\" \", \"\")\n",
    "        call_cat = title_cat.get(title_mapping.get(call, \"Rare\"))\n",
    "        row['Title'] = call_cat  ## Name => Title\n",
    "\n",
    "        # Discretization\n",
    "        row['Fare_Cat'] = farecat(row['Fare'])\n",
    "        \n",
    "        # Integration\n",
    "        row['Family_Size'] = row['SibSp'] + row['Parch']\n",
    "        row['Is_Alone']= 1 if row['Family_Size'] == 1 else 0\n",
    "        row['Is_Mother']= 1 if row['Parch'] > 1 and row['Age']>20 else 0\n",
    "\n",
    "        return row\n",
    "    \n",
    "    df = df.apply(applyfun, axis=1)\n",
    "    df.drop(['Name', 'Fare'], axis=1, inplace=True)\n",
    "    return df\n",
    "\n",
    "df = pd.read_csv('train.csv')\n",
    "df = preprocess(df)"
   ]
  },
  {
   "cell_type": "markdown",
   "id": "02a3e509-8b96-47e5-aef5-d95f6512884d",
   "metadata": {},
   "source": [
    "### 1. Data Description"
   ]
  },
  {
   "cell_type": "code",
   "execution_count": null,
   "id": "13ded61f-10bd-468d-8bc7-23bbc8d5805f",
   "metadata": {},
   "outputs": [],
   "source": [
    "df.columns"
   ]
  },
  {
   "cell_type": "code",
   "execution_count": null,
   "id": "d05ad65e-fbae-4e3f-a8a7-36ec15f3c504",
   "metadata": {},
   "outputs": [],
   "source": [
    "df.describe()"
   ]
  },
  {
   "cell_type": "code",
   "execution_count": null,
   "id": "94893bd4-6f93-4381-a620-190851940190",
   "metadata": {},
   "outputs": [],
   "source": [
    "df.info()"
   ]
  },
  {
   "cell_type": "code",
   "execution_count": null,
   "id": "70d36b13-07bf-4d18-968a-ecb3fc02c802",
   "metadata": {},
   "outputs": [],
   "source": [
    "sns.pairplot(df)"
   ]
  },
  {
   "cell_type": "code",
   "execution_count": null,
   "id": "dfb4f674-15ee-4a3d-97df-ef1391076d83",
   "metadata": {},
   "outputs": [],
   "source": [
    "colormap = plt.cm.viridis\n",
    "plt.figure(figsize=(14,12))\n",
    "plt.title('Pearson Correlation of Features', y=1.05, size=15)\n",
    "sns.heatmap(df.astype(float).corr(),linewidths=0.1,vmax=1.0, square=True, cmap=colormap, linecolor='white', annot=True)"
   ]
  },
  {
   "cell_type": "code",
   "execution_count": null,
   "id": "eabdc0a5-9006-461e-b490-771c701b8be4",
   "metadata": {},
   "outputs": [],
   "source": [
    "X = np.matrix(df.drop(['Survived','PassengerId'], axis=1))\n",
    "Y = np.array(df['Survived'])\n",
    "\n",
    "fig = plt.figure(1, figsize=(8, 6))\n",
    "ax = Axes3D(fig, elev=-150, azim=110)\n",
    "\n",
    "X_reduced = PCA(n_components=3).fit_transform(X)\n",
    "ax.scatter(X_reduced[:, 0], X_reduced[:, 1], X_reduced[:, 2], c=Y,\n",
    "           cmap=plt.cm.Set1, edgecolor='k', s=40)\n",
    "ax.set_title(\"PCA with non-log(Fare)\")\n",
    "ax.set_xlabel(\"1st eigenvector\")\n",
    "ax.w_xaxis.set_ticklabels([])\n",
    "ax.set_ylabel(\"2nd eigenvector\")\n",
    "ax.w_yaxis.set_ticklabels([])\n",
    "ax.set_zlabel(\"3rd eigenvector\")\n",
    "ax.w_zaxis.set_ticklabels([])\n",
    "\n",
    "plt.show()"
   ]
  },
  {
   "cell_type": "markdown",
   "id": "5f8e844f-1f8f-482b-b8ad-f2bda8fa5aaf",
   "metadata": {},
   "source": [
    "### 2. Models\n",
    "### SVM"
   ]
  },
  {
   "cell_type": "code",
   "execution_count": null,
   "id": "e36072e4-43f9-482f-b568-06a2202b463e",
   "metadata": {},
   "outputs": [],
   "source": [
    "# Input Data Preparation\n",
    "X = np.matrix(df.drop(['Survived','PassengerId'], axis=1))\n",
    "Y = np.array(df['Survived'])\n",
    "\n",
    "print(X.shape)\n",
    "print(Y.shape)\n",
    "print(sum(Y)/len(Y))"
   ]
  },
  {
   "cell_type": "code",
   "execution_count": null,
   "id": "bf9b6cd2-539b-4657-8f38-4834656f26da",
   "metadata": {},
   "outputs": [],
   "source": [
    "# Finally, we split some of the data off for validation\n",
    "x_train, x_valid, y_train, y_valid = train_test_split(X, Y, test_size=0.2, random_state=4242)\n",
    "\n",
    "print(x_train.shape)\n",
    "print(x_valid.shape)\n",
    "print(y_train.shape)\n",
    "print(y_valid.shape)"
   ]
  },
  {
   "cell_type": "code",
   "execution_count": null,
   "id": "c75ed2f5-4af8-479f-aa05-bcc4de77ad31",
   "metadata": {},
   "outputs": [],
   "source": [
    "from sklearn.svm import SVC\n",
    "svm = SVC(C=1, kernel='linear')\n",
    "svm.fit(x_train, y_train) \n",
    "\n",
    "y_pred = svm.predict(x_train)\n",
    "print(\"Train: Number of mislabeled points out of a total %d points : %d\" % (x_train.shape[0], pd.Series(y_train != y_pred).astype(int).sum()))\n",
    "y_pred = svm.predict(x_valid)\n",
    "print(\"Valid: Number of mislabeled points out of a total %d points : %d\" % (x_valid.shape[0], pd.Series(y_valid != y_pred).astype(int).sum()))"
   ]
  },
  {
   "cell_type": "markdown",
   "id": "aaf08321-e24f-4420-846a-a27ac16d72d4",
   "metadata": {},
   "source": [
    "### XGB"
   ]
  },
  {
   "cell_type": "code",
   "execution_count": null,
   "id": "658ed149-6ae4-43a2-8d79-bce47e8e4c2d",
   "metadata": {},
   "outputs": [],
   "source": [
    "# plot decision tree\n",
    "from xgboost import XGBClassifier\n",
    "\n",
    "# fit model no training data\n",
    "xgb1 = XGBClassifier(learning_rate=0.4, n_estimators=200)\n",
    "xgb1.fit(x_train, y_train)\n",
    "\n",
    "y_pred = xgb1.predict(x_train)\n",
    "print(\"Number of mislabeled points out of a total %d points : %d\" % (x_train.shape[0],(y_train != y_pred).sum()))\n",
    "y_pred = xgb1.predict(x_train)\n",
    "print(\"Number of mislabeled points out of a total %d points : %d\" % (x_valid.shape[0], pd.Series(y_valid != y_pred).astype(int).sum()))"
   ]
  },
  {
   "cell_type": "markdown",
   "id": "da2f8f18-1aae-4cff-afb0-3ae535f54d1a",
   "metadata": {},
   "source": [
    "### Cross-Validation"
   ]
  },
  {
   "cell_type": "code",
   "execution_count": null,
   "id": "1138e9d9-3ef7-4e01-b4db-4ede3344c333",
   "metadata": {},
   "outputs": [],
   "source": [
    "import xgboost as xgb\n",
    "\n",
    "# Set our parameters for xgboost\n",
    "params = {}\n",
    "params['objective'] = 'binary:logistic'\n",
    "params['eval_metric'] = 'logloss'\n",
    "params['eta'] = 0.04\n",
    "## learning rate: Lower values generalize well.\n",
    "params['max_depth'] = 4\n",
    "## control over-fitting, higher depth specific to a particular sample.\n",
    "\n",
    "d_train = xgb.DMatrix(x_train, label=y_train)\n",
    "d_valid = xgb.DMatrix(x_valid, label=y_valid)\n",
    "\n",
    "watchlist = [(d_train, 'train'), (d_valid, 'valid')]\n",
    "\n",
    "bst = xgb.train(params, d_train, 200, watchlist, early_stopping_rounds=100, verbose_eval=10)"
   ]
  },
  {
   "cell_type": "code",
   "execution_count": null,
   "id": "b1eda0d0-b63a-4208-ba77-aecc2ac40539",
   "metadata": {},
   "outputs": [],
   "source": [
    "y_pred = bst.predict(xgb.DMatrix(x_valid)) > 0.5\n",
    "print(\"Number of mislabeled points out of a total %d points : %d\" % (x_valid.shape[0],(y_valid != y_pred).sum()))"
   ]
  },
  {
   "cell_type": "markdown",
   "id": "4b434d04-598e-4062-a6fd-0c8b085cc125",
   "metadata": {},
   "source": [
    "### 3. Prediction"
   ]
  },
  {
   "cell_type": "code",
   "execution_count": null,
   "id": "cd563c08-6499-48c7-ad32-5b0ecac67366",
   "metadata": {},
   "outputs": [],
   "source": [
    "df_test = pd.read_csv('test.csv')\n",
    "ID = df_test['PassengerId']\n",
    "df_test = preprocess(df_test.drop('PassengerId', axis=1))\n",
    "\n",
    "X_test = np.matrix(df_test)\n",
    "\n",
    "# y_pred = bst.predict(xgb.DMatrix(X_test))\n",
    "y_pred = xgb1.predict(X_test)\n",
    "print(X_test.shape)\n",
    "print(y_pred.shape)"
   ]
  },
  {
   "cell_type": "code",
   "execution_count": null,
   "id": "0724c6e2-50a8-4cd8-810e-ff74f06ba422",
   "metadata": {},
   "outputs": [],
   "source": [
    "df_submit = pd.DataFrame()\n",
    "df_submit['PassengerId'] = ID\n",
    "df_submit['Survived'] = (y_pred > 0.5) * 1\n",
    "# df_submit['Survived'] = 0\n",
    "df_submit.to_csv(\"submit.csv\", index=False)"
   ]
  },
  {
   "cell_type": "code",
   "execution_count": null,
   "id": "75a2ccd4-8063-4477-8f17-e44b218a68ab",
   "metadata": {},
   "outputs": [],
   "source": []
  },
  {
   "cell_type": "code",
   "execution_count": null,
   "id": "b38d4a01-6dc9-4700-a74e-e9d405ca2ccd",
   "metadata": {},
   "outputs": [],
   "source": []
  },
  {
   "cell_type": "code",
   "execution_count": null,
   "id": "ad813407-68dc-4223-a8af-0b01ad22f0c9",
   "metadata": {},
   "outputs": [],
   "source": []
  },
  {
   "cell_type": "code",
   "execution_count": null,
   "id": "ea534e01-46f9-4224-9c5d-c567f2de2cac",
   "metadata": {},
   "outputs": [],
   "source": []
  },
  {
   "cell_type": "code",
   "execution_count": null,
   "id": "24da8a27-ef9e-4a90-b746-5bc15e6ef0d3",
   "metadata": {},
   "outputs": [],
   "source": []
  },
  {
   "cell_type": "code",
   "execution_count": null,
   "id": "13041fad-d43f-4e39-b2ad-8a1b86952538",
   "metadata": {},
   "outputs": [],
   "source": []
  },
  {
   "cell_type": "code",
   "execution_count": null,
   "id": "7cf03ca7-046e-49ef-865c-db997fe9fb61",
   "metadata": {},
   "outputs": [],
   "source": []
  },
  {
   "cell_type": "code",
   "execution_count": null,
   "id": "9d5fefbb-51df-45d6-9f2e-c48566b1b2e9",
   "metadata": {},
   "outputs": [],
   "source": []
  }
 ],
 "metadata": {
  "kernelspec": {
   "display_name": "Python 3 (ipykernel)",
   "language": "python",
   "name": "python3"
  },
  "language_info": {
   "codemirror_mode": {
    "name": "ipython",
    "version": 3
   },
   "file_extension": ".py",
   "mimetype": "text/x-python",
   "name": "python",
   "nbconvert_exporter": "python",
   "pygments_lexer": "ipython3",
   "version": "3.8.10"
  }
 },
 "nbformat": 4,
 "nbformat_minor": 5
}
