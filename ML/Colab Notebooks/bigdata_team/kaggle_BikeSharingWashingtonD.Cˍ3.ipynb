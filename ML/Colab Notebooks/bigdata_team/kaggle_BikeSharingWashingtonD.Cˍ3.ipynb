{
 "cells": [
  {
   "cell_type": "markdown",
   "metadata": {
    "_uuid": "6e22e6f0d6b15ed5ac7656134d375f10515708a2"
   },
   "source": [
    "## Importing libraries"
   ]
  },
  {
   "cell_type": "code",
   "execution_count": 33,
   "metadata": {
    "_cell_guid": "b1076dfc-b9ad-4769-8c92-a6c4dae69d19",
    "_uuid": "8f2839f25d086af736a60e9eeb907d3b93b6e0e5",
    "collapsed": true,
    "jupyter": {
     "outputs_hidden": true
    }
   },
   "outputs": [],
   "source": [
    "import pandas as pd\n",
    "import numpy as np\n",
    "\n",
    "import matplotlib.pyplot as plt\n",
    "import seaborn as sns\n",
    "\n",
    "from sklearn import metrics\n",
    "from sklearn import preprocessing\n",
    "from sklearn import linear_model\n",
    "from sklearn.model_selection import train_test_split\n",
    "from sklearn.model_selection import cross_val_predict\n",
    "from sklearn.model_selection import cross_val_score"
   ]
  },
  {
   "cell_type": "markdown",
   "metadata": {
    "_cell_guid": "79c7e3d0-c299-4dcb-8224-4455121ee9b0",
    "_uuid": "d629ff2d2480ee46fbb7e2d37f6b5fab8052498a"
   },
   "source": [
    "## Importing data\n"
   ]
  },
  {
   "cell_type": "code",
   "execution_count": 34,
   "metadata": {
    "_uuid": "fd03c90918cb0018143c69825fbce90cf989d96c"
   },
   "outputs": [],
   "source": [
    "hour_df = pd.read_csv(\"../input/bike-sharing-dataset/hour.csv\")\n",
    "hour_df.info()"
   ]
  },
  {
   "cell_type": "markdown",
   "metadata": {
    "_uuid": "58b4d42dae2d41eee51752fbe1361dd72cfac69e"
   },
   "source": [
    "## Preprocessing"
   ]
  },
  {
   "cell_type": "code",
   "execution_count": 35,
   "metadata": {
    "_uuid": "39883b04c2e2a2d7e3f441b7c683cfeaedeeefa2",
    "collapsed": true,
    "jupyter": {
     "outputs_hidden": true
    }
   },
   "outputs": [],
   "source": [
    "# Renaming columns names to more readable names\n",
    "hour_df.rename(columns={'instant':'rec_id',\n",
    "                        'dteday':'datetime',\n",
    "                        'holiday':'is_holiday',\n",
    "                        'workingday':'is_workingday',\n",
    "                        'weathersit':'weather_condition',\n",
    "                        'hum':'humidity',\n",
    "                        'mnth':'month',\n",
    "                        'cnt':'total_count',\n",
    "                        'hr':'hour',\n",
    "                        'yr':'year'},inplace=True)\n",
    "\n",
    "###########################\n",
    "# Setting proper data types\n",
    "###########################\n",
    "# date time conversion\n",
    "hour_df['datetime'] = pd.to_datetime(hour_df.datetime)\n",
    "\n",
    "# categorical variables\n",
    "hour_df['season'] = hour_df.season.astype('category')\n",
    "hour_df['is_holiday'] = hour_df.is_holiday.astype('category')\n",
    "hour_df['weekday'] = hour_df.weekday.astype('category')\n",
    "hour_df['weather_condition'] = hour_df.weather_condition.astype('category')\n",
    "hour_df['is_workingday'] = hour_df.is_workingday.astype('category')\n",
    "hour_df['month'] = hour_df.month.astype('category')\n",
    "hour_df['year'] = hour_df.year.astype('category')\n",
    "hour_df['hour'] = hour_df.hour.astype('category')"
   ]
  },
  {
   "cell_type": "markdown",
   "metadata": {
    "_uuid": "b27adc5d6a7a82b941537d3a31d91e7b502effb7"
   },
   "source": [
    "## Plotting"
   ]
  },
  {
   "cell_type": "code",
   "execution_count": 36,
   "metadata": {
    "_uuid": "0114a01f2dd06211592eacfc6d2662a6b8ee6f74",
    "collapsed": true,
    "jupyter": {
     "outputs_hidden": true
    }
   },
   "outputs": [],
   "source": [
    "# Configuring plotting visual and sizes\n",
    "sns.set_style('whitegrid')\n",
    "sns.set_context('talk')\n",
    "params = {'legend.fontsize': 'x-large',\n",
    "          'figure.figsize': (30, 10),\n",
    "          'axes.labelsize': 'x-large',\n",
    "          'axes.titlesize':'x-large',\n",
    "          'xtick.labelsize':'x-large',\n",
    "          'ytick.labelsize':'x-large'}\n",
    "\n",
    "plt.rcParams.update(params)"
   ]
  },
  {
   "cell_type": "code",
   "execution_count": 37,
   "metadata": {
    "_uuid": "151daf8e51e4ac86322d825626ad5f6e537d47e8"
   },
   "outputs": [],
   "source": [
    "fig,ax = plt.subplots()\n",
    "sns.pointplot(data=hour_df[['hour',\n",
    "                           'total_count',\n",
    "                           'season']],\n",
    "              x='hour',\n",
    "              y='total_count',\n",
    "              hue='season',\n",
    "              ax=ax)\n",
    "ax.set(title=\"Season wise hourly distribution of counts\")"
   ]
  },
  {
   "cell_type": "code",
   "execution_count": 38,
   "metadata": {
    "_uuid": "ebfe780fcac15e296ec8d0892ed0e73a78f52303"
   },
   "outputs": [],
   "source": [
    "fig,ax = plt.subplots()\n",
    "sns.pointplot(data=hour_df[['hour',\n",
    "                           'total_count',\n",
    "                           'weekday']],\n",
    "              x='hour',\n",
    "              y='total_count',\n",
    "              hue='weekday',\n",
    "              ax=ax)\n",
    "ax.set(title=\"Weekday wise hourly distribution of counts\")"
   ]
  },
  {
   "cell_type": "code",
   "execution_count": 39,
   "metadata": {
    "_uuid": "e4d86264aba8c5c86ead8712740a41a68df600e0"
   },
   "outputs": [],
   "source": [
    "fig,ax = plt.subplots()\n",
    "sns.barplot(data=hour_df[['month',\n",
    "                           'total_count']],\n",
    "              x='month',\n",
    "              y='total_count',\n",
    "              ax=ax)\n",
    "ax.set(title=\"Monthly distribution of counts\")"
   ]
  },
  {
   "cell_type": "code",
   "execution_count": 40,
   "metadata": {
    "_uuid": "28d818628fbbd7b3a6e39ea3ab8059b04b0f8561"
   },
   "outputs": [],
   "source": [
    "fig,ax = plt.subplots()\n",
    "sns.barplot(data=hour_df[['season',\n",
    "                           'total_count']],\n",
    "              x='season',\n",
    "              y='total_count',\n",
    "              ax=ax)\n",
    "ax.set(title=\"Seasonal distribution of counts\")"
   ]
  },
  {
   "cell_type": "code",
   "execution_count": 41,
   "metadata": {
    "_uuid": "8e2ad675fa0ad05a81c4efb6c90f745956ec2868"
   },
   "outputs": [],
   "source": [
    "fig,ax = plt.subplots()\n",
    "sns.violinplot(data=hour_df[['year',\n",
    "                           'total_count']],\n",
    "              x='year',\n",
    "              y='total_count',\n",
    "              ax=ax)\n",
    "ax.set(title=\"Year distribution of counts\")"
   ]
  },
  {
   "cell_type": "markdown",
   "metadata": {
    "_uuid": "afd9009d8a981d1781c4298ef4444560f859bfbd"
   },
   "source": [
    "#### Checking for outliners:"
   ]
  },
  {
   "cell_type": "code",
   "execution_count": 42,
   "metadata": {
    "_uuid": "0ca7aa3437f8723ece78f80e922684f9dde66709"
   },
   "outputs": [],
   "source": [
    "fig,(ax1,ax2) = plt.subplots(ncols=2)\n",
    "sns.boxplot(data=hour_df[['total_count',\n",
    "                          'casual',\n",
    "                          'registered']],ax=ax1)\n",
    "sns.boxplot(data=hour_df[['temp',\n",
    "                          'windspeed']],ax=ax2)"
   ]
  },
  {
   "cell_type": "code",
   "execution_count": 43,
   "metadata": {
    "_uuid": "86219e0ead23b0e5aa35e116e2915139bacc3558"
   },
   "outputs": [],
   "source": [
    "fig,ax = plt.subplots()\n",
    "sns.boxplot(data=hour_df[['total_count',\n",
    "                          'hour']],x='hour',y='total_count',ax=ax)\n",
    "ax.set(title=\"Checking for outliners in day hours\")"
   ]
  },
  {
   "cell_type": "markdown",
   "metadata": {
    "_uuid": "f9cea8179da932b8936a1943b3a2106ea8b495a1"
   },
   "source": [
    "#### Correlations"
   ]
  },
  {
   "cell_type": "code",
   "execution_count": 44,
   "metadata": {
    "_uuid": "99ca62ae498651f46ff1b621be77898e918ee97b"
   },
   "outputs": [],
   "source": [
    "corrMatt = hour_df[['temp',\n",
    "                    'atemp', \n",
    "                    'humidity', \n",
    "                    'windspeed', \n",
    "                    'casual', \n",
    "                    'registered', \n",
    "                    'total_count']].corr()\n",
    "\n",
    "mask = np.array(corrMatt)\n",
    "# Turning the lower-triangle of the array to false\n",
    "mask[np.tril_indices_from(mask)] = False\n",
    "fig,ax = plt.subplots()\n",
    "sns.heatmap(corrMatt, \n",
    "            mask=mask,\n",
    "            vmax=.8, \n",
    "            square=True,\n",
    "            annot=True,\n",
    "            ax=ax)"
   ]
  },
  {
   "cell_type": "markdown",
   "metadata": {
    "_uuid": "0f90f6ca9111a8db9e5a4c99a08262b785da82b8"
   },
   "source": [
    "## Feature Engineering\n",
    "Since the dataset contains multiple categorical variables, it is imperative that we encode the nominal ones before we use them in our modeling process."
   ]
  },
  {
   "cell_type": "code",
   "execution_count": 45,
   "metadata": {
    "_uuid": "459e9cb07e630467f34f7168b509bf21883bac37",
    "collapsed": true,
    "jupyter": {
     "outputs_hidden": true
    }
   },
   "outputs": [],
   "source": [
    "# Defining categorical variables encoder method\n",
    "def fit_transform_ohe(df,col_name):\n",
    "    \"\"\"This function performs one hot encoding for the specified\n",
    "column.\n",
    "    Args:\n",
    "        df(pandas.DataFrame): the data frame containing the mentioned column name\n",
    "        col_name: the column to be one hot encoded\n",
    "    Returns:\n",
    "        tuple: label_encoder, one_hot_encoder, transformed column as pandas Series\n",
    "    \"\"\"\n",
    "    # label encode the column\n",
    "    le = preprocessing.LabelEncoder()\n",
    "    le_labels = le.fit_transform(df[col_name])\n",
    "    df[col_name+'_label'] = le_labels\n",
    "    # one hot encoding\n",
    "    ohe = preprocessing.OneHotEncoder()\n",
    "    feature_arr = ohe.fit_transform(df[[col_name+'_label']]).toarray()\n",
    "    feature_labels = [col_name+'_'+str(cls_label) for cls_label in le.classes_]\n",
    "    features_df = pd.DataFrame(feature_arr, columns=feature_labels)\n",
    "    return le,ohe,features_df\n",
    "\n",
    "# given label encoder and one hot encoder objects, \n",
    "# encode attribute to ohe\n",
    "def transform_ohe(df,le,ohe,col_name):\n",
    "    \"\"\"This function performs one hot encoding for the specified\n",
    "        column using the specified encoder objects.\n",
    "\n",
    "    Args:\n",
    "        df(pandas.DataFrame): the data frame containing the mentioned column name\n",
    "        le(Label Encoder): the label encoder object used to fit label encoding\n",
    "        ohe(One Hot Encoder): the onen hot encoder object used to fit one hot encoding\n",
    "        col_name: the column to be one hot encoded\n",
    "\n",
    "    Returns:\n",
    "        tuple: transformed column as pandas Series\n",
    "\n",
    "    \"\"\"\n",
    "    # label encode\n",
    "    col_labels = le.transform(df[col_name])\n",
    "    df[col_name+'_label'] = col_labels\n",
    "    \n",
    "    # ohe \n",
    "    feature_arr = ohe.fit_transform(df[[col_name+'_label']]).toarray()\n",
    "    feature_labels = [col_name+'_'+str(cls_label) for cls_label in le.classes_]\n",
    "    features_df = pd.DataFrame(feature_arr, columns=feature_labels)\n",
    "    \n",
    "    return features_df"
   ]
  },
  {
   "cell_type": "code",
   "execution_count": 46,
   "metadata": {
    "_uuid": "c881d93a061e25613e4ef4c750c5ba22679c30c4",
    "collapsed": true,
    "jupyter": {
     "outputs_hidden": true
    }
   },
   "outputs": [],
   "source": [
    "# Divide the dataset into training and testing sets\n",
    "X, X_test, y, y_test = train_test_split(hour_df.iloc[:,0:-3],\n",
    "                                        hour_df.iloc[:,-1],\n",
    "                                        test_size=0.33,\n",
    "                                        random_state=42)\n",
    "X.reset_index(inplace=True)\n",
    "y = y.reset_index()\n",
    "\n",
    "X_test.reset_index(inplace=True)\n",
    "y_test = y_test.reset_index()"
   ]
  },
  {
   "cell_type": "code",
   "execution_count": 47,
   "metadata": {
    "_uuid": "f556f4115e1235fe929c2e9cecd37d7d4cfd8eb8"
   },
   "outputs": [],
   "source": [
    "# Encoding all the categorical features\n",
    "cat_attr_list = ['season','is_holiday',\n",
    "                 'weather_condition','is_workingday',\n",
    "                 'hour','weekday','month','year']\n",
    "# though we have transformed all categoricals into their one-hot encodings, note that ordinal\n",
    "# attributes such as hour, weekday, and so on do not require such encoding.\n",
    "numeric_feature_cols = ['temp','humidity','windspeed',\n",
    "                        'hour','weekday','month','year']\n",
    "subset_cat_features =  ['season','is_holiday','weather_condition','is_workingday']\n",
    "\n",
    "###############\n",
    "# Train dataset\n",
    "###############\n",
    "encoded_attr_list = []\n",
    "for col in cat_attr_list:\n",
    "    return_obj = fit_transform_ohe(X,col)\n",
    "    encoded_attr_list.append({'label_enc':return_obj[0],\n",
    "                              'ohe_enc':return_obj[1],\n",
    "                              'feature_df':return_obj[2],\n",
    "                              'col_name':col})\n",
    "\n",
    "\n",
    "feature_df_list  = [X[numeric_feature_cols]]\n",
    "feature_df_list.extend([enc['feature_df'] \\\n",
    "                        for enc in encoded_attr_list \\\n",
    "                        if enc['col_name'] in subset_cat_features])\n",
    "\n",
    "train_df_new = pd.concat(feature_df_list, axis=1)\n",
    "print(\"Train dataset shape::{}\".format(train_df_new.shape))\n",
    "print(train_df_new.head())\n",
    "\n",
    "##############\n",
    "# Test dataset\n",
    "##############\n",
    "test_encoded_attr_list = []\n",
    "for enc in encoded_attr_list:\n",
    "    col_name = enc['col_name']\n",
    "    le = enc['label_enc']\n",
    "    ohe = enc['ohe_enc']\n",
    "    test_encoded_attr_list.append({'feature_df':transform_ohe(X_test,\n",
    "                                                              le,ohe,\n",
    "                                                              col_name),\n",
    "                                   'col_name':col_name})\n",
    "    \n",
    "    \n",
    "test_feature_df_list = [X_test[numeric_feature_cols]]\n",
    "test_feature_df_list.extend([enc['feature_df'] \\\n",
    "                             for enc in test_encoded_attr_list \\\n",
    "                             if enc['col_name'] in subset_cat_features])\n",
    "\n",
    "test_df_new = pd.concat(test_feature_df_list, axis=1) \n",
    "print(\"Test dataset shape::{}\".format(test_df_new.shape))\n",
    "print(test_df_new.head())"
   ]
  },
  {
   "cell_type": "markdown",
   "metadata": {
    "_uuid": "08822028e19b8394c49283d20757c92d657101f3"
   },
   "source": [
    "## Modeling"
   ]
  },
  {
   "cell_type": "code",
   "execution_count": 48,
   "metadata": {
    "_uuid": "347fb4d1f8754a4aedb5906a76d7b093867ee09a",
    "collapsed": true,
    "jupyter": {
     "outputs_hidden": true
    }
   },
   "outputs": [],
   "source": [
    "X = train_df_new\n",
    "y = y.total_count.values.reshape(-1,1)\n",
    "\n",
    "lin_reg = linear_model.LinearRegression()\n",
    "\n",
    "# using the k-fold cross validation (specifically 10-fold) to reduce overfitting affects\n",
    "# cross_val_predict function returns cross validated prediction values as fitted by the model object.\n",
    "predicted = cross_val_predict(lin_reg, X, y, cv=10)"
   ]
  },
  {
   "cell_type": "code",
   "execution_count": 49,
   "metadata": {
    "_uuid": "365cb481d930a502a3a178217a74e226ae968fad"
   },
   "outputs": [],
   "source": [
    "# Analysing residuals in our predictinos\n",
    "fig,ax = plt.subplots(figsize=(15,15))\n",
    "ax.scatter(y, y-predicted)\n",
    "ax.axhline(lw=2,color='black')\n",
    "ax.set_xlabel('Observed')\n",
    "ax.set_ylabel('Residual')\n",
    "ax.set_title('Residual Plot')\n",
    "plt.show()"
   ]
  },
  {
   "cell_type": "code",
   "execution_count": 50,
   "metadata": {
    "_uuid": "e0f259c707cc1fcc4792605686a0172ac8a64ba9"
   },
   "outputs": [],
   "source": [
    "# Evaluating model in cross-validation iteration\n",
    "\n",
    "r2_scores = cross_val_score(lin_reg, X, y, cv=10)\n",
    "mse = cross_val_score(lin_reg, X, y, cv=10,scoring='neg_mean_squared_error')\n",
    "\n",
    "fig,ax = plt.subplots()\n",
    "ax.plot(range(0,10),\n",
    "        r2_scores)\n",
    "ax.set_xlabel('Iteration')\n",
    "ax.set_ylabel('R.Squared')\n",
    "ax.set_title('Cross-Validation scores')\n",
    "plt.show()\n",
    "\n",
    "\n",
    "print(\"R-squared::{}\".format(r2_scores))\n",
    "print(\"MSE::{}\".format(mse))"
   ]
  },
  {
   "cell_type": "markdown",
   "metadata": {
    "_uuid": "7f667e45e4ea581ef8127fdc5771ff030d01b57e"
   },
   "source": [
    "## Testing dataset evaluation"
   ]
  },
  {
   "cell_type": "code",
   "execution_count": 51,
   "metadata": {
    "_uuid": "85bd6136ba4332f6dcc62612dd9e86057efbf781"
   },
   "outputs": [],
   "source": [
    "# Predict model based on training dataset\n",
    "lin_reg.fit(X,y)\n",
    "\n",
    "# Constructing test dataset\n",
    "X_test = test_df_new\n",
    "y_test = y_test.total_count.values.reshape(-1,1)\n",
    "\n",
    "\n",
    "y_pred = lin_reg.predict(X_test)\n",
    "residuals = y_test-y_pred\n",
    "\n",
    "fig, ax = plt.subplots(figsize=(15,15))\n",
    "ax.scatter(y_test, residuals)\n",
    "ax.axhline(lw=2,color='black')\n",
    "ax.set_xlabel('Observed')\n",
    "ax.set_ylabel('Residuals')\n",
    "ax.title.set_text(\"Residual Plot with R-Squared={}\".format(np.average(lin_reg.score(X_test,y_test))))\n",
    "plt.show()\n",
    "\n",
    "print(\"MSE: {}\".format(metrics.mean_squared_error(y_test, y_pred)))"
   ]
  },
  {
   "cell_type": "markdown",
   "metadata": {
    "_uuid": "4ab0ddb88e6e06d30fd403805cd4f56d2c9e3a85"
   },
   "source": [
    "As we can cleary see, the performance is dismal due to non-linearity of independent variables to dependent features and we could only predict around 40 percent of the outcomes."
   ]
  },
  {
   "cell_type": "code",
   "execution_count": null,
   "metadata": {
    "_uuid": "a3c385919e8caa43451cb73b7fda3f781ced7ade",
    "collapsed": true,
    "jupyter": {
     "outputs_hidden": true
    }
   },
   "outputs": [],
   "source": []
  }
 ],
 "metadata": {
  "kernelspec": {
   "display_name": "Python 3 (ipykernel)",
   "language": "python",
   "name": "python3"
  },
  "language_info": {
   "codemirror_mode": {
    "name": "ipython",
    "version": 3
   },
   "file_extension": ".py",
   "mimetype": "text/x-python",
   "name": "python",
   "nbconvert_exporter": "python",
   "pygments_lexer": "ipython3",
   "version": "3.8.10"
  }
 },
 "nbformat": 4,
 "nbformat_minor": 4
}
