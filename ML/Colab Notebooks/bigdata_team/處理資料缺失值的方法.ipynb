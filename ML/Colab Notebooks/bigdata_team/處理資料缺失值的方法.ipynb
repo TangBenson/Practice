{
 "cells": [
  {
   "cell_type": "code",
   "execution_count": 1,
   "id": "b18b8906-3e51-4e2a-85ca-63062e62326b",
   "metadata": {},
   "outputs": [],
   "source": [
    "import pandas as pd\n",
    "import numpy as np\n",
    "from matplotlib import pyplot as plt"
   ]
  },
  {
   "cell_type": "code",
   "execution_count": 2,
   "id": "cefec6f7-7331-4289-a58c-be386dc56bd7",
   "metadata": {},
   "outputs": [
    {
     "data": {
      "text/html": [
       "<div>\n",
       "<style scoped>\n",
       "    .dataframe tbody tr th:only-of-type {\n",
       "        vertical-align: middle;\n",
       "    }\n",
       "\n",
       "    .dataframe tbody tr th {\n",
       "        vertical-align: top;\n",
       "    }\n",
       "\n",
       "    .dataframe thead th {\n",
       "        text-align: right;\n",
       "    }\n",
       "</style>\n",
       "<table border=\"1\" class=\"dataframe\">\n",
       "  <thead>\n",
       "    <tr style=\"text-align: right;\">\n",
       "      <th></th>\n",
       "      <th>Id</th>\n",
       "      <th>MSSubClass</th>\n",
       "      <th>MSZoning</th>\n",
       "      <th>LotFrontage</th>\n",
       "      <th>LotArea</th>\n",
       "      <th>Street</th>\n",
       "      <th>Alley</th>\n",
       "      <th>LotShape</th>\n",
       "      <th>LandContour</th>\n",
       "      <th>Utilities</th>\n",
       "      <th>...</th>\n",
       "      <th>PoolArea</th>\n",
       "      <th>PoolQC</th>\n",
       "      <th>Fence</th>\n",
       "      <th>MiscFeature</th>\n",
       "      <th>MiscVal</th>\n",
       "      <th>MoSold</th>\n",
       "      <th>YrSold</th>\n",
       "      <th>SaleType</th>\n",
       "      <th>SaleCondition</th>\n",
       "      <th>SalePrice</th>\n",
       "    </tr>\n",
       "  </thead>\n",
       "  <tbody>\n",
       "    <tr>\n",
       "      <th>0</th>\n",
       "      <td>1</td>\n",
       "      <td>60</td>\n",
       "      <td>RL</td>\n",
       "      <td>65.0</td>\n",
       "      <td>8450</td>\n",
       "      <td>Pave</td>\n",
       "      <td>NaN</td>\n",
       "      <td>Reg</td>\n",
       "      <td>Lvl</td>\n",
       "      <td>AllPub</td>\n",
       "      <td>...</td>\n",
       "      <td>0</td>\n",
       "      <td>NaN</td>\n",
       "      <td>NaN</td>\n",
       "      <td>NaN</td>\n",
       "      <td>0</td>\n",
       "      <td>2</td>\n",
       "      <td>2008</td>\n",
       "      <td>WD</td>\n",
       "      <td>Normal</td>\n",
       "      <td>208500</td>\n",
       "    </tr>\n",
       "    <tr>\n",
       "      <th>1</th>\n",
       "      <td>2</td>\n",
       "      <td>20</td>\n",
       "      <td>RL</td>\n",
       "      <td>80.0</td>\n",
       "      <td>9600</td>\n",
       "      <td>Pave</td>\n",
       "      <td>NaN</td>\n",
       "      <td>Reg</td>\n",
       "      <td>Lvl</td>\n",
       "      <td>AllPub</td>\n",
       "      <td>...</td>\n",
       "      <td>0</td>\n",
       "      <td>NaN</td>\n",
       "      <td>NaN</td>\n",
       "      <td>NaN</td>\n",
       "      <td>0</td>\n",
       "      <td>5</td>\n",
       "      <td>2007</td>\n",
       "      <td>WD</td>\n",
       "      <td>Normal</td>\n",
       "      <td>181500</td>\n",
       "    </tr>\n",
       "    <tr>\n",
       "      <th>2</th>\n",
       "      <td>3</td>\n",
       "      <td>60</td>\n",
       "      <td>RL</td>\n",
       "      <td>68.0</td>\n",
       "      <td>11250</td>\n",
       "      <td>Pave</td>\n",
       "      <td>NaN</td>\n",
       "      <td>IR1</td>\n",
       "      <td>Lvl</td>\n",
       "      <td>AllPub</td>\n",
       "      <td>...</td>\n",
       "      <td>0</td>\n",
       "      <td>NaN</td>\n",
       "      <td>NaN</td>\n",
       "      <td>NaN</td>\n",
       "      <td>0</td>\n",
       "      <td>9</td>\n",
       "      <td>2008</td>\n",
       "      <td>WD</td>\n",
       "      <td>Normal</td>\n",
       "      <td>223500</td>\n",
       "    </tr>\n",
       "    <tr>\n",
       "      <th>3</th>\n",
       "      <td>4</td>\n",
       "      <td>70</td>\n",
       "      <td>RL</td>\n",
       "      <td>60.0</td>\n",
       "      <td>9550</td>\n",
       "      <td>Pave</td>\n",
       "      <td>NaN</td>\n",
       "      <td>IR1</td>\n",
       "      <td>Lvl</td>\n",
       "      <td>AllPub</td>\n",
       "      <td>...</td>\n",
       "      <td>0</td>\n",
       "      <td>NaN</td>\n",
       "      <td>NaN</td>\n",
       "      <td>NaN</td>\n",
       "      <td>0</td>\n",
       "      <td>2</td>\n",
       "      <td>2006</td>\n",
       "      <td>WD</td>\n",
       "      <td>Abnorml</td>\n",
       "      <td>140000</td>\n",
       "    </tr>\n",
       "    <tr>\n",
       "      <th>4</th>\n",
       "      <td>5</td>\n",
       "      <td>60</td>\n",
       "      <td>RL</td>\n",
       "      <td>84.0</td>\n",
       "      <td>14260</td>\n",
       "      <td>Pave</td>\n",
       "      <td>NaN</td>\n",
       "      <td>IR1</td>\n",
       "      <td>Lvl</td>\n",
       "      <td>AllPub</td>\n",
       "      <td>...</td>\n",
       "      <td>0</td>\n",
       "      <td>NaN</td>\n",
       "      <td>NaN</td>\n",
       "      <td>NaN</td>\n",
       "      <td>0</td>\n",
       "      <td>12</td>\n",
       "      <td>2008</td>\n",
       "      <td>WD</td>\n",
       "      <td>Normal</td>\n",
       "      <td>250000</td>\n",
       "    </tr>\n",
       "  </tbody>\n",
       "</table>\n",
       "<p>5 rows × 81 columns</p>\n",
       "</div>"
      ],
      "text/plain": [
       "   Id  MSSubClass MSZoning  LotFrontage  LotArea Street Alley LotShape  \\\n",
       "0   1          60       RL         65.0     8450   Pave   NaN      Reg   \n",
       "1   2          20       RL         80.0     9600   Pave   NaN      Reg   \n",
       "2   3          60       RL         68.0    11250   Pave   NaN      IR1   \n",
       "3   4          70       RL         60.0     9550   Pave   NaN      IR1   \n",
       "4   5          60       RL         84.0    14260   Pave   NaN      IR1   \n",
       "\n",
       "  LandContour Utilities  ... PoolArea PoolQC Fence MiscFeature MiscVal MoSold  \\\n",
       "0         Lvl    AllPub  ...        0    NaN   NaN         NaN       0      2   \n",
       "1         Lvl    AllPub  ...        0    NaN   NaN         NaN       0      5   \n",
       "2         Lvl    AllPub  ...        0    NaN   NaN         NaN       0      9   \n",
       "3         Lvl    AllPub  ...        0    NaN   NaN         NaN       0      2   \n",
       "4         Lvl    AllPub  ...        0    NaN   NaN         NaN       0     12   \n",
       "\n",
       "  YrSold  SaleType  SaleCondition  SalePrice  \n",
       "0   2008        WD         Normal     208500  \n",
       "1   2007        WD         Normal     181500  \n",
       "2   2008        WD         Normal     223500  \n",
       "3   2006        WD        Abnorml     140000  \n",
       "4   2008        WD         Normal     250000  \n",
       "\n",
       "[5 rows x 81 columns]"
      ]
     },
     "execution_count": 2,
     "metadata": {},
     "output_type": "execute_result"
    }
   ],
   "source": [
    "data = pd.read_csv(\"data/HousePrice/train.csv\")\n",
    "data.head()"
   ]
  },
  {
   "cell_type": "markdown",
   "id": "35d93044-2f7b-4f65-bfc6-bcc27895c4d5",
   "metadata": {},
   "source": [
    "##### 找出那些自變數（或是特徵）是有缺值的\n",
    "\n",
    "##### 採用的方法是 mean 得知缺值占該變數的比例"
   ]
  },
  {
   "cell_type": "code",
   "execution_count": 3,
   "id": "1e99b9c7-dc47-430e-9886-9ea7b651f9d2",
   "metadata": {
    "tags": []
   },
   "outputs": [
    {
     "data": {
      "text/plain": [
       "['LotFrontage',\n",
       " 'Alley',\n",
       " 'MasVnrType',\n",
       " 'MasVnrArea',\n",
       " 'BsmtQual',\n",
       " 'BsmtCond',\n",
       " 'BsmtExposure',\n",
       " 'BsmtFinType1',\n",
       " 'BsmtFinType2',\n",
       " 'Electrical',\n",
       " 'FireplaceQu',\n",
       " 'GarageType',\n",
       " 'GarageYrBlt',\n",
       " 'GarageFinish',\n",
       " 'GarageQual',\n",
       " 'GarageCond',\n",
       " 'PoolQC',\n",
       " 'Fence',\n",
       " 'MiscFeature']"
      ]
     },
     "execution_count": 3,
     "metadata": {},
     "output_type": "execute_result"
    }
   ],
   "source": [
    "#非0為真，0為假(False)，所以先用isnull轉成TureFalse再取mean\n",
    "var_na = [col for col in data.columns if data[col].isnull().mean() > 0]\n",
    "var_na"
   ]
  },
  {
   "cell_type": "markdown",
   "id": "5542fbcf-5f12-4a99-b05a-35685118e50d",
   "metadata": {
    "tags": []
   },
   "source": [
    "##### 完整資料分析（CCA）就是刪除空值，但其使用前提是資料的缺失是隨機的（MCAR），而且缺失比例不能大於5%\n",
    "\n",
    "##### 欄位中的缺失值要小於5%才算是CCA(完整資料分析)"
   ]
  },
  {
   "cell_type": "code",
   "execution_count": 11,
   "id": "7fc71f52-af4f-4222-b7e4-af511b768862",
   "metadata": {
    "collapsed": true,
    "jupyter": {
     "outputs_hidden": true
    },
    "tags": []
   },
   "outputs": [
    {
     "data": {
      "text/plain": [
       "['Id',\n",
       " 'MSSubClass',\n",
       " 'MSZoning',\n",
       " 'LotArea',\n",
       " 'Street',\n",
       " 'LotShape',\n",
       " 'LandContour',\n",
       " 'Utilities',\n",
       " 'LotConfig',\n",
       " 'LandSlope',\n",
       " 'Neighborhood',\n",
       " 'Condition1',\n",
       " 'Condition2',\n",
       " 'BldgType',\n",
       " 'HouseStyle',\n",
       " 'OverallQual',\n",
       " 'OverallCond',\n",
       " 'YearBuilt',\n",
       " 'YearRemodAdd',\n",
       " 'RoofStyle',\n",
       " 'RoofMatl',\n",
       " 'Exterior1st',\n",
       " 'Exterior2nd',\n",
       " 'MasVnrType',\n",
       " 'MasVnrArea',\n",
       " 'ExterQual',\n",
       " 'ExterCond',\n",
       " 'Foundation',\n",
       " 'BsmtQual',\n",
       " 'BsmtCond',\n",
       " 'BsmtExposure',\n",
       " 'BsmtFinType1',\n",
       " 'BsmtFinSF1',\n",
       " 'BsmtFinType2',\n",
       " 'BsmtFinSF2',\n",
       " 'BsmtUnfSF',\n",
       " 'TotalBsmtSF',\n",
       " 'Heating',\n",
       " 'HeatingQC',\n",
       " 'CentralAir',\n",
       " 'Electrical',\n",
       " '1stFlrSF',\n",
       " '2ndFlrSF',\n",
       " 'LowQualFinSF',\n",
       " 'GrLivArea',\n",
       " 'BsmtFullBath',\n",
       " 'BsmtHalfBath',\n",
       " 'FullBath',\n",
       " 'HalfBath',\n",
       " 'BedroomAbvGr',\n",
       " 'KitchenAbvGr',\n",
       " 'KitchenQual',\n",
       " 'TotRmsAbvGrd',\n",
       " 'Functional',\n",
       " 'Fireplaces',\n",
       " 'GarageCars',\n",
       " 'GarageArea',\n",
       " 'PavedDrive',\n",
       " 'WoodDeckSF',\n",
       " 'OpenPorchSF',\n",
       " 'EnclosedPorch',\n",
       " '3SsnPorch',\n",
       " 'ScreenPorch',\n",
       " 'PoolArea',\n",
       " 'MiscVal',\n",
       " 'MoSold',\n",
       " 'YrSold',\n",
       " 'SaleType',\n",
       " 'SaleCondition',\n",
       " 'SalePrice']"
      ]
     },
     "execution_count": 11,
     "metadata": {},
     "output_type": "execute_result"
    }
   ],
   "source": [
    "cca = [col for col in data.columns if data[col].isnull().mean() < 0.05]\n",
    "cca"
   ]
  },
  {
   "cell_type": "code",
   "execution_count": 5,
   "id": "935260ea-c707-4183-ba93-85789f19a0cd",
   "metadata": {},
   "outputs": [],
   "source": [
    "#接著我們要把上面這些變數的缺失值全部drop掉，總共drop掉了48筆資料\n",
    "cca_drop = data[cca].dropna()"
   ]
  },
  {
   "cell_type": "code",
   "execution_count": 6,
   "id": "1a24d395-ea86-433a-95c8-b010736bd96a",
   "metadata": {},
   "outputs": [
    {
     "data": {
      "text/plain": [
       "((1412, 70), (1460, 81))"
      ]
     },
     "execution_count": 6,
     "metadata": {},
     "output_type": "execute_result"
    }
   ],
   "source": [
    "cca_drop.shape,data.shape"
   ]
  },
  {
   "cell_type": "code",
   "execution_count": 8,
   "id": "4c245d6d-1052-4145-acee-55087bb91208",
   "metadata": {},
   "outputs": [
    {
     "data": {
      "image/png": "[encoded data removed]",
      "text/plain": [
       "<Figure size 432x288 with 1 Axes>"
      ]
     },
     "metadata": {
      "needs_background": "light"
     },
     "output_type": "display_data"
    }
   ],
   "source": [
    "#接下來，我們來看一下CCA後的資料變動，我們拿GrLivArea這個變數為例\n",
    "#可以看到整體資料的分布並沒有變太多，這也是為什麼我們要設0.05的原因\n",
    "plt.hist(data['GrLivArea'], bins=50, color='red', label='Original')\n",
    "plt.hist(cca_drop['GrLivArea'], bins=50, color='blue', alpha=0.7, label='After')\n",
    "plt.legend();"
   ]
  },
  {
   "cell_type": "markdown",
   "id": "dc9a5152-c816-494d-82dc-e5970e7f66cc",
   "metadata": {},
   "source": [
    "##### 除了完整資料分析外我們還有平均數與中位數插值法，那什麼時候該用平均數跟中位數呢？當資料是常態分佈時我們可以利用平均數跟中位數因為這兩個數字基本上差異不大，但是當資料呈現負偏態的時候用中位數會更貼近現實，因為平均數會被離群值影響，相對的當資料呈現正偏態的時候使用中位數也是一個較好的選擇"
   ]
  },
  {
   "cell_type": "code",
   "execution_count": 15,
   "id": "cebc7b66-0b40-4732-a5a9-c930cc7ae246",
   "metadata": {},
   "outputs": [
    {
     "data": {
      "text/plain": [
       "Id               0.000000\n",
       "MSSubClass       0.000000\n",
       "MSZoning         0.000000\n",
       "LotFrontage      0.177397\n",
       "LotArea          0.000000\n",
       "                   ...   \n",
       "MoSold           0.000000\n",
       "YrSold           0.000000\n",
       "SaleType         0.000000\n",
       "SaleCondition    0.000000\n",
       "SalePrice        0.000000\n",
       "Length: 81, dtype: float64"
      ]
     },
     "execution_count": 15,
     "metadata": {},
     "output_type": "execute_result"
    }
   ],
   "source": [
    "data.isnull().mean()"
   ]
  },
  {
   "cell_type": "code",
   "execution_count": 16,
   "id": "0d26d26d-4941-4dd0-ac1c-7670879f0cb6",
   "metadata": {},
   "outputs": [
    {
     "data": {
      "text/plain": [
       "MasVnrArea      0.547945\n",
       "GarageYrBlt     5.547945\n",
       "LotFrontage    17.739726\n",
       "SalePrice       0.000000\n",
       "dtype: float64"
      ]
     },
     "execution_count": 16,
     "metadata": {},
     "output_type": "execute_result"
    }
   ],
   "source": [
    "#用三個變數來示範(SalesPrice則是我們要預測的數字)，3個變數的缺失比例從0.5% ~ 17.7%都有\n",
    "data = data[[\"MasVnrArea\", \"GarageYrBlt\", \"LotFrontage\", \"SalePrice\"]]\n",
    "data.isnull().mean()*100"
   ]
  },
  {
   "cell_type": "code",
   "execution_count": 18,
   "id": "84c91e83-7673-4085-97a1-a01605efbb3e",
   "metadata": {},
   "outputs": [],
   "source": [
    "#接著來把資料做拆分\n",
    "from sklearn.model_selection import train_test_split\n",
    "X = data.drop('SalePrice', axis=1)\n",
    "y = data['SalePrice']\n",
    "X_train, X_test, y_train, y_test = train_test_split(X, y, test_size=0.3, random_state=42)"
   ]
  },
  {
   "cell_type": "code",
   "execution_count": 21,
   "id": "d76b0329-1b2d-464a-8e7b-118295e93dcc",
   "metadata": {},
   "outputs": [
    {
     "data": {
      "text/plain": [
       "<AxesSubplot:xlabel='LotFrontage', ylabel='Density'>"
      ]
     },
     "execution_count": 21,
     "metadata": {},
     "output_type": "execute_result"
    },
    {
     "data": {
      "image/png": "[encoded data removed]",
      "text/plain": [
       "<Figure size 1440x360 with 3 Axes>"
      ]
     },
     "metadata": {
      "needs_background": "light"
     },
     "output_type": "display_data"
    }
   ],
   "source": [
    "#接著來做中位數插值法，採用這個方法的原因是資料不是常態分布，我們可以用以下程式碼畫個簡單的圖表作分析\n",
    "import seaborn as sns\n",
    "import warnings\n",
    "warnings.filterwarnings('ignore')\n",
    "\n",
    "f, ax = plt.subplots(nrows=1, ncols=3, figsize=(20, 5))\n",
    "ax = ax.flatten()\n",
    "sns.distplot(X_train['MasVnrArea'], ax=ax[0])\n",
    "sns.distplot(X_train['GarageYrBlt'], ax=ax[1])\n",
    "sns.distplot(X_train['LotFrontage'], ax=ax[2])"
   ]
  },
  {
   "cell_type": "code",
   "execution_count": 25,
   "id": "9e1ef9b8-58bf-471a-b043-103f074822dc",
   "metadata": {},
   "outputs": [],
   "source": [
    "#接著來插數字\n",
    "import numpy as np\n",
    "from sklearn.impute import SimpleImputer\n",
    "imp = SimpleImputer(missing_values=np.nan, strategy='median')\n",
    "imp.fit(X_train)\n",
    "X_train_transformed = imp.transform(X_train)\n",
    "\n",
    "#我們把完成的資料轉變成dataframe是為了後續作圖方便，因為transform完的資料會回傳array而不是dataframe\n",
    "X_train_transformed = pd.DataFrame(X_train_transformed, columns=data.columns[0: -1])"
   ]
  },
  {
   "cell_type": "code",
   "execution_count": 26,
   "id": "6d86989a-56dc-4653-ba38-92ab24f1e377",
   "metadata": {},
   "outputs": [
    {
     "name": "stdout",
     "output_type": "stream",
     "text": [
      "col MasVnrArea's variance is 29798.679649948328 before median imputation\n",
      "col MasVnrArea's variance is 29743.6366445058 after median imputation\n",
      "difference is 55.04300544252692\n",
      "\n",
      "col GarageYrBlt's variance is 615.1299507803428 before median imputation\n",
      "col GarageYrBlt's variance is 582.7156193871807 after median imputation\n",
      "difference is 32.414331393162115\n",
      "\n",
      "col LotFrontage's variance is 651.1814903846154 before median imputation\n",
      "col LotFrontage's variance is 530.1416354869964 after median imputation\n",
      "difference is 121.03985489761897\n",
      "\n"
     ]
    }
   ],
   "source": [
    "#接著我們先從變異數來比較其後的差異\n",
    "# 我們可以看到，即便只有缺失0.5%的資料，經過中位數插值法後變異數差異也會達到55\n",
    "for col in X_train.columns:\n",
    "    print(f\"col {col}'s variance is {np.var(X_train[col])} before median imputation\")\n",
    "    print(f\"col {col}'s variance is {np.var(X_train_transformed[col])} after median imputation\")\n",
    "    print(f\"difference is {abs(np.var(X_train_transformed[col]) - np.var(X_train[col]))}\\n\")"
   ]
  },
  {
   "cell_type": "code",
   "execution_count": 27,
   "id": "cff570bb-7bb8-41e8-b8e9-10e36f3b5e5b",
   "metadata": {},
   "outputs": [
    {
     "data": {
      "image/png": "[encoded data removed]",
      "text/plain": [
       "<Figure size 1440x360 with 3 Axes>"
      ]
     },
     "metadata": {
      "needs_background": "light"
     },
     "output_type": "display_data"
    }
   ],
   "source": [
    "#接著來看圖，我們可以看到，使用這個插值法的前後，會對資料的分布狀況造成一定影響的，尤其是缺失值比例越大的時候越嚴重！\n",
    "f, ax = plt.subplots(nrows=1, ncols=3, figsize=(20, 5))\n",
    "ax = ax.flatten()\n",
    "sns.distplot(X_train[\"MasVnrArea\"], ax=ax[0], label=\"before imputation\")\n",
    "sns.distplot(X_train_transformed[\"MasVnrArea\"], ax=ax[0], label=\"after imputation\")\n",
    "sns.distplot(X_train[\"GarageYrBlt\"], ax=ax[1], label=\"before imputation\")\n",
    "sns.distplot(X_train_transformed[\"GarageYrBlt\"], ax=ax[1], label=\"after imputation\")\n",
    "sns.distplot(X_train[\"LotFrontage\"], ax=ax[2], label=\"before imputation\")\n",
    "sns.distplot(X_train_transformed[\"LotFrontage\"], ax=ax[2], label=\"after imputation\")\n",
    "plt.legend();"
   ]
  },
  {
   "cell_type": "code",
   "execution_count": null,
   "id": "ee4aee92-7791-452a-b83b-720aad5aeff8",
   "metadata": {},
   "outputs": [],
   "source": []
  },
  {
   "cell_type": "code",
   "execution_count": null,
   "id": "b5b83539-a78b-4587-81be-c414d658939e",
   "metadata": {},
   "outputs": [],
   "source": []
  },
  {
   "cell_type": "code",
   "execution_count": null,
   "id": "f5d87641-01bc-46b9-a77a-39ad4170da72",
   "metadata": {},
   "outputs": [],
   "source": []
  },
  {
   "cell_type": "code",
   "execution_count": null,
   "id": "92707a5b-e528-4603-b6cb-ee2f1bebff63",
   "metadata": {},
   "outputs": [],
   "source": []
  }
 ],
 "metadata": {
  "kernelspec": {
   "display_name": "Python 3 (ipykernel)",
   "language": "python",
   "name": "python3"
  },
  "language_info": {
   "codemirror_mode": {
    "name": "ipython",
    "version": 3
   },
   "file_extension": ".py",
   "mimetype": "text/x-python",
   "name": "python",
   "nbconvert_exporter": "python",
   "pygments_lexer": "ipython3",
   "version": "3.8.10"
  }
 },
 "nbformat": 4,
 "nbformat_minor": 5
}
