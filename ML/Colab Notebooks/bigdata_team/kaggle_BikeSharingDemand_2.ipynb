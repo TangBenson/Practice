{
 "cells": [
  {
   "cell_type": "code",
   "execution_count": 1,
   "id": "640d054f-784c-4b4c-be28-93a5ecdd23ee",
   "metadata": {},
   "outputs": [],
   "source": [
    "# https://codertw.com/%E7%A8%8B%E5%BC%8F%E8%AA%9E%E8%A8%80/634456/"
   ]
  },
  {
   "cell_type": "code",
   "execution_count": 2,
   "id": "9877932d-7b10-40c6-b964-94168ffb5517",
   "metadata": {},
   "outputs": [],
   "source": [
    "# 網友該資料集在各模型跑出的RMSLE結果：RandomForestRegressor > SVR > KNeighborsRegressor"
   ]
  },
  {
   "cell_type": "code",
   "execution_count": 3,
   "id": "606e6c6d-c9fc-42c3-abc8-53c43ececebe",
   "metadata": {},
   "outputs": [],
   "source": [
    "import numpy as np\n",
    "import pandas as pd\n",
    "get_ipython().magic('matplotlib inline')\n",
    "from sklearn.model_selection import cross_val_score\n",
    "from sklearn.metrics import mean_squared_error\n",
    "from sklearn.ensemble import RandomForestRegressor\n",
    "from datetime import datetime "
   ]
  },
  {
   "cell_type": "markdown",
   "id": "7c89d66c-3b2f-4690-8dcb-e6b203b8a806",
   "metadata": {},
   "source": [
    "# 讀取及觀察資料"
   ]
  },
  {
   "cell_type": "code",
   "execution_count": 4,
   "id": "4b4722c8-814d-464b-9460-47187dcbe9df",
   "metadata": {},
   "outputs": [],
   "source": [
    "df_origin = pd.read_csv(\"data/bikeshare/train.csv\",sep=\",\")"
   ]
  },
  {
   "cell_type": "code",
   "execution_count": 5,
   "id": "df6ca68e-7988-48e2-bef8-5c1c43f98a02",
   "metadata": {},
   "outputs": [
    {
     "name": "stdout",
     "output_type": "stream",
     "text": [
      "(10886, 12)\n"
     ]
    },
    {
     "data": {
      "text/html": [
       "<div>\n",
       "<style scoped>\n",
       "    .dataframe tbody tr th:only-of-type {\n",
       "        vertical-align: middle;\n",
       "    }\n",
       "\n",
       "    .dataframe tbody tr th {\n",
       "        vertical-align: top;\n",
       "    }\n",
       "\n",
       "    .dataframe thead th {\n",
       "        text-align: right;\n",
       "    }\n",
       "</style>\n",
       "<table border=\"1\" class=\"dataframe\">\n",
       "  <thead>\n",
       "    <tr style=\"text-align: right;\">\n",
       "      <th></th>\n",
       "      <th>datetime</th>\n",
       "      <th>season</th>\n",
       "      <th>holiday</th>\n",
       "      <th>workingday</th>\n",
       "      <th>weather</th>\n",
       "      <th>temp</th>\n",
       "      <th>atemp</th>\n",
       "      <th>humidity</th>\n",
       "      <th>windspeed</th>\n",
       "      <th>casual</th>\n",
       "      <th>registered</th>\n",
       "      <th>count</th>\n",
       "    </tr>\n",
       "  </thead>\n",
       "  <tbody>\n",
       "    <tr>\n",
       "      <th>0</th>\n",
       "      <td>2011-01-01 00:00:00</td>\n",
       "      <td>1</td>\n",
       "      <td>0</td>\n",
       "      <td>0</td>\n",
       "      <td>1</td>\n",
       "      <td>9.84</td>\n",
       "      <td>14.395</td>\n",
       "      <td>81</td>\n",
       "      <td>0.0</td>\n",
       "      <td>3</td>\n",
       "      <td>13</td>\n",
       "      <td>16</td>\n",
       "    </tr>\n",
       "  </tbody>\n",
       "</table>\n",
       "</div>"
      ],
      "text/plain": [
       "              datetime  season  holiday  workingday  weather  temp   atemp  \\\n",
       "0  2011-01-01 00:00:00       1        0           0        1  9.84  14.395   \n",
       "\n",
       "   humidity  windspeed  casual  registered  count  \n",
       "0        81        0.0       3          13     16  "
      ]
     },
     "execution_count": 5,
     "metadata": {},
     "output_type": "execute_result"
    }
   ],
   "source": [
    "print(df_origin.shape)\n",
    "df_origin.head(1)"
   ]
  },
  {
   "cell_type": "code",
   "execution_count": 6,
   "id": "912c1576-993d-45f6-aa13-cc115f73ef4e",
   "metadata": {},
   "outputs": [
    {
     "name": "stdout",
     "output_type": "stream",
     "text": [
      "<class 'pandas.core.frame.DataFrame'>\n",
      "RangeIndex: 10886 entries, 0 to 10885\n",
      "Data columns (total 12 columns):\n",
      " #   Column      Non-Null Count  Dtype  \n",
      "---  ------      --------------  -----  \n",
      " 0   datetime    10886 non-null  object \n",
      " 1   season      10886 non-null  int64  \n",
      " 2   holiday     10886 non-null  int64  \n",
      " 3   workingday  10886 non-null  int64  \n",
      " 4   weather     10886 non-null  int64  \n",
      " 5   temp        10886 non-null  float64\n",
      " 6   atemp       10886 non-null  float64\n",
      " 7   humidity    10886 non-null  int64  \n",
      " 8   windspeed   10886 non-null  float64\n",
      " 9   casual      10886 non-null  int64  \n",
      " 10  registered  10886 non-null  int64  \n",
      " 11  count       10886 non-null  int64  \n",
      "dtypes: float64(3), int64(8), object(1)\n",
      "memory usage: 1020.7+ KB\n"
     ]
    }
   ],
   "source": [
    "df_origin.info()"
   ]
  },
  {
   "cell_type": "code",
   "execution_count": 7,
   "id": "419dfefd-b728-463c-ae29-5b3b03eeef6c",
   "metadata": {},
   "outputs": [
    {
     "data": {
      "text/html": [
       "<div>\n",
       "<style scoped>\n",
       "    .dataframe tbody tr th:only-of-type {\n",
       "        vertical-align: middle;\n",
       "    }\n",
       "\n",
       "    .dataframe tbody tr th {\n",
       "        vertical-align: top;\n",
       "    }\n",
       "\n",
       "    .dataframe thead th {\n",
       "        text-align: right;\n",
       "    }\n",
       "</style>\n",
       "<table border=\"1\" class=\"dataframe\">\n",
       "  <thead>\n",
       "    <tr style=\"text-align: right;\">\n",
       "      <th></th>\n",
       "      <th>season</th>\n",
       "      <th>holiday</th>\n",
       "      <th>workingday</th>\n",
       "      <th>weather</th>\n",
       "      <th>temp</th>\n",
       "      <th>atemp</th>\n",
       "      <th>humidity</th>\n",
       "      <th>windspeed</th>\n",
       "      <th>casual</th>\n",
       "      <th>registered</th>\n",
       "      <th>count</th>\n",
       "    </tr>\n",
       "  </thead>\n",
       "  <tbody>\n",
       "    <tr>\n",
       "      <th>count</th>\n",
       "      <td>10886.000000</td>\n",
       "      <td>10886.000000</td>\n",
       "      <td>10886.000000</td>\n",
       "      <td>10886.000000</td>\n",
       "      <td>10886.00000</td>\n",
       "      <td>10886.000000</td>\n",
       "      <td>10886.000000</td>\n",
       "      <td>10886.000000</td>\n",
       "      <td>10886.000000</td>\n",
       "      <td>10886.000000</td>\n",
       "      <td>10886.000000</td>\n",
       "    </tr>\n",
       "    <tr>\n",
       "      <th>mean</th>\n",
       "      <td>2.506614</td>\n",
       "      <td>0.028569</td>\n",
       "      <td>0.680875</td>\n",
       "      <td>1.418427</td>\n",
       "      <td>20.23086</td>\n",
       "      <td>23.655084</td>\n",
       "      <td>61.886460</td>\n",
       "      <td>12.799395</td>\n",
       "      <td>36.021955</td>\n",
       "      <td>155.552177</td>\n",
       "      <td>191.574132</td>\n",
       "    </tr>\n",
       "    <tr>\n",
       "      <th>std</th>\n",
       "      <td>1.116174</td>\n",
       "      <td>0.166599</td>\n",
       "      <td>0.466159</td>\n",
       "      <td>0.633839</td>\n",
       "      <td>7.79159</td>\n",
       "      <td>8.474601</td>\n",
       "      <td>19.245033</td>\n",
       "      <td>8.164537</td>\n",
       "      <td>49.960477</td>\n",
       "      <td>151.039033</td>\n",
       "      <td>181.144454</td>\n",
       "    </tr>\n",
       "    <tr>\n",
       "      <th>min</th>\n",
       "      <td>1.000000</td>\n",
       "      <td>0.000000</td>\n",
       "      <td>0.000000</td>\n",
       "      <td>1.000000</td>\n",
       "      <td>0.82000</td>\n",
       "      <td>0.760000</td>\n",
       "      <td>0.000000</td>\n",
       "      <td>0.000000</td>\n",
       "      <td>0.000000</td>\n",
       "      <td>0.000000</td>\n",
       "      <td>1.000000</td>\n",
       "    </tr>\n",
       "    <tr>\n",
       "      <th>25%</th>\n",
       "      <td>2.000000</td>\n",
       "      <td>0.000000</td>\n",
       "      <td>0.000000</td>\n",
       "      <td>1.000000</td>\n",
       "      <td>13.94000</td>\n",
       "      <td>16.665000</td>\n",
       "      <td>47.000000</td>\n",
       "      <td>7.001500</td>\n",
       "      <td>4.000000</td>\n",
       "      <td>36.000000</td>\n",
       "      <td>42.000000</td>\n",
       "    </tr>\n",
       "    <tr>\n",
       "      <th>50%</th>\n",
       "      <td>3.000000</td>\n",
       "      <td>0.000000</td>\n",
       "      <td>1.000000</td>\n",
       "      <td>1.000000</td>\n",
       "      <td>20.50000</td>\n",
       "      <td>24.240000</td>\n",
       "      <td>62.000000</td>\n",
       "      <td>12.998000</td>\n",
       "      <td>17.000000</td>\n",
       "      <td>118.000000</td>\n",
       "      <td>145.000000</td>\n",
       "    </tr>\n",
       "    <tr>\n",
       "      <th>75%</th>\n",
       "      <td>4.000000</td>\n",
       "      <td>0.000000</td>\n",
       "      <td>1.000000</td>\n",
       "      <td>2.000000</td>\n",
       "      <td>26.24000</td>\n",
       "      <td>31.060000</td>\n",
       "      <td>77.000000</td>\n",
       "      <td>16.997900</td>\n",
       "      <td>49.000000</td>\n",
       "      <td>222.000000</td>\n",
       "      <td>284.000000</td>\n",
       "    </tr>\n",
       "    <tr>\n",
       "      <th>max</th>\n",
       "      <td>4.000000</td>\n",
       "      <td>1.000000</td>\n",
       "      <td>1.000000</td>\n",
       "      <td>4.000000</td>\n",
       "      <td>41.00000</td>\n",
       "      <td>45.455000</td>\n",
       "      <td>100.000000</td>\n",
       "      <td>56.996900</td>\n",
       "      <td>367.000000</td>\n",
       "      <td>886.000000</td>\n",
       "      <td>977.000000</td>\n",
       "    </tr>\n",
       "  </tbody>\n",
       "</table>\n",
       "</div>"
      ],
      "text/plain": [
       "             season       holiday    workingday       weather         temp  \\\n",
       "count  10886.000000  10886.000000  10886.000000  10886.000000  10886.00000   \n",
       "mean       2.506614      0.028569      0.680875      1.418427     20.23086   \n",
       "std        1.116174      0.166599      0.466159      0.633839      7.79159   \n",
       "min        1.000000      0.000000      0.000000      1.000000      0.82000   \n",
       "25%        2.000000      0.000000      0.000000      1.000000     13.94000   \n",
       "50%        3.000000      0.000000      1.000000      1.000000     20.50000   \n",
       "75%        4.000000      0.000000      1.000000      2.000000     26.24000   \n",
       "max        4.000000      1.000000      1.000000      4.000000     41.00000   \n",
       "\n",
       "              atemp      humidity     windspeed        casual    registered  \\\n",
       "count  10886.000000  10886.000000  10886.000000  10886.000000  10886.000000   \n",
       "mean      23.655084     61.886460     12.799395     36.021955    155.552177   \n",
       "std        8.474601     19.245033      8.164537     49.960477    151.039033   \n",
       "min        0.760000      0.000000      0.000000      0.000000      0.000000   \n",
       "25%       16.665000     47.000000      7.001500      4.000000     36.000000   \n",
       "50%       24.240000     62.000000     12.998000     17.000000    118.000000   \n",
       "75%       31.060000     77.000000     16.997900     49.000000    222.000000   \n",
       "max       45.455000    100.000000     56.996900    367.000000    886.000000   \n",
       "\n",
       "              count  \n",
       "count  10886.000000  \n",
       "mean     191.574132  \n",
       "std      181.144454  \n",
       "min        1.000000  \n",
       "25%       42.000000  \n",
       "50%      145.000000  \n",
       "75%      284.000000  \n",
       "max      977.000000  "
      ]
     },
     "execution_count": 7,
     "metadata": {},
     "output_type": "execute_result"
    }
   ],
   "source": [
    "df_origin.describe()"
   ]
  },
  {
   "cell_type": "code",
   "execution_count": 8,
   "id": "abca1d79-f8a7-4446-b609-debb71b34d90",
   "metadata": {},
   "outputs": [],
   "source": [
    "# df_origin.columns"
   ]
  },
  {
   "cell_type": "code",
   "execution_count": 9,
   "id": "24429395-b8e9-4650-bcf6-6c1c12070b01",
   "metadata": {},
   "outputs": [
    {
     "name": "stdout",
     "output_type": "stream",
     "text": [
      "(6493, 9)\n"
     ]
    },
    {
     "data": {
      "text/html": [
       "<div>\n",
       "<style scoped>\n",
       "    .dataframe tbody tr th:only-of-type {\n",
       "        vertical-align: middle;\n",
       "    }\n",
       "\n",
       "    .dataframe tbody tr th {\n",
       "        vertical-align: top;\n",
       "    }\n",
       "\n",
       "    .dataframe thead th {\n",
       "        text-align: right;\n",
       "    }\n",
       "</style>\n",
       "<table border=\"1\" class=\"dataframe\">\n",
       "  <thead>\n",
       "    <tr style=\"text-align: right;\">\n",
       "      <th></th>\n",
       "      <th>datetime</th>\n",
       "      <th>season</th>\n",
       "      <th>holiday</th>\n",
       "      <th>workingday</th>\n",
       "      <th>weather</th>\n",
       "      <th>temp</th>\n",
       "      <th>atemp</th>\n",
       "      <th>humidity</th>\n",
       "      <th>windspeed</th>\n",
       "    </tr>\n",
       "  </thead>\n",
       "  <tbody>\n",
       "    <tr>\n",
       "      <th>0</th>\n",
       "      <td>2011-01-20 00:00:00</td>\n",
       "      <td>1</td>\n",
       "      <td>0</td>\n",
       "      <td>1</td>\n",
       "      <td>1</td>\n",
       "      <td>10.66</td>\n",
       "      <td>11.365</td>\n",
       "      <td>56</td>\n",
       "      <td>26.0027</td>\n",
       "    </tr>\n",
       "  </tbody>\n",
       "</table>\n",
       "</div>"
      ],
      "text/plain": [
       "              datetime  season  holiday  workingday  weather   temp   atemp  \\\n",
       "0  2011-01-20 00:00:00       1        0           1        1  10.66  11.365   \n",
       "\n",
       "   humidity  windspeed  \n",
       "0        56    26.0027  "
      ]
     },
     "execution_count": 9,
     "metadata": {},
     "output_type": "execute_result"
    }
   ],
   "source": [
    "df_test = pd.read_csv(\"data/bikeshare/test.csv\",sep=\",\")\n",
    "print(df_test.shape)\n",
    "df_test.head(1)"
   ]
  },
  {
   "cell_type": "code",
   "execution_count": 10,
   "id": "4efddf5a-421d-40c6-8627-f580245782f3",
   "metadata": {},
   "outputs": [
    {
     "data": {
      "text/html": [
       "<div>\n",
       "<style scoped>\n",
       "    .dataframe tbody tr th:only-of-type {\n",
       "        vertical-align: middle;\n",
       "    }\n",
       "\n",
       "    .dataframe tbody tr th {\n",
       "        vertical-align: top;\n",
       "    }\n",
       "\n",
       "    .dataframe thead th {\n",
       "        text-align: right;\n",
       "    }\n",
       "</style>\n",
       "<table border=\"1\" class=\"dataframe\">\n",
       "  <thead>\n",
       "    <tr style=\"text-align: right;\">\n",
       "      <th></th>\n",
       "      <th>datetime</th>\n",
       "      <th>season</th>\n",
       "      <th>holiday</th>\n",
       "      <th>workingday</th>\n",
       "      <th>weather</th>\n",
       "      <th>temp</th>\n",
       "      <th>atemp</th>\n",
       "      <th>humidity</th>\n",
       "      <th>windspeed</th>\n",
       "      <th>casual</th>\n",
       "      <th>registered</th>\n",
       "      <th>count</th>\n",
       "    </tr>\n",
       "  </thead>\n",
       "  <tbody>\n",
       "    <tr>\n",
       "      <th>0</th>\n",
       "      <td>False</td>\n",
       "      <td>False</td>\n",
       "      <td>False</td>\n",
       "      <td>False</td>\n",
       "      <td>False</td>\n",
       "      <td>False</td>\n",
       "      <td>False</td>\n",
       "      <td>False</td>\n",
       "      <td>False</td>\n",
       "      <td>False</td>\n",
       "      <td>False</td>\n",
       "      <td>False</td>\n",
       "    </tr>\n",
       "    <tr>\n",
       "      <th>1</th>\n",
       "      <td>False</td>\n",
       "      <td>False</td>\n",
       "      <td>False</td>\n",
       "      <td>False</td>\n",
       "      <td>False</td>\n",
       "      <td>False</td>\n",
       "      <td>False</td>\n",
       "      <td>False</td>\n",
       "      <td>False</td>\n",
       "      <td>False</td>\n",
       "      <td>False</td>\n",
       "      <td>False</td>\n",
       "    </tr>\n",
       "    <tr>\n",
       "      <th>2</th>\n",
       "      <td>False</td>\n",
       "      <td>False</td>\n",
       "      <td>False</td>\n",
       "      <td>False</td>\n",
       "      <td>False</td>\n",
       "      <td>False</td>\n",
       "      <td>False</td>\n",
       "      <td>False</td>\n",
       "      <td>False</td>\n",
       "      <td>False</td>\n",
       "      <td>False</td>\n",
       "      <td>False</td>\n",
       "    </tr>\n",
       "    <tr>\n",
       "      <th>3</th>\n",
       "      <td>False</td>\n",
       "      <td>False</td>\n",
       "      <td>False</td>\n",
       "      <td>False</td>\n",
       "      <td>False</td>\n",
       "      <td>False</td>\n",
       "      <td>False</td>\n",
       "      <td>False</td>\n",
       "      <td>False</td>\n",
       "      <td>False</td>\n",
       "      <td>False</td>\n",
       "      <td>False</td>\n",
       "    </tr>\n",
       "    <tr>\n",
       "      <th>4</th>\n",
       "      <td>False</td>\n",
       "      <td>False</td>\n",
       "      <td>False</td>\n",
       "      <td>False</td>\n",
       "      <td>False</td>\n",
       "      <td>False</td>\n",
       "      <td>False</td>\n",
       "      <td>False</td>\n",
       "      <td>False</td>\n",
       "      <td>False</td>\n",
       "      <td>False</td>\n",
       "      <td>False</td>\n",
       "    </tr>\n",
       "    <tr>\n",
       "      <th>...</th>\n",
       "      <td>...</td>\n",
       "      <td>...</td>\n",
       "      <td>...</td>\n",
       "      <td>...</td>\n",
       "      <td>...</td>\n",
       "      <td>...</td>\n",
       "      <td>...</td>\n",
       "      <td>...</td>\n",
       "      <td>...</td>\n",
       "      <td>...</td>\n",
       "      <td>...</td>\n",
       "      <td>...</td>\n",
       "    </tr>\n",
       "    <tr>\n",
       "      <th>10881</th>\n",
       "      <td>False</td>\n",
       "      <td>False</td>\n",
       "      <td>False</td>\n",
       "      <td>False</td>\n",
       "      <td>False</td>\n",
       "      <td>False</td>\n",
       "      <td>False</td>\n",
       "      <td>False</td>\n",
       "      <td>False</td>\n",
       "      <td>False</td>\n",
       "      <td>False</td>\n",
       "      <td>False</td>\n",
       "    </tr>\n",
       "    <tr>\n",
       "      <th>10882</th>\n",
       "      <td>False</td>\n",
       "      <td>False</td>\n",
       "      <td>False</td>\n",
       "      <td>False</td>\n",
       "      <td>False</td>\n",
       "      <td>False</td>\n",
       "      <td>False</td>\n",
       "      <td>False</td>\n",
       "      <td>False</td>\n",
       "      <td>False</td>\n",
       "      <td>False</td>\n",
       "      <td>False</td>\n",
       "    </tr>\n",
       "    <tr>\n",
       "      <th>10883</th>\n",
       "      <td>False</td>\n",
       "      <td>False</td>\n",
       "      <td>False</td>\n",
       "      <td>False</td>\n",
       "      <td>False</td>\n",
       "      <td>False</td>\n",
       "      <td>False</td>\n",
       "      <td>False</td>\n",
       "      <td>False</td>\n",
       "      <td>False</td>\n",
       "      <td>False</td>\n",
       "      <td>False</td>\n",
       "    </tr>\n",
       "    <tr>\n",
       "      <th>10884</th>\n",
       "      <td>False</td>\n",
       "      <td>False</td>\n",
       "      <td>False</td>\n",
       "      <td>False</td>\n",
       "      <td>False</td>\n",
       "      <td>False</td>\n",
       "      <td>False</td>\n",
       "      <td>False</td>\n",
       "      <td>False</td>\n",
       "      <td>False</td>\n",
       "      <td>False</td>\n",
       "      <td>False</td>\n",
       "    </tr>\n",
       "    <tr>\n",
       "      <th>10885</th>\n",
       "      <td>False</td>\n",
       "      <td>False</td>\n",
       "      <td>False</td>\n",
       "      <td>False</td>\n",
       "      <td>False</td>\n",
       "      <td>False</td>\n",
       "      <td>False</td>\n",
       "      <td>False</td>\n",
       "      <td>False</td>\n",
       "      <td>False</td>\n",
       "      <td>False</td>\n",
       "      <td>False</td>\n",
       "    </tr>\n",
       "  </tbody>\n",
       "</table>\n",
       "<p>10886 rows × 12 columns</p>\n",
       "</div>"
      ],
      "text/plain": [
       "       datetime  season  holiday  workingday  weather   temp  atemp  humidity  \\\n",
       "0         False   False    False       False    False  False  False     False   \n",
       "1         False   False    False       False    False  False  False     False   \n",
       "2         False   False    False       False    False  False  False     False   \n",
       "3         False   False    False       False    False  False  False     False   \n",
       "4         False   False    False       False    False  False  False     False   \n",
       "...         ...     ...      ...         ...      ...    ...    ...       ...   \n",
       "10881     False   False    False       False    False  False  False     False   \n",
       "10882     False   False    False       False    False  False  False     False   \n",
       "10883     False   False    False       False    False  False  False     False   \n",
       "10884     False   False    False       False    False  False  False     False   \n",
       "10885     False   False    False       False    False  False  False     False   \n",
       "\n",
       "       windspeed  casual  registered  count  \n",
       "0          False   False       False  False  \n",
       "1          False   False       False  False  \n",
       "2          False   False       False  False  \n",
       "3          False   False       False  False  \n",
       "4          False   False       False  False  \n",
       "...          ...     ...         ...    ...  \n",
       "10881      False   False       False  False  \n",
       "10882      False   False       False  False  \n",
       "10883      False   False       False  False  \n",
       "10884      False   False       False  False  \n",
       "10885      False   False       False  False  \n",
       "\n",
       "[10886 rows x 12 columns]"
      ]
     },
     "execution_count": 10,
     "metadata": {},
     "output_type": "execute_result"
    }
   ],
   "source": [
    "# 檢測異常值\n",
    "df_origin.isnull()"
   ]
  },
  {
   "cell_type": "code",
   "execution_count": 11,
   "id": "c59e15b0-4f39-49e7-8df0-29acf82b82ab",
   "metadata": {},
   "outputs": [
    {
     "data": {
      "text/html": [
       "<div>\n",
       "<style scoped>\n",
       "    .dataframe tbody tr th:only-of-type {\n",
       "        vertical-align: middle;\n",
       "    }\n",
       "\n",
       "    .dataframe tbody tr th {\n",
       "        vertical-align: top;\n",
       "    }\n",
       "\n",
       "    .dataframe thead th {\n",
       "        text-align: right;\n",
       "    }\n",
       "</style>\n",
       "<table border=\"1\" class=\"dataframe\">\n",
       "  <thead>\n",
       "    <tr style=\"text-align: right;\">\n",
       "      <th></th>\n",
       "      <th>datetime</th>\n",
       "      <th>season</th>\n",
       "      <th>holiday</th>\n",
       "      <th>workingday</th>\n",
       "      <th>weather</th>\n",
       "      <th>temp</th>\n",
       "      <th>atemp</th>\n",
       "      <th>humidity</th>\n",
       "      <th>windspeed</th>\n",
       "      <th>casual</th>\n",
       "      <th>registered</th>\n",
       "      <th>count</th>\n",
       "    </tr>\n",
       "  </thead>\n",
       "  <tbody>\n",
       "  </tbody>\n",
       "</table>\n",
       "</div>"
      ],
      "text/plain": [
       "Empty DataFrame\n",
       "Columns: [datetime, season, holiday, workingday, weather, temp, atemp, humidity, windspeed, casual, registered, count]\n",
       "Index: []"
      ]
     },
     "execution_count": 11,
     "metadata": {},
     "output_type": "execute_result"
    }
   ],
   "source": [
    "# 這寫法才是找出null值，大家都用上面那個，是能看個屁\n",
    "df_origin[df_origin.isnull().T.any()]\n",
    "# 非转置：frame3.isnull().any()，得到的每一列求any()计算的结果，输出为列的Series\n",
    "# 转置：frame3.isnull().T.any()，得到的每一行求any()计算的结果，输出为行的Series"
   ]
  },
  {
   "cell_type": "markdown",
   "id": "dbb7bbb9-e19a-47aa-b1f3-c8b6d80c0e4a",
   "metadata": {},
   "source": [
    "# 特徵工程"
   ]
  },
  {
   "cell_type": "code",
   "execution_count": 12,
   "id": "573d4bee-80b3-4f0b-891d-8d41b94914d2",
   "metadata": {},
   "outputs": [
    {
     "data": {
      "text/html": [
       "<div>\n",
       "<style scoped>\n",
       "    .dataframe tbody tr th:only-of-type {\n",
       "        vertical-align: middle;\n",
       "    }\n",
       "\n",
       "    .dataframe tbody tr th {\n",
       "        vertical-align: top;\n",
       "    }\n",
       "\n",
       "    .dataframe thead th {\n",
       "        text-align: right;\n",
       "    }\n",
       "</style>\n",
       "<table border=\"1\" class=\"dataframe\">\n",
       "  <thead>\n",
       "    <tr style=\"text-align: right;\">\n",
       "      <th></th>\n",
       "      <th>datetime</th>\n",
       "      <th>season</th>\n",
       "      <th>holiday</th>\n",
       "      <th>workingday</th>\n",
       "      <th>weather</th>\n",
       "      <th>temp</th>\n",
       "      <th>atemp</th>\n",
       "      <th>humidity</th>\n",
       "      <th>windspeed</th>\n",
       "      <th>casual</th>\n",
       "      <th>registered</th>\n",
       "      <th>count</th>\n",
       "    </tr>\n",
       "  </thead>\n",
       "  <tbody>\n",
       "    <tr>\n",
       "      <th>0</th>\n",
       "      <td>2011-01-01 00:00:00</td>\n",
       "      <td>1</td>\n",
       "      <td>0</td>\n",
       "      <td>0</td>\n",
       "      <td>1</td>\n",
       "      <td>9.84</td>\n",
       "      <td>14.395</td>\n",
       "      <td>81</td>\n",
       "      <td>0.0</td>\n",
       "      <td>3</td>\n",
       "      <td>13</td>\n",
       "      <td>16</td>\n",
       "    </tr>\n",
       "  </tbody>\n",
       "</table>\n",
       "</div>"
      ],
      "text/plain": [
       "              datetime  season  holiday  workingday  weather  temp   atemp  \\\n",
       "0  2011-01-01 00:00:00       1        0           0        1  9.84  14.395   \n",
       "\n",
       "   humidity  windspeed  casual  registered  count  \n",
       "0        81        0.0       3          13     16  "
      ]
     },
     "execution_count": 12,
     "metadata": {},
     "output_type": "execute_result"
    }
   ],
   "source": [
    "df_origin.head(1)"
   ]
  },
  {
   "cell_type": "code",
   "execution_count": 13,
   "id": "8a436520-f2a7-4508-b90e-a32d4cd30775",
   "metadata": {},
   "outputs": [
    {
     "data": {
      "text/html": [
       "<div>\n",
       "<style scoped>\n",
       "    .dataframe tbody tr th:only-of-type {\n",
       "        vertical-align: middle;\n",
       "    }\n",
       "\n",
       "    .dataframe tbody tr th {\n",
       "        vertical-align: top;\n",
       "    }\n",
       "\n",
       "    .dataframe thead th {\n",
       "        text-align: right;\n",
       "    }\n",
       "</style>\n",
       "<table border=\"1\" class=\"dataframe\">\n",
       "  <thead>\n",
       "    <tr style=\"text-align: right;\">\n",
       "      <th></th>\n",
       "      <th>datetime</th>\n",
       "      <th>season</th>\n",
       "      <th>holiday</th>\n",
       "      <th>workingday</th>\n",
       "      <th>weather</th>\n",
       "      <th>temp</th>\n",
       "      <th>atemp</th>\n",
       "      <th>humidity</th>\n",
       "      <th>windspeed</th>\n",
       "      <th>casual</th>\n",
       "      <th>registered</th>\n",
       "      <th>count</th>\n",
       "      <th>hour</th>\n",
       "    </tr>\n",
       "  </thead>\n",
       "  <tbody>\n",
       "    <tr>\n",
       "      <th>0</th>\n",
       "      <td>2011-01-01 00:00:00</td>\n",
       "      <td>1</td>\n",
       "      <td>0</td>\n",
       "      <td>0</td>\n",
       "      <td>1</td>\n",
       "      <td>9.84</td>\n",
       "      <td>14.395</td>\n",
       "      <td>81</td>\n",
       "      <td>0.0</td>\n",
       "      <td>3</td>\n",
       "      <td>13</td>\n",
       "      <td>16</td>\n",
       "      <td>0</td>\n",
       "    </tr>\n",
       "  </tbody>\n",
       "</table>\n",
       "</div>"
      ],
      "text/plain": [
       "              datetime  season  holiday  workingday  weather  temp   atemp  \\\n",
       "0  2011-01-01 00:00:00       1        0           0        1  9.84  14.395   \n",
       "\n",
       "   humidity  windspeed  casual  registered  count  hour  \n",
       "0        81        0.0       3          13     16     0  "
      ]
     },
     "execution_count": 13,
     "metadata": {},
     "output_type": "execute_result"
    }
   ],
   "source": [
    "# 時間離散化\n",
    "df_origin['hour'] = df_origin['datetime'].str[11:13].astype(int)\n",
    "df_origin.head(1)"
   ]
  },
  {
   "cell_type": "code",
   "execution_count": 14,
   "id": "51c89258-24c4-4aa9-82db-22d8ec346c10",
   "metadata": {},
   "outputs": [
    {
     "data": {
      "text/html": [
       "<div>\n",
       "<style scoped>\n",
       "    .dataframe tbody tr th:only-of-type {\n",
       "        vertical-align: middle;\n",
       "    }\n",
       "\n",
       "    .dataframe tbody tr th {\n",
       "        vertical-align: top;\n",
       "    }\n",
       "\n",
       "    .dataframe thead th {\n",
       "        text-align: right;\n",
       "    }\n",
       "</style>\n",
       "<table border=\"1\" class=\"dataframe\">\n",
       "  <thead>\n",
       "    <tr style=\"text-align: right;\">\n",
       "      <th></th>\n",
       "      <th>datetime</th>\n",
       "      <th>season</th>\n",
       "      <th>holiday</th>\n",
       "      <th>workingday</th>\n",
       "      <th>weather</th>\n",
       "      <th>temp</th>\n",
       "      <th>atemp</th>\n",
       "      <th>humidity</th>\n",
       "      <th>windspeed</th>\n",
       "      <th>casual</th>\n",
       "      <th>registered</th>\n",
       "      <th>count</th>\n",
       "      <th>hour</th>\n",
       "      <th>week</th>\n",
       "    </tr>\n",
       "  </thead>\n",
       "  <tbody>\n",
       "    <tr>\n",
       "      <th>0</th>\n",
       "      <td>2011-01-01 00:00:00</td>\n",
       "      <td>1</td>\n",
       "      <td>0</td>\n",
       "      <td>0</td>\n",
       "      <td>1</td>\n",
       "      <td>9.84</td>\n",
       "      <td>14.395</td>\n",
       "      <td>81</td>\n",
       "      <td>0.0</td>\n",
       "      <td>3</td>\n",
       "      <td>13</td>\n",
       "      <td>16</td>\n",
       "      <td>0</td>\n",
       "      <td>5</td>\n",
       "    </tr>\n",
       "  </tbody>\n",
       "</table>\n",
       "</div>"
      ],
      "text/plain": [
       "              datetime  season  holiday  workingday  weather  temp   atemp  \\\n",
       "0  2011-01-01 00:00:00       1        0           0        1  9.84  14.395   \n",
       "\n",
       "   humidity  windspeed  casual  registered  count  hour  week  \n",
       "0        81        0.0       3          13     16     0     5  "
      ]
     },
     "execution_count": 14,
     "metadata": {},
     "output_type": "execute_result"
    }
   ],
   "source": [
    "from datetime import datetime \n",
    "week = [datetime.date(datetime.strptime(time, '%Y-%m-%d')).weekday() for time in df_origin['datetime'].str[:10]]\n",
    "df_origin['week'] = week\n",
    "df_origin.head(1)"
   ]
  },
  {
   "cell_type": "code",
   "execution_count": 15,
   "id": "67b20f5f-38cf-45e3-9b45-7895a1a42a68",
   "metadata": {},
   "outputs": [
    {
     "name": "stdout",
     "output_type": "stream",
     "text": [
      "2011-01-01 00:00:00\n",
      "2022-03-05 09:46:44.245743\n",
      "2022-03-05\n",
      "5\n",
      "5\n",
      "2\n"
     ]
    }
   ],
   "source": [
    "# test\n",
    "print(datetime.strptime('2011-01-01', '%Y-%m-%d')) # strptime返回一个对应于 date_string，根据 format 进行解析得到的 datetime 对象\n",
    "print(datetime.now())\n",
    "print(datetime.date(datetime.now())) # date()返回具有同样 year, month 和 day 值的 date 对象\n",
    "print(datetime.date(datetime.now()).weekday()) # weekday()返回一个整数代表星期几，星期一为 0\n",
    "print(datetime.date(datetime.strptime('2011-01-01', '%Y-%m-%d')).weekday())\n",
    "print(datetime.date(datetime.strptime('2012-12-19', '%Y-%m-%d')).weekday())"
   ]
  },
  {
   "cell_type": "code",
   "execution_count": 16,
   "id": "822d7f06-f699-4366-a6b7-7b309a992455",
   "metadata": {},
   "outputs": [
    {
     "data": {
      "text/html": [
       "<div>\n",
       "<style scoped>\n",
       "    .dataframe tbody tr th:only-of-type {\n",
       "        vertical-align: middle;\n",
       "    }\n",
       "\n",
       "    .dataframe tbody tr th {\n",
       "        vertical-align: top;\n",
       "    }\n",
       "\n",
       "    .dataframe thead th {\n",
       "        text-align: right;\n",
       "    }\n",
       "</style>\n",
       "<table border=\"1\" class=\"dataframe\">\n",
       "  <thead>\n",
       "    <tr style=\"text-align: right;\">\n",
       "      <th></th>\n",
       "      <th>datetime</th>\n",
       "      <th>season</th>\n",
       "      <th>holiday</th>\n",
       "      <th>workingday</th>\n",
       "      <th>weather</th>\n",
       "      <th>temp</th>\n",
       "      <th>atemp</th>\n",
       "      <th>humidity</th>\n",
       "      <th>windspeed</th>\n",
       "      <th>casual</th>\n",
       "      <th>registered</th>\n",
       "      <th>count</th>\n",
       "      <th>hour</th>\n",
       "      <th>week</th>\n",
       "      <th>month</th>\n",
       "      <th>year</th>\n",
       "    </tr>\n",
       "  </thead>\n",
       "  <tbody>\n",
       "    <tr>\n",
       "      <th>0</th>\n",
       "      <td>2011-01-01 00:00:00</td>\n",
       "      <td>1</td>\n",
       "      <td>0</td>\n",
       "      <td>0</td>\n",
       "      <td>1</td>\n",
       "      <td>9.84</td>\n",
       "      <td>14.395</td>\n",
       "      <td>81</td>\n",
       "      <td>0.0</td>\n",
       "      <td>3</td>\n",
       "      <td>13</td>\n",
       "      <td>16</td>\n",
       "      <td>0</td>\n",
       "      <td>5</td>\n",
       "      <td>1</td>\n",
       "      <td>2011</td>\n",
       "    </tr>\n",
       "  </tbody>\n",
       "</table>\n",
       "</div>"
      ],
      "text/plain": [
       "              datetime  season  holiday  workingday  weather  temp   atemp  \\\n",
       "0  2011-01-01 00:00:00       1        0           0        1  9.84  14.395   \n",
       "\n",
       "   humidity  windspeed  casual  registered  count  hour  week  month  year  \n",
       "0        81        0.0       3          13     16     0     5      1  2011  "
      ]
     },
     "execution_count": 16,
     "metadata": {},
     "output_type": "execute_result"
    }
   ],
   "source": [
    "df_origin['month'] = df_origin['datetime'].str[5:7].astype(int)\n",
    "df_origin['year'] = df_origin['datetime'].str[0:4].astype(int)\n",
    "df_origin.head(1)"
   ]
  },
  {
   "cell_type": "code",
   "execution_count": 17,
   "id": "6f2eaa94-5b11-4fca-9e79-6b67d4314bd9",
   "metadata": {},
   "outputs": [],
   "source": [
    "# df_origin.columns.values"
   ]
  },
  {
   "cell_type": "code",
   "execution_count": 18,
   "id": "b03ae0c8-38bd-49c0-9c0a-8629a06147c9",
   "metadata": {},
   "outputs": [
    {
     "data": {
      "text/html": [
       "<div>\n",
       "<style scoped>\n",
       "    .dataframe tbody tr th:only-of-type {\n",
       "        vertical-align: middle;\n",
       "    }\n",
       "\n",
       "    .dataframe tbody tr th {\n",
       "        vertical-align: top;\n",
       "    }\n",
       "\n",
       "    .dataframe thead th {\n",
       "        text-align: right;\n",
       "    }\n",
       "</style>\n",
       "<table border=\"1\" class=\"dataframe\">\n",
       "  <thead>\n",
       "    <tr style=\"text-align: right;\">\n",
       "      <th></th>\n",
       "      <th>season</th>\n",
       "      <th>holiday</th>\n",
       "      <th>workingday</th>\n",
       "      <th>weather</th>\n",
       "      <th>temp</th>\n",
       "      <th>atemp</th>\n",
       "      <th>humidity</th>\n",
       "      <th>windspeed</th>\n",
       "      <th>casual</th>\n",
       "      <th>registered</th>\n",
       "      <th>count</th>\n",
       "      <th>hour</th>\n",
       "      <th>week</th>\n",
       "      <th>year</th>\n",
       "      <th>month</th>\n",
       "    </tr>\n",
       "  </thead>\n",
       "  <tbody>\n",
       "    <tr>\n",
       "      <th>0</th>\n",
       "      <td>1</td>\n",
       "      <td>0</td>\n",
       "      <td>0</td>\n",
       "      <td>1</td>\n",
       "      <td>9.84</td>\n",
       "      <td>14.395</td>\n",
       "      <td>81</td>\n",
       "      <td>0.0</td>\n",
       "      <td>3</td>\n",
       "      <td>13</td>\n",
       "      <td>16</td>\n",
       "      <td>0</td>\n",
       "      <td>5</td>\n",
       "      <td>2011</td>\n",
       "      <td>1</td>\n",
       "    </tr>\n",
       "  </tbody>\n",
       "</table>\n",
       "</div>"
      ],
      "text/plain": [
       "   season  holiday  workingday  weather  temp   atemp  humidity  windspeed  \\\n",
       "0       1        0           0        1  9.84  14.395        81        0.0   \n",
       "\n",
       "   casual  registered  count  hour  week  year  month  \n",
       "0       3          13     16     0     5  2011      1  "
      ]
     },
     "execution_count": 18,
     "metadata": {},
     "output_type": "execute_result"
    }
   ],
   "source": [
    "# 幹嘛不用drop就好？ 莫非是要移動year欄位的位置？\n",
    "df_clean = df_origin.loc[:,['season', 'holiday', 'workingday', 'weather', 'temp',\n",
    "'atemp', 'humidity', 'windspeed', 'casual', 'registered', 'count',\n",
    "'hour', 'week', 'year', 'month']]\n",
    "df_clean.head(1)"
   ]
  },
  {
   "cell_type": "code",
   "execution_count": 19,
   "id": "d4cb7a9a-d623-41c4-9ae9-2c7662157077",
   "metadata": {},
   "outputs": [
    {
     "data": {
      "text/html": [
       "<div>\n",
       "<style scoped>\n",
       "    .dataframe tbody tr th:only-of-type {\n",
       "        vertical-align: middle;\n",
       "    }\n",
       "\n",
       "    .dataframe tbody tr th {\n",
       "        vertical-align: top;\n",
       "    }\n",
       "\n",
       "    .dataframe thead th {\n",
       "        text-align: right;\n",
       "    }\n",
       "</style>\n",
       "<table border=\"1\" class=\"dataframe\">\n",
       "  <thead>\n",
       "    <tr style=\"text-align: right;\">\n",
       "      <th></th>\n",
       "      <th>season</th>\n",
       "      <th>holiday</th>\n",
       "      <th>workingday</th>\n",
       "      <th>weather</th>\n",
       "      <th>temp</th>\n",
       "      <th>atemp</th>\n",
       "      <th>humidity</th>\n",
       "      <th>windspeed</th>\n",
       "      <th>hour</th>\n",
       "      <th>week</th>\n",
       "      <th>year</th>\n",
       "      <th>month</th>\n",
       "    </tr>\n",
       "  </thead>\n",
       "  <tbody>\n",
       "    <tr>\n",
       "      <th>0</th>\n",
       "      <td>1</td>\n",
       "      <td>0</td>\n",
       "      <td>1</td>\n",
       "      <td>1</td>\n",
       "      <td>10.66</td>\n",
       "      <td>11.365</td>\n",
       "      <td>56</td>\n",
       "      <td>26.0027</td>\n",
       "      <td>0</td>\n",
       "      <td>3</td>\n",
       "      <td>2011</td>\n",
       "      <td>1</td>\n",
       "    </tr>\n",
       "  </tbody>\n",
       "</table>\n",
       "</div>"
      ],
      "text/plain": [
       "   season  holiday  workingday  weather   temp   atemp  humidity  windspeed  \\\n",
       "0       1        0           1        1  10.66  11.365        56    26.0027   \n",
       "\n",
       "   hour  week  year  month  \n",
       "0     0     3  2011      1  "
      ]
     },
     "execution_count": 19,
     "metadata": {},
     "output_type": "execute_result"
    }
   ],
   "source": [
    "# 同理 處理test資料\n",
    "df_test['hour'] = df_test['datetime'].str[11:13].astype(int)\n",
    "week1 = [datetime.date(datetime.strptime(time, '%Y-%m-%d')).weekday()  for time in df_test['datetime'].str[:10]]\n",
    "df_test['week'] = week1\n",
    "df_test['month'] = df_test['datetime'].str[5:7].astype(int)\n",
    "df_test['year'] = df_test['datetime'].str[0:4].astype(int)\n",
    "df_clean_test = df_test.loc[:,['season', 'holiday', 'workingday', 'weather', 'temp',\n",
    "'atemp', 'humidity', 'windspeed', 'hour', 'week', 'year', 'month']]\n",
    "df_clean_test.head(1)"
   ]
  },
  {
   "cell_type": "code",
   "execution_count": 20,
   "id": "d87fa331-a43f-4a47-ba5d-a500fab97583",
   "metadata": {},
   "outputs": [],
   "source": [
    "# test\n",
    "# df1 = pd.DataFrame({'a':[1,2,3,3,1.2],\n",
    "#                    'b':[4,5,6,7,3.9]})\n",
    "# df1['a'].hist() "
   ]
  },
  {
   "cell_type": "code",
   "execution_count": 21,
   "id": "34347964-0750-483d-8805-3f8e032f0daf",
   "metadata": {},
   "outputs": [
    {
     "data": {
      "text/plain": [
       "<AxesSubplot:>"
      ]
     },
     "execution_count": 21,
     "metadata": {},
     "output_type": "execute_result"
    },
    {
     "data": {
      "image/png": "[encoded data removed]",
      "text/plain": [
       "<Figure size 432x288 with 1 Axes>"
      ]
     },
     "metadata": {
      "needs_background": "light"
     },
     "output_type": "display_data"
    }
   ],
   "source": [
    "# 檢查資料均衡\n",
    "# log casual和register，然後相加\n",
    "df_clean['casual'].hist() # hist直方圖是數據分佈的表示，代表某數值出現多少次，例如下圖0~2x出現7千多次，區間我不確定，自建資料測試也看不出來"
   ]
  },
  {
   "cell_type": "code",
   "execution_count": 22,
   "id": "742c8fee-3f1c-4202-a704-fb705ee467e4",
   "metadata": {},
   "outputs": [
    {
     "data": {
      "text/plain": [
       "<AxesSubplot:>"
      ]
     },
     "execution_count": 22,
     "metadata": {},
     "output_type": "execute_result"
    },
    {
     "data": {
      "image/png": "[encoded data removed]",
      "text/plain": [
       "<Figure size 432x288 with 1 Axes>"
      ]
     },
     "metadata": {
      "needs_background": "light"
     },
     "output_type": "display_data"
    }
   ],
   "source": [
    "df_clean['registered'].hist()"
   ]
  },
  {
   "cell_type": "code",
   "execution_count": 23,
   "id": "b490c4e4-12a4-4bb6-a8ad-af20d0e5a463",
   "metadata": {},
   "outputs": [
    {
     "data": {
      "text/html": [
       "<div>\n",
       "<style scoped>\n",
       "    .dataframe tbody tr th:only-of-type {\n",
       "        vertical-align: middle;\n",
       "    }\n",
       "\n",
       "    .dataframe tbody tr th {\n",
       "        vertical-align: top;\n",
       "    }\n",
       "\n",
       "    .dataframe thead th {\n",
       "        text-align: right;\n",
       "    }\n",
       "</style>\n",
       "<table border=\"1\" class=\"dataframe\">\n",
       "  <thead>\n",
       "    <tr style=\"text-align: right;\">\n",
       "      <th></th>\n",
       "      <th>season</th>\n",
       "      <th>holiday</th>\n",
       "      <th>workingday</th>\n",
       "      <th>weather</th>\n",
       "      <th>temp</th>\n",
       "      <th>atemp</th>\n",
       "      <th>humidity</th>\n",
       "      <th>windspeed</th>\n",
       "      <th>casual</th>\n",
       "      <th>registered</th>\n",
       "      <th>count</th>\n",
       "      <th>hour</th>\n",
       "      <th>week</th>\n",
       "      <th>year</th>\n",
       "      <th>month</th>\n",
       "    </tr>\n",
       "  </thead>\n",
       "  <tbody>\n",
       "    <tr>\n",
       "      <th>0</th>\n",
       "      <td>1</td>\n",
       "      <td>0</td>\n",
       "      <td>0</td>\n",
       "      <td>1</td>\n",
       "      <td>9.84</td>\n",
       "      <td>14.395</td>\n",
       "      <td>81</td>\n",
       "      <td>0.0</td>\n",
       "      <td>3</td>\n",
       "      <td>13</td>\n",
       "      <td>16</td>\n",
       "      <td>0</td>\n",
       "      <td>5</td>\n",
       "      <td>2011</td>\n",
       "      <td>1</td>\n",
       "    </tr>\n",
       "  </tbody>\n",
       "</table>\n",
       "</div>"
      ],
      "text/plain": [
       "   season  holiday  workingday  weather  temp   atemp  humidity  windspeed  \\\n",
       "0       1        0           0        1  9.84  14.395        81        0.0   \n",
       "\n",
       "   casual  registered  count  hour  week  year  month  \n",
       "0       3          13     16     0     5  2011      1  "
      ]
     },
     "execution_count": 23,
     "metadata": {},
     "output_type": "execute_result"
    }
   ],
   "source": [
    "df_clean.head(1)"
   ]
  },
  {
   "cell_type": "code",
   "execution_count": 24,
   "id": "b27358e6-2259-412a-896c-3b703b11c8a6",
   "metadata": {},
   "outputs": [
    {
     "name": "stderr",
     "output_type": "stream",
     "text": [
      "/usr/local/lib/python3.8/dist-packages/pandas/core/arraylike.py:364: RuntimeWarning: divide by zero encountered in log\n",
      "  result = getattr(ufunc, method)(*inputs, **kwargs)\n"
     ]
    },
    {
     "data": {
      "text/html": [
       "<div>\n",
       "<style scoped>\n",
       "    .dataframe tbody tr th:only-of-type {\n",
       "        vertical-align: middle;\n",
       "    }\n",
       "\n",
       "    .dataframe tbody tr th {\n",
       "        vertical-align: top;\n",
       "    }\n",
       "\n",
       "    .dataframe thead th {\n",
       "        text-align: right;\n",
       "    }\n",
       "</style>\n",
       "<table border=\"1\" class=\"dataframe\">\n",
       "  <thead>\n",
       "    <tr style=\"text-align: right;\">\n",
       "      <th></th>\n",
       "      <th>season</th>\n",
       "      <th>holiday</th>\n",
       "      <th>workingday</th>\n",
       "      <th>weather</th>\n",
       "      <th>temp</th>\n",
       "      <th>atemp</th>\n",
       "      <th>humidity</th>\n",
       "      <th>windspeed</th>\n",
       "      <th>casual</th>\n",
       "      <th>registered</th>\n",
       "      <th>count</th>\n",
       "      <th>hour</th>\n",
       "      <th>week</th>\n",
       "      <th>year</th>\n",
       "      <th>month</th>\n",
       "      <th>log_cas</th>\n",
       "      <th>log_reg</th>\n",
       "    </tr>\n",
       "  </thead>\n",
       "  <tbody>\n",
       "    <tr>\n",
       "      <th>0</th>\n",
       "      <td>1</td>\n",
       "      <td>0</td>\n",
       "      <td>0</td>\n",
       "      <td>1</td>\n",
       "      <td>9.84</td>\n",
       "      <td>14.395</td>\n",
       "      <td>81</td>\n",
       "      <td>0.0</td>\n",
       "      <td>3</td>\n",
       "      <td>13</td>\n",
       "      <td>16</td>\n",
       "      <td>0</td>\n",
       "      <td>5</td>\n",
       "      <td>2011</td>\n",
       "      <td>1</td>\n",
       "      <td>1.098612</td>\n",
       "      <td>2.564949</td>\n",
       "    </tr>\n",
       "  </tbody>\n",
       "</table>\n",
       "</div>"
      ],
      "text/plain": [
       "   season  holiday  workingday  weather  temp   atemp  humidity  windspeed  \\\n",
       "0       1        0           0        1  9.84  14.395        81        0.0   \n",
       "\n",
       "   casual  registered  count  hour  week  year  month   log_cas   log_reg  \n",
       "0       3          13     16     0     5  2011      1  1.098612  2.564949  "
      ]
     },
     "execution_count": 24,
     "metadata": {},
     "output_type": "execute_result"
    }
   ],
   "source": [
    "df_clean['log_cas'] = np.log(df_origin['casual'])\n",
    "df_clean['log_reg'] = np.log(df_origin['registered'])\n",
    "df_clean.head(1)"
   ]
  },
  {
   "cell_type": "code",
   "execution_count": 25,
   "id": "faf94495-a5a5-4baf-9d4f-4766ae68fdac",
   "metadata": {},
   "outputs": [
    {
     "data": {
      "text/plain": [
       "(10886, 17)"
      ]
     },
     "execution_count": 25,
     "metadata": {},
     "output_type": "execute_result"
    }
   ],
   "source": [
    "df_clean.shape"
   ]
  },
  {
   "cell_type": "code",
   "execution_count": 26,
   "id": "58840be4-00b7-49ab-9991-7ddba7b5cc49",
   "metadata": {},
   "outputs": [],
   "source": [
    "# 我加：casual=0會造成log_cas=-inf，後面模型會出錯，所以刪了\n",
    "df_clean = df_clean[df_clean['casual']!=0]"
   ]
  },
  {
   "cell_type": "code",
   "execution_count": 27,
   "id": "757b8457-d235-41f2-a824-347ac37cd226",
   "metadata": {},
   "outputs": [
    {
     "data": {
      "text/plain": [
       "(9900, 17)"
      ]
     },
     "execution_count": 27,
     "metadata": {},
     "output_type": "execute_result"
    }
   ],
   "source": [
    "df_clean.shape"
   ]
  },
  {
   "cell_type": "code",
   "execution_count": 28,
   "id": "d3a39f22-b7cc-4a83-999f-808c556bb36e",
   "metadata": {},
   "outputs": [
    {
     "data": {
      "text/html": [
       "<div>\n",
       "<style scoped>\n",
       "    .dataframe tbody tr th:only-of-type {\n",
       "        vertical-align: middle;\n",
       "    }\n",
       "\n",
       "    .dataframe tbody tr th {\n",
       "        vertical-align: top;\n",
       "    }\n",
       "\n",
       "    .dataframe thead th {\n",
       "        text-align: right;\n",
       "    }\n",
       "</style>\n",
       "<table border=\"1\" class=\"dataframe\">\n",
       "  <thead>\n",
       "    <tr style=\"text-align: right;\">\n",
       "      <th></th>\n",
       "      <th>season</th>\n",
       "      <th>holiday</th>\n",
       "      <th>workingday</th>\n",
       "      <th>weather</th>\n",
       "      <th>temp</th>\n",
       "      <th>atemp</th>\n",
       "      <th>humidity</th>\n",
       "      <th>windspeed</th>\n",
       "      <th>hour</th>\n",
       "      <th>week</th>\n",
       "      <th>year</th>\n",
       "      <th>month</th>\n",
       "    </tr>\n",
       "  </thead>\n",
       "  <tbody>\n",
       "    <tr>\n",
       "      <th>0</th>\n",
       "      <td>1</td>\n",
       "      <td>0</td>\n",
       "      <td>1</td>\n",
       "      <td>1</td>\n",
       "      <td>10.66</td>\n",
       "      <td>11.365</td>\n",
       "      <td>56</td>\n",
       "      <td>26.0027</td>\n",
       "      <td>0</td>\n",
       "      <td>3</td>\n",
       "      <td>2011</td>\n",
       "      <td>1</td>\n",
       "    </tr>\n",
       "  </tbody>\n",
       "</table>\n",
       "</div>"
      ],
      "text/plain": [
       "   season  holiday  workingday  weather   temp   atemp  humidity  windspeed  \\\n",
       "0       1        0           1        1  10.66  11.365        56    26.0027   \n",
       "\n",
       "   hour  week  year  month  \n",
       "0     0     3  2011      1  "
      ]
     },
     "execution_count": 28,
     "metadata": {},
     "output_type": "execute_result"
    }
   ],
   "source": [
    "df_clean_test.head(1)"
   ]
  },
  {
   "cell_type": "code",
   "execution_count": 29,
   "id": "2dd8fac3-925c-4586-a888-c1fb9885c5d7",
   "metadata": {},
   "outputs": [
    {
     "data": {
      "text/html": [
       "<div>\n",
       "<style scoped>\n",
       "    .dataframe tbody tr th:only-of-type {\n",
       "        vertical-align: middle;\n",
       "    }\n",
       "\n",
       "    .dataframe tbody tr th {\n",
       "        vertical-align: top;\n",
       "    }\n",
       "\n",
       "    .dataframe thead th {\n",
       "        text-align: right;\n",
       "    }\n",
       "</style>\n",
       "<table border=\"1\" class=\"dataframe\">\n",
       "  <thead>\n",
       "    <tr style=\"text-align: right;\">\n",
       "      <th></th>\n",
       "      <th>season</th>\n",
       "      <th>holiday</th>\n",
       "      <th>workingday</th>\n",
       "      <th>weather</th>\n",
       "      <th>temp</th>\n",
       "      <th>atemp</th>\n",
       "      <th>humidity</th>\n",
       "      <th>windspeed</th>\n",
       "      <th>casual</th>\n",
       "      <th>registered</th>\n",
       "      <th>count</th>\n",
       "      <th>hour</th>\n",
       "      <th>week</th>\n",
       "      <th>year</th>\n",
       "      <th>month</th>\n",
       "      <th>log_cas</th>\n",
       "      <th>log_reg</th>\n",
       "    </tr>\n",
       "  </thead>\n",
       "  <tbody>\n",
       "    <tr>\n",
       "      <th>0</th>\n",
       "      <td>1</td>\n",
       "      <td>0</td>\n",
       "      <td>0</td>\n",
       "      <td>1</td>\n",
       "      <td>9.84</td>\n",
       "      <td>14.395</td>\n",
       "      <td>81</td>\n",
       "      <td>0.0</td>\n",
       "      <td>3</td>\n",
       "      <td>13</td>\n",
       "      <td>16</td>\n",
       "      <td>0</td>\n",
       "      <td>5</td>\n",
       "      <td>2011</td>\n",
       "      <td>1</td>\n",
       "      <td>1.098612</td>\n",
       "      <td>2.564949</td>\n",
       "    </tr>\n",
       "  </tbody>\n",
       "</table>\n",
       "</div>"
      ],
      "text/plain": [
       "   season  holiday  workingday  weather  temp   atemp  humidity  windspeed  \\\n",
       "0       1        0           0        1  9.84  14.395        81        0.0   \n",
       "\n",
       "   casual  registered  count  hour  week  year  month   log_cas   log_reg  \n",
       "0       3          13     16     0     5  2011      1  1.098612  2.564949  "
      ]
     },
     "execution_count": 29,
     "metadata": {},
     "output_type": "execute_result"
    }
   ],
   "source": [
    "df_clean.head(1)"
   ]
  },
  {
   "cell_type": "code",
   "execution_count": null,
   "id": "69c6425c-9ab6-4553-8324-04d56ec61e56",
   "metadata": {},
   "outputs": [],
   "source": []
  },
  {
   "cell_type": "markdown",
   "id": "8771c117-249d-477a-ab2b-d9eac9c74774",
   "metadata": {},
   "source": [
    "#### 對casual預測準確度\n",
    "#### 剔除特徵重要度< 0.01的特徵"
   ]
  },
  {
   "cell_type": "code",
   "execution_count": 30,
   "id": "259d0a0a-8b27-4c1e-9cd9-8a8a605c280c",
   "metadata": {},
   "outputs": [
    {
     "data": {
      "text/plain": [
       "RandomForestRegressor(min_samples_split=11, n_estimators=1000, oob_score=True)"
      ]
     },
     "execution_count": 30,
     "metadata": {},
     "output_type": "execute_result"
    }
   ],
   "source": [
    "# n_estimators表示多少顆樹\n",
    "clf_cal = RandomForestRegressor(n_estimators=1000, min_samples_split=11, oob_score=True)\n",
    "clf_cal"
   ]
  },
  {
   "cell_type": "code",
   "execution_count": 31,
   "id": "bd8a7e8b-8a39-46d8-9acf-b1ff3f9a3a48",
   "metadata": {},
   "outputs": [],
   "source": [
    "# 隨機森林特徵選擇\n",
    "fea_cols=['season', 'holiday', 'workingday', 'weather', 'temp',\n",
    "'atemp', 'humidity', 'windspeed',\n",
    "'hour', 'week', 'year']"
   ]
  },
  {
   "cell_type": "code",
   "execution_count": 32,
   "id": "47c3e5fc-a990-49a8-bc0c-b3f3cde23a98",
   "metadata": {},
   "outputs": [
    {
     "data": {
      "text/html": [
       "<div>\n",
       "<style scoped>\n",
       "    .dataframe tbody tr th:only-of-type {\n",
       "        vertical-align: middle;\n",
       "    }\n",
       "\n",
       "    .dataframe tbody tr th {\n",
       "        vertical-align: top;\n",
       "    }\n",
       "\n",
       "    .dataframe thead th {\n",
       "        text-align: right;\n",
       "    }\n",
       "</style>\n",
       "<table border=\"1\" class=\"dataframe\">\n",
       "  <thead>\n",
       "    <tr style=\"text-align: right;\">\n",
       "      <th></th>\n",
       "      <th>season</th>\n",
       "      <th>holiday</th>\n",
       "      <th>workingday</th>\n",
       "      <th>weather</th>\n",
       "      <th>temp</th>\n",
       "      <th>atemp</th>\n",
       "      <th>humidity</th>\n",
       "      <th>windspeed</th>\n",
       "      <th>hour</th>\n",
       "      <th>week</th>\n",
       "      <th>year</th>\n",
       "    </tr>\n",
       "  </thead>\n",
       "  <tbody>\n",
       "    <tr>\n",
       "      <th>season</th>\n",
       "      <td>1.000000</td>\n",
       "      <td>0.032513</td>\n",
       "      <td>-0.009607</td>\n",
       "      <td>0.023422</td>\n",
       "      <td>0.222085</td>\n",
       "      <td>0.227255</td>\n",
       "      <td>0.197874</td>\n",
       "      <td>-0.149029</td>\n",
       "      <td>-0.033700</td>\n",
       "      <td>-0.012218</td>\n",
       "      <td>-0.010106</td>\n",
       "    </tr>\n",
       "    <tr>\n",
       "      <th>holiday</th>\n",
       "      <td>0.032513</td>\n",
       "      <td>1.000000</td>\n",
       "      <td>-0.247426</td>\n",
       "      <td>-0.005290</td>\n",
       "      <td>-0.000640</td>\n",
       "      <td>-0.006195</td>\n",
       "      <td>0.012261</td>\n",
       "      <td>0.004562</td>\n",
       "      <td>-0.009556</td>\n",
       "      <td>-0.199990</td>\n",
       "      <td>0.013660</td>\n",
       "    </tr>\n",
       "    <tr>\n",
       "      <th>workingday</th>\n",
       "      <td>-0.009607</td>\n",
       "      <td>-0.247426</td>\n",
       "      <td>1.000000</td>\n",
       "      <td>0.036444</td>\n",
       "      <td>0.044183</td>\n",
       "      <td>0.036942</td>\n",
       "      <td>-0.031111</td>\n",
       "      <td>0.028160</td>\n",
       "      <td>0.045596</td>\n",
       "      <td>-0.705240</td>\n",
       "      <td>-0.005599</td>\n",
       "    </tr>\n",
       "    <tr>\n",
       "      <th>weather</th>\n",
       "      <td>0.023422</td>\n",
       "      <td>-0.005290</td>\n",
       "      <td>0.036444</td>\n",
       "      <td>1.000000</td>\n",
       "      <td>-0.058356</td>\n",
       "      <td>-0.058810</td>\n",
       "      <td>0.405909</td>\n",
       "      <td>0.000517</td>\n",
       "      <td>-0.014139</td>\n",
       "      <td>-0.051753</td>\n",
       "      <td>-0.010571</td>\n",
       "    </tr>\n",
       "    <tr>\n",
       "      <th>temp</th>\n",
       "      <td>0.222085</td>\n",
       "      <td>-0.000640</td>\n",
       "      <td>0.044183</td>\n",
       "      <td>-0.058356</td>\n",
       "      <td>1.000000</td>\n",
       "      <td>0.983975</td>\n",
       "      <td>-0.064897</td>\n",
       "      <td>-0.024715</td>\n",
       "      <td>0.092380</td>\n",
       "      <td>-0.052888</td>\n",
       "      <td>0.045690</td>\n",
       "    </tr>\n",
       "    <tr>\n",
       "      <th>atemp</th>\n",
       "      <td>0.227255</td>\n",
       "      <td>-0.006195</td>\n",
       "      <td>0.036942</td>\n",
       "      <td>-0.058810</td>\n",
       "      <td>0.983975</td>\n",
       "      <td>1.000000</td>\n",
       "      <td>-0.043757</td>\n",
       "      <td>-0.059873</td>\n",
       "      <td>0.087970</td>\n",
       "      <td>-0.053118</td>\n",
       "      <td>0.043428</td>\n",
       "    </tr>\n",
       "    <tr>\n",
       "      <th>humidity</th>\n",
       "      <td>0.197874</td>\n",
       "      <td>0.012261</td>\n",
       "      <td>-0.031111</td>\n",
       "      <td>0.405909</td>\n",
       "      <td>-0.064897</td>\n",
       "      <td>-0.043757</td>\n",
       "      <td>1.000000</td>\n",
       "      <td>-0.316703</td>\n",
       "      <td>-0.264484</td>\n",
       "      <td>-0.014751</td>\n",
       "      <td>-0.077817</td>\n",
       "    </tr>\n",
       "    <tr>\n",
       "      <th>windspeed</th>\n",
       "      <td>-0.149029</td>\n",
       "      <td>0.004562</td>\n",
       "      <td>0.028160</td>\n",
       "      <td>0.000517</td>\n",
       "      <td>-0.024715</td>\n",
       "      <td>-0.059873</td>\n",
       "      <td>-0.316703</td>\n",
       "      <td>1.000000</td>\n",
       "      <td>0.140234</td>\n",
       "      <td>-0.036869</td>\n",
       "      <td>-0.017996</td>\n",
       "    </tr>\n",
       "    <tr>\n",
       "      <th>hour</th>\n",
       "      <td>-0.033700</td>\n",
       "      <td>-0.009556</td>\n",
       "      <td>0.045596</td>\n",
       "      <td>-0.014139</td>\n",
       "      <td>0.092380</td>\n",
       "      <td>0.087970</td>\n",
       "      <td>-0.264484</td>\n",
       "      <td>0.140234</td>\n",
       "      <td>1.000000</td>\n",
       "      <td>-0.031334</td>\n",
       "      <td>-0.007198</td>\n",
       "    </tr>\n",
       "    <tr>\n",
       "      <th>week</th>\n",
       "      <td>-0.012218</td>\n",
       "      <td>-0.199990</td>\n",
       "      <td>-0.705240</td>\n",
       "      <td>-0.051753</td>\n",
       "      <td>-0.052888</td>\n",
       "      <td>-0.053118</td>\n",
       "      <td>-0.014751</td>\n",
       "      <td>-0.036869</td>\n",
       "      <td>-0.031334</td>\n",
       "      <td>1.000000</td>\n",
       "      <td>-0.000766</td>\n",
       "    </tr>\n",
       "    <tr>\n",
       "      <th>year</th>\n",
       "      <td>-0.010106</td>\n",
       "      <td>0.013660</td>\n",
       "      <td>-0.005599</td>\n",
       "      <td>-0.010571</td>\n",
       "      <td>0.045690</td>\n",
       "      <td>0.043428</td>\n",
       "      <td>-0.077817</td>\n",
       "      <td>-0.017996</td>\n",
       "      <td>-0.007198</td>\n",
       "      <td>-0.000766</td>\n",
       "      <td>1.000000</td>\n",
       "    </tr>\n",
       "  </tbody>\n",
       "</table>\n",
       "</div>"
      ],
      "text/plain": [
       "              season   holiday  workingday   weather      temp     atemp  \\\n",
       "season      1.000000  0.032513   -0.009607  0.023422  0.222085  0.227255   \n",
       "holiday     0.032513  1.000000   -0.247426 -0.005290 -0.000640 -0.006195   \n",
       "workingday -0.009607 -0.247426    1.000000  0.036444  0.044183  0.036942   \n",
       "weather     0.023422 -0.005290    0.036444  1.000000 -0.058356 -0.058810   \n",
       "temp        0.222085 -0.000640    0.044183 -0.058356  1.000000  0.983975   \n",
       "atemp       0.227255 -0.006195    0.036942 -0.058810  0.983975  1.000000   \n",
       "humidity    0.197874  0.012261   -0.031111  0.405909 -0.064897 -0.043757   \n",
       "windspeed  -0.149029  0.004562    0.028160  0.000517 -0.024715 -0.059873   \n",
       "hour       -0.033700 -0.009556    0.045596 -0.014139  0.092380  0.087970   \n",
       "week       -0.012218 -0.199990   -0.705240 -0.051753 -0.052888 -0.053118   \n",
       "year       -0.010106  0.013660   -0.005599 -0.010571  0.045690  0.043428   \n",
       "\n",
       "            humidity  windspeed      hour      week      year  \n",
       "season      0.197874  -0.149029 -0.033700 -0.012218 -0.010106  \n",
       "holiday     0.012261   0.004562 -0.009556 -0.199990  0.013660  \n",
       "workingday -0.031111   0.028160  0.045596 -0.705240 -0.005599  \n",
       "weather     0.405909   0.000517 -0.014139 -0.051753 -0.010571  \n",
       "temp       -0.064897  -0.024715  0.092380 -0.052888  0.045690  \n",
       "atemp      -0.043757  -0.059873  0.087970 -0.053118  0.043428  \n",
       "humidity    1.000000  -0.316703 -0.264484 -0.014751 -0.077817  \n",
       "windspeed  -0.316703   1.000000  0.140234 -0.036869 -0.017996  \n",
       "hour       -0.264484   0.140234  1.000000 -0.031334 -0.007198  \n",
       "week       -0.014751  -0.036869 -0.031334  1.000000 -0.000766  \n",
       "year       -0.077817  -0.017996 -0.007198 -0.000766  1.000000  "
      ]
     },
     "execution_count": 32,
     "metadata": {},
     "output_type": "execute_result"
    }
   ],
   "source": [
    "# 許多特徵之間有太多相關性\n",
    "# season和month，二選一\n",
    "# temp和atemp，二選一\n",
    "# humidity和weather，windspeed，看rf的特徵重要度\n",
    "# week和workingday\n",
    "df_clean[fea_cols].corr() # 查找數據中所有列的成對相關性。任何na值、非數字數字欄位將忽略"
   ]
  },
  {
   "cell_type": "code",
   "execution_count": 33,
   "id": "693ee0f8-4d75-491a-8162-99103c427ddf",
   "metadata": {},
   "outputs": [
    {
     "data": {
      "text/plain": [
       "0.8695545511942735"
      ]
     },
     "execution_count": 33,
     "metadata": {},
     "output_type": "execute_result"
    },
    {
     "data": {
      "image/png": "[encoded data removed]",
      "text/plain": [
       "<Figure size 432x288 with 1 Axes>"
      ]
     },
     "metadata": {
      "needs_background": "light"
     },
     "output_type": "display_data"
    }
   ],
   "source": [
    "clf_cal.fit(df_clean[fea_cols].values, df_clean['log_cas'].values) # 前者是資料，後者是答案\n",
    "pd.DataFrame(clf_cal.feature_importances_).plot(kind='bar')\n",
    "clf_cal.oob_score_\n",
    "# 隨機森林樣本中有一部分原始樣本資料(~ 40%)不會出現在訓練資料集中，這些資料便稱為 Out-Of-Bag (OOB) 資料。而透過這些資料來評估模型的方式，稱為 OOB 估計，\n",
    "# 這和Cross Validation一樣，但相較起交叉驗證，OOB 估計能透過少量資料的計算量達到近似於交叉驗證的結果，對於交叉驗證的高計算量下，是一個節省資源的採樣及估計方式"
   ]
  },
  {
   "cell_type": "code",
   "execution_count": 34,
   "id": "e9c45f29-25c3-4283-8ada-2eb706806ca4",
   "metadata": {},
   "outputs": [
    {
     "data": {
      "text/plain": [
       "array([0.0154649 , 0.0008818 , 0.05267718, 0.01822682, 0.24248646,\n",
       "       0.05120399, 0.05345829, 0.01703333, 0.50360587, 0.03039816,\n",
       "       0.0145632 ])"
      ]
     },
     "execution_count": 34,
     "metadata": {},
     "output_type": "execute_result"
    }
   ],
   "source": [
    "clf_cal.feature_importances_ # 這是看哪個欄位和結果最相關吧？！ 想不到隨機森林內建這好東西"
   ]
  },
  {
   "cell_type": "code",
   "execution_count": 35,
   "id": "2f9cf2fc-cc5b-4830-8ab7-3af6ee2bc3f6",
   "metadata": {},
   "outputs": [
    {
     "data": {
      "text/plain": [
       "0.940659320264434"
      ]
     },
     "execution_count": 35,
     "metadata": {},
     "output_type": "execute_result"
    }
   ],
   "source": [
    "# 我加：這應該是指訓練資料本身的準確率吧？\n",
    "clf_cal.score(df_clean[fea_cols].values, df_clean['log_cas'].values)"
   ]
  },
  {
   "cell_type": "code",
   "execution_count": 36,
   "id": "08f81c8a-9ea4-4619-9993-280e90375e4a",
   "metadata": {},
   "outputs": [],
   "source": [
    "# 拿掉最不相關的holiday，以及和temp類似的atemp?\n",
    "fea_cas = ['season', 'workingday', 'weather', 'temp','humidity', 'windspeed','hour', 'week', 'year']"
   ]
  },
  {
   "cell_type": "code",
   "execution_count": 37,
   "id": "1d7f2658-9887-4a1f-9b29-037008dc298b",
   "metadata": {},
   "outputs": [
    {
     "data": {
      "text/plain": [
       "0.8694116977101067"
      ]
     },
     "execution_count": 37,
     "metadata": {},
     "output_type": "execute_result"
    },
    {
     "data": {
      "image/png": "[encoded data removed]",
      "text/plain": [
       "<Figure size 432x288 with 1 Axes>"
      ]
     },
     "metadata": {
      "needs_background": "light"
     },
     "output_type": "display_data"
    }
   ],
   "source": [
    "clf_cal.fit(df_clean[fea_cas].values, df_clean['log_cas'].values)\n",
    "pd.DataFrame(clf_cal.feature_importances_).plot(kind='bar')\n",
    "clf_cal.oob_score_"
   ]
  },
  {
   "cell_type": "code",
   "execution_count": 38,
   "id": "5b3004ac-e4a8-4364-89aa-2b3e9efeb7fc",
   "metadata": {},
   "outputs": [
    {
     "data": {
      "text/plain": [
       "0.9395884974569856"
      ]
     },
     "execution_count": 38,
     "metadata": {},
     "output_type": "execute_result"
    }
   ],
   "source": [
    "# 我加\n",
    "clf_cal.score(df_clean[fea_cas].values, df_clean['log_cas'].values)"
   ]
  },
  {
   "cell_type": "markdown",
   "id": "f03f77a5-611e-4c58-ab67-34f8a6e4e230",
   "metadata": {},
   "source": [
    "#### 對registered預測準確度"
   ]
  },
  {
   "cell_type": "code",
   "execution_count": 39,
   "id": "46237e74-3c1b-498e-af0f-8fee33f116a1",
   "metadata": {},
   "outputs": [],
   "source": [
    "clf_reg = RandomForestRegressor(n_estimators=1000, min_samples_split=11, oob_score=True)"
   ]
  },
  {
   "cell_type": "code",
   "execution_count": 40,
   "id": "b68b84a9-243f-4d6a-9145-ef8cdc3ef81e",
   "metadata": {},
   "outputs": [],
   "source": [
    "# 我加：registered=0會造成log_reg=-inf，後面模型會出錯，所以刪了\n",
    "df_clean = df_clean[df_clean['registered']!=0]"
   ]
  },
  {
   "cell_type": "code",
   "execution_count": 41,
   "id": "5e41b487-83dc-4495-96e8-8315c33461d2",
   "metadata": {},
   "outputs": [
    {
     "data": {
      "text/plain": [
       "0.9398389562001538"
      ]
     },
     "execution_count": 41,
     "metadata": {},
     "output_type": "execute_result"
    },
    {
     "data": {
      "image/png": "[encoded data removed]",
      "text/plain": [
       "<Figure size 432x288 with 1 Axes>"
      ]
     },
     "metadata": {
      "needs_background": "light"
     },
     "output_type": "display_data"
    }
   ],
   "source": [
    "clf_reg.fit(df_clean[fea_cols].values, df_clean['log_reg'].values)\n",
    "pd.DataFrame(clf_reg.feature_importances_).plot(kind='bar')\n",
    "clf_reg.oob_score_"
   ]
  },
  {
   "cell_type": "code",
   "execution_count": 42,
   "id": "791dcf1f-ae4f-4379-a811-40f3cd2280de",
   "metadata": {},
   "outputs": [
    {
     "data": {
      "text/plain": [
       "array([0.0435855 , 0.00168081, 0.05575071, 0.01088765, 0.01609461,\n",
       "       0.01302837, 0.01858914, 0.00645772, 0.73998269, 0.04566669,\n",
       "       0.04827612])"
      ]
     },
     "execution_count": 42,
     "metadata": {},
     "output_type": "execute_result"
    }
   ],
   "source": [
    "clf_reg.feature_importances_"
   ]
  },
  {
   "cell_type": "code",
   "execution_count": 43,
   "id": "4d332a33-663a-4630-a43e-b8be08a299b3",
   "metadata": {},
   "outputs": [],
   "source": [
    "fea_regs=['season', 'workingday', 'weather', 'temp', 'humidity', 'hour', 'week', 'year']"
   ]
  },
  {
   "cell_type": "code",
   "execution_count": 44,
   "id": "9eb82d7f-49cc-4da7-a063-d272fb7f9472",
   "metadata": {},
   "outputs": [
    {
     "data": {
      "text/plain": [
       "0.940204272497929"
      ]
     },
     "execution_count": 44,
     "metadata": {},
     "output_type": "execute_result"
    },
    {
     "data": {
      "image/png": "[encoded data removed]",
      "text/plain": [
       "<Figure size 432x288 with 1 Axes>"
      ]
     },
     "metadata": {
      "needs_background": "light"
     },
     "output_type": "display_data"
    }
   ],
   "source": [
    "clf_reg.fit(df_clean[fea_regs].values, df_clean['log_reg'].values)\n",
    "pd.DataFrame(clf_reg.feature_importances_).plot(kind='bar')\n",
    "clf_reg.oob_score_"
   ]
  },
  {
   "cell_type": "code",
   "execution_count": 45,
   "id": "75670278-24ee-45b0-934f-8245fe6e4e6e",
   "metadata": {},
   "outputs": [
    {
     "ename": "SyntaxError",
     "evalue": "invalid syntax (2160991736.py, line 1)",
     "output_type": "error",
     "traceback": [
      "\u001b[0;36m  File \u001b[0;32m\"/tmp/ipykernel_12092/2160991736.py\"\u001b[0;36m, line \u001b[0;32m1\u001b[0m\n\u001b[0;31m    y_pred7 = np.exp(clf_cal.predict(df_clean_test[fea_cas]))   np.exp(clf_reg.predict(df_clean_test[fea_regs])) - 2\u001b[0m\n\u001b[0m                                                                ^\u001b[0m\n\u001b[0;31mSyntaxError\u001b[0m\u001b[0;31m:\u001b[0m invalid syntax\n"
     ]
    }
   ],
   "source": [
    "y_pred7 = np.exp(clf_cal.predict(df_clean_test[fea_cas]))   np.exp(clf_reg.predict(df_clean_test[fea_regs])) - 2\n",
    "y_pred7[:40]"
   ]
  },
  {
   "cell_type": "code",
   "execution_count": null,
   "id": "3fa49453-c5c9-4b76-bea2-27475e71f4ce",
   "metadata": {},
   "outputs": [],
   "source": [
    "# 對結果四捨五入\n",
    "y_pred7 = [round(x) for x in y_pred7]\n",
    "df_test['count'] = y_pred7\n",
    "df_test['count'] = df_test['count'].astype(int)\n",
    "df_test.head()"
   ]
  },
  {
   "cell_type": "code",
   "execution_count": null,
   "id": "5a8e9ea5-018e-41e7-bdd9-f835671d6f01",
   "metadata": {},
   "outputs": [],
   "source": [
    "print(df_test.shape)\n",
    "df_test.to_csv('result.csv', sep=',', columns=['datetime', 'count'], header=['datetime', 'count'], index = False)"
   ]
  },
  {
   "cell_type": "code",
   "execution_count": null,
   "id": "b9bf3d6b-4eac-49dd-8838-3832152d0b63",
   "metadata": {},
   "outputs": [],
   "source": []
  },
  {
   "cell_type": "code",
   "execution_count": null,
   "id": "83648204-6119-4097-9808-43b8f39ba265",
   "metadata": {},
   "outputs": [],
   "source": []
  },
  {
   "cell_type": "code",
   "execution_count": null,
   "id": "177b1e70-0694-47cd-a705-8c9988939d1d",
   "metadata": {},
   "outputs": [],
   "source": []
  },
  {
   "cell_type": "code",
   "execution_count": null,
   "id": "a48db698-04f5-4d01-bae3-c2aef4204a0d",
   "metadata": {},
   "outputs": [],
   "source": []
  },
  {
   "cell_type": "code",
   "execution_count": null,
   "id": "b60cf74f-a017-4a2a-871c-f74fcb31de65",
   "metadata": {},
   "outputs": [],
   "source": []
  },
  {
   "cell_type": "code",
   "execution_count": null,
   "id": "c2fcd8ed-3a33-417a-8a16-812b75931bfe",
   "metadata": {},
   "outputs": [],
   "source": []
  },
  {
   "cell_type": "code",
   "execution_count": null,
   "id": "c76d5e97-7c16-49d4-832a-c28f6887f2b3",
   "metadata": {},
   "outputs": [],
   "source": []
  },
  {
   "cell_type": "code",
   "execution_count": null,
   "id": "ea1b24c4-4e3e-42ec-80ea-756307f0d3ab",
   "metadata": {},
   "outputs": [],
   "source": []
  },
  {
   "cell_type": "code",
   "execution_count": null,
   "id": "0958f274-cc4a-4230-9d29-f244823674cf",
   "metadata": {},
   "outputs": [],
   "source": []
  }
 ],
 "metadata": {
  "kernelspec": {
   "display_name": "Python 3 (ipykernel)",
   "language": "python",
   "name": "python3"
  },
  "language_info": {
   "codemirror_mode": {
    "name": "ipython",
    "version": 3
   },
   "file_extension": ".py",
   "mimetype": "text/x-python",
   "name": "python",
   "nbconvert_exporter": "python",
   "pygments_lexer": "ipython3",
   "version": "3.8.10"
  }
 },
 "nbformat": 4,
 "nbformat_minor": 5
}
