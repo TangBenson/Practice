{
 "cells": [
  {
   "cell_type": "code",
   "execution_count": 1,
   "id": "d64d2428-2f44-4262-99ac-2958505c6e38",
   "metadata": {},
   "outputs": [],
   "source": [
    "import numpy as np\n",
    "import pandas as pd\n",
    "import warnings\n",
    "warnings.filterwarnings('ignore')\n",
    "import matplotlib.pyplot as plt # Pyplot是使matplotlib像MATLAB一樣工作的命令樣式函數的集合\n",
    "import seaborn as sns\n",
    "%matplotlib inline"
   ]
  },
  {
   "cell_type": "code",
   "execution_count": 4,
   "id": "7c30debf-2ada-4048-8c9e-2e25ab557937",
   "metadata": {},
   "outputs": [],
   "source": [
    "dt = pd.read_csv(\"~/bigdata_team/data/bikeshare/train.csv\")\n",
    "dt_test = pd.read_csv(\"~/bigdata_team/data/bikeshare/test.csv\")\n",
    "# casual 沒註冊的使用者租借數量\n",
    "# registered 已註冊的使用者租借數量\n",
    "# count 總租借數量\n",
    "# holiday 0:非節日 1:節日\n",
    "# workingday 0:非工作日 1:工作日\n",
    "# weather 1:晴朗、微量的雲 2:有霧或雲 3:小雪、小雨、暴風 4:大雨、冰雹"
   ]
  },
  {
   "cell_type": "code",
   "execution_count": 10,
   "id": "b7e876be-7314-4cd0-90c4-c0a4a2a175c0",
   "metadata": {},
   "outputs": [
    {
     "data": {
      "text/html": [
       "<div>\n",
       "<style scoped>\n",
       "    .dataframe tbody tr th:only-of-type {\n",
       "        vertical-align: middle;\n",
       "    }\n",
       "\n",
       "    .dataframe tbody tr th {\n",
       "        vertical-align: top;\n",
       "    }\n",
       "\n",
       "    .dataframe thead th {\n",
       "        text-align: right;\n",
       "    }\n",
       "</style>\n",
       "<table border=\"1\" class=\"dataframe\">\n",
       "  <thead>\n",
       "    <tr style=\"text-align: right;\">\n",
       "      <th></th>\n",
       "      <th>datetime</th>\n",
       "      <th>season</th>\n",
       "      <th>holiday</th>\n",
       "      <th>workingday</th>\n",
       "      <th>weather</th>\n",
       "      <th>temp</th>\n",
       "      <th>atemp</th>\n",
       "      <th>humidity</th>\n",
       "      <th>windspeed</th>\n",
       "      <th>casual</th>\n",
       "      <th>registered</th>\n",
       "      <th>count</th>\n",
       "    </tr>\n",
       "  </thead>\n",
       "  <tbody>\n",
       "    <tr>\n",
       "      <th>0</th>\n",
       "      <td>2011-01-01 00:00:00</td>\n",
       "      <td>1</td>\n",
       "      <td>0</td>\n",
       "      <td>0</td>\n",
       "      <td>1</td>\n",
       "      <td>9.84</td>\n",
       "      <td>14.395</td>\n",
       "      <td>81</td>\n",
       "      <td>0.0</td>\n",
       "      <td>3</td>\n",
       "      <td>13</td>\n",
       "      <td>16</td>\n",
       "    </tr>\n",
       "  </tbody>\n",
       "</table>\n",
       "</div>"
      ],
      "text/plain": [
       "              datetime  season  holiday  workingday  weather  temp   atemp  \\\n",
       "0  2011-01-01 00:00:00       1        0           0        1  9.84  14.395   \n",
       "\n",
       "   humidity  windspeed  casual  registered  count  \n",
       "0        81        0.0       3          13     16  "
      ]
     },
     "execution_count": 10,
     "metadata": {},
     "output_type": "execute_result"
    }
   ],
   "source": [
    "dt.head(1)"
   ]
  },
  {
   "cell_type": "code",
   "execution_count": 8,
   "id": "e5275472-a33f-47f3-b086-71dbc0c3c4fc",
   "metadata": {},
   "outputs": [
    {
     "name": "stdout",
     "output_type": "stream",
     "text": [
      "[1 2 3 4]\n",
      "[0 1]\n",
      "[0 1]\n"
     ]
    }
   ],
   "source": [
    "# 檢查分類資料是否合乎規範\n",
    "print(dt['season'].unique())\n",
    "print(dt['holiday'].unique())\n",
    "print(dt['workingday'].unique())"
   ]
  },
  {
   "cell_type": "code",
   "execution_count": 11,
   "id": "cdd8b4ae-a0d7-4fe5-a040-8ed1900fde50",
   "metadata": {},
   "outputs": [],
   "source": [
    "# 將資料以固定格式轉換，留下年分、月份、星期與小時\n",
    "dt['datetime'] = pd.to_datetime(dt['datetime'],format='%Y-%m-%d %H:%M:%S')\n",
    "dt_test['datetime'] = pd.to_datetime(dt['datetime'],format='%Y-%m-%d %H:%M:%S')"
   ]
  },
  {
   "cell_type": "code",
   "execution_count": 12,
   "id": "240cc37e-cda2-49b2-a3ca-51b342d51b8a",
   "metadata": {},
   "outputs": [
    {
     "data": {
      "text/html": [
       "<div>\n",
       "<style scoped>\n",
       "    .dataframe tbody tr th:only-of-type {\n",
       "        vertical-align: middle;\n",
       "    }\n",
       "\n",
       "    .dataframe tbody tr th {\n",
       "        vertical-align: top;\n",
       "    }\n",
       "\n",
       "    .dataframe thead th {\n",
       "        text-align: right;\n",
       "    }\n",
       "</style>\n",
       "<table border=\"1\" class=\"dataframe\">\n",
       "  <thead>\n",
       "    <tr style=\"text-align: right;\">\n",
       "      <th></th>\n",
       "      <th>datetime</th>\n",
       "      <th>season</th>\n",
       "      <th>holiday</th>\n",
       "      <th>workingday</th>\n",
       "      <th>weather</th>\n",
       "      <th>temp</th>\n",
       "      <th>atemp</th>\n",
       "      <th>humidity</th>\n",
       "      <th>windspeed</th>\n",
       "      <th>casual</th>\n",
       "      <th>registered</th>\n",
       "      <th>count</th>\n",
       "    </tr>\n",
       "  </thead>\n",
       "  <tbody>\n",
       "    <tr>\n",
       "      <th>0</th>\n",
       "      <td>2011-01-01</td>\n",
       "      <td>1</td>\n",
       "      <td>0</td>\n",
       "      <td>0</td>\n",
       "      <td>1</td>\n",
       "      <td>9.84</td>\n",
       "      <td>14.395</td>\n",
       "      <td>81</td>\n",
       "      <td>0.0</td>\n",
       "      <td>3</td>\n",
       "      <td>13</td>\n",
       "      <td>16</td>\n",
       "    </tr>\n",
       "  </tbody>\n",
       "</table>\n",
       "</div>"
      ],
      "text/plain": [
       "    datetime  season  holiday  workingday  weather  temp   atemp  humidity  \\\n",
       "0 2011-01-01       1        0           0        1  9.84  14.395        81   \n",
       "\n",
       "   windspeed  casual  registered  count  \n",
       "0        0.0       3          13     16  "
      ]
     },
     "execution_count": 12,
     "metadata": {},
     "output_type": "execute_result"
    }
   ],
   "source": [
    "dt.head(1)"
   ]
  },
  {
   "cell_type": "code",
   "execution_count": 14,
   "id": "9e9c6f25-e860-466b-bb45-999851f87413",
   "metadata": {},
   "outputs": [],
   "source": [
    "# 留下年月時\n",
    "dt['year'] = dt['datetime'].dt.year\n",
    "dt['month'] = dt['datetime'].dt.month\n",
    "dt['hour'] = dt['datetime'].dt.hour\n",
    "dt['dayofweek'] = dt['datetime'].dt.dayofweek\n",
    "\n",
    "dt_test['year'] = dt_test['datetime'].dt.year\n",
    "dt_test['month'] = dt_test['datetime'].dt.month\n",
    "dt_test['hour'] = dt_test['datetime'].dt.hour\n",
    "dt_test['dayofweek'] = dt_test['datetime'].dt.dayofweek"
   ]
  },
  {
   "cell_type": "code",
   "execution_count": 62,
   "id": "6aacfb47-6e6f-4938-9613-45454e28b71e",
   "metadata": {},
   "outputs": [
    {
     "data": {
      "text/plain": [
       "<AxesSubplot:xlabel='count', ylabel='Density'>"
      ]
     },
     "execution_count": 62,
     "metadata": {},
     "output_type": "execute_result"
    },
    {
     "data": {
      "image/png": "[encoded data removed]",
      "text/plain": [
       "<Figure size 432x360 with 1 Axes>"
      ]
     },
     "metadata": {
      "needs_background": "light"
     },
     "output_type": "display_data"
    }
   ],
   "source": [
    "fig, axes = plt.subplots(nrows=1,ncols=1)\n",
    "fig.set_size_inches(6, 5)\n",
    "sns.distplot(dt[\"casual\"],ax=axes)\n",
    "sns.distplot(dt[\"registered\"],ax=axes)\n",
    "sns.distplot(dt[\"count\"],ax=axes)"
   ]
  },
  {
   "cell_type": "code",
   "execution_count": 64,
   "id": "dac16234-7a44-4875-a4c0-e75df2f46dfe",
   "metadata": {},
   "outputs": [],
   "source": [
    "dt['log_casual'] = np.log(dt['casual'])\n",
    "dt['log_registered'] = np.log(dt['registered'])\n",
    "dt['log_count'] = np.log(dt['count'])"
   ]
  },
  {
   "cell_type": "code",
   "execution_count": 65,
   "id": "74228e0c-6b9e-478e-9f52-8881549a3b23",
   "metadata": {},
   "outputs": [],
   "source": [
    "# 我加：casual=0會造成log_cas=-inf，後面模型會出錯，所以刪了\n",
    "dt = dt[dt['casual']!=0]\n",
    "dt = dt[dt['registered']!=0]\n",
    "dt = dt[dt['count']!=0]"
   ]
  },
  {
   "cell_type": "code",
   "execution_count": 66,
   "id": "f46b0f07-c47b-4572-b8fc-c76066e282f2",
   "metadata": {},
   "outputs": [
    {
     "data": {
      "text/plain": [
       "<AxesSubplot:xlabel='log_count', ylabel='Density'>"
      ]
     },
     "execution_count": 66,
     "metadata": {},
     "output_type": "execute_result"
    },
    {
     "data": {
      "image/png": "[encoded data removed]",
      "text/plain": [
       "<Figure size 432x360 with 1 Axes>"
      ]
     },
     "metadata": {
      "needs_background": "light"
     },
     "output_type": "display_data"
    }
   ],
   "source": [
    "fig, axes = plt.subplots(nrows=1,ncols=1)\n",
    "fig.set_size_inches(6, 5)\n",
    "sns.distplot(dt[\"log_casual\"],ax=axes)\n",
    "sns.distplot(dt[\"log_registered\"],ax=axes)\n",
    "sns.distplot(dt[\"log_count\"],ax=axes)\n",
    "\n",
    "# 取log後可以看到除了 casual 外，其他資料正常很多，推測是因為未註冊的用戶較不穩定"
   ]
  },
  {
   "cell_type": "code",
   "execution_count": null,
   "id": "f44fc286-5306-4bae-957d-1027f2fb8160",
   "metadata": {},
   "outputs": [],
   "source": []
  }
 ],
 "metadata": {
  "kernelspec": {
   "display_name": "Python 3 (ipykernel)",
   "language": "python",
   "name": "python3"
  },
  "language_info": {
   "codemirror_mode": {
    "name": "ipython",
    "version": 3
   },
   "file_extension": ".py",
   "mimetype": "text/x-python",
   "name": "python",
   "nbconvert_exporter": "python",
   "pygments_lexer": "ipython3",
   "version": "3.8.10"
  }
 },
 "nbformat": 4,
 "nbformat_minor": 5
}
