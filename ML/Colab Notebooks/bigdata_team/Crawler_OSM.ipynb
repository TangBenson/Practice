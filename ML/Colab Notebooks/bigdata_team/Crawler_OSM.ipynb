{
 "cells": [
  {
   "cell_type": "code",
   "execution_count": 1,
   "id": "61fdaecb-79f6-4b2e-b245-4efee39dddd9",
   "metadata": {
    "tags": []
   },
   "outputs": [],
   "source": [
    "import pandas as pd\n",
    "import warnings\n",
    "warnings.filterwarnings('ignore')\n",
    "import requests\n",
    "from bs4 import BeautifulSoup\n",
    "\n",
    "url=f\"https://www.openstreetmap.org/search?query=23.963302922421363%2C%20120.56802083598107#map=19/23.96330/120.56802\"\n",
    "\n",
    "headers = {\n",
    "    'User-Agent' : 'Mozilla/5.0 (X11; Ubuntu; Linux x86_64; rv:46.0) Gecko/20100101 Firefox/46.0',\n",
    "        'Content-Type': 'application/x-www-form-urlencoded',\n",
    "        'Connection' : 'Keep-Alive',\n",
    "        'Accept':'text/html,application/xhtml+xml,application/xml;q=0.9,*/*;q=0.8'\n",
    "}  # 模擬瀏覽器訪問\n",
    "\n",
    "r = requests.get(url, headers=headers)  # 請求訪問網站\n",
    "# r.encoding = r.apparent_encoding #設定字符編碼格式\n",
    "# r.encoding=\"utf-8\"\n"
   ]
  },
  {
   "cell_type": "code",
   "execution_count": 2,
   "id": "5a2ddcf0-89d2-474b-8b2f-dfdbd1b6480b",
   "metadata": {
    "tags": []
   },
   "outputs": [
    {
     "data": {
      "text/plain": [
       "<Response [200]>"
      ]
     },
     "execution_count": 2,
     "metadata": {},
     "output_type": "execute_result"
    }
   ],
   "source": [
    "r"
   ]
  },
  {
   "cell_type": "code",
   "execution_count": 3,
   "id": "6fe402c9-35da-483f-aecc-4f1cf6ad98d0",
   "metadata": {
    "collapsed": true,
    "jupyter": {
     "outputs_hidden": true
    },
    "tags": []
   },
   "outputs": [
    {
     "data": {
      "text/plain": [
       "b'\\n\\n\\n\\n\\n<!DOCTYPE html>\\n<html lang=\"en\" dir=\"ltr\">\\n  <head data-locale=\"en\" data-preferred-editor=\"id\">\\n  <meta http-equiv=\"X-UA-Compatible\" content=\"IE=edge\" />\\n  <meta name=\"viewport\" content=\"width=device-width, minimum-scale=1.0, maximum-scale=1.0\" />\\n  \\n  <script src=\"/assets/application-8ec2aaebfe809ac2784ec57662ee1ca4ef004c04c2f4c2e3d146503070998803.js\"></script>\\n  <script src=\"/assets/i18n/en-54eb6800793b7b729a76474dfd32bcce2628acb21b86891739e81db0d44e6b05.js\"></script>\\n  <link rel=\"stylesheet\" media=\"screen\" href=\"/assets/screen-ltr-b13550f08be9714e162d85c7b028ed7b17c9990568e2152d6e254d8cb3e735c0.css\" />\\n  <link rel=\"stylesheet\" media=\"print\" href=\"/assets/print-ltr-caa7583ae1332e048eae046dd88a36a96be04ecfb868c0d1b1692e8755f53b24.css\" />\\n  <link rel=\"stylesheet\" media=\"screen, print\" href=\"/assets/leaflet-all-a63fa045cb067bc93e2e445c634430b650d921a64d0e752fb48d980e55e067ba.css\" />\\n  \\n<link rel=\"apple-touch-icon\" type=\"image/png\" href=\"/assets/apple-touch-icon-57x57-0af2b52ac2b1a8cb0aba42f17aa901bfdedb9174bd978f838e3b3e1dd8602f52.png\" sizes=\"57x57\" />\\n<link rel=\"apple-touch-icon\" type=\"image/png\" href=\"/assets/apple-touch-icon-60x60-cff74c9066d8e7fd08b29407712edbae5613cc9a4c03ee0398a89502a6a41d1f.png\" sizes=\"60x60\" />\\n<link rel=\"apple-touch-icon\" type=\"image/png\" href=\"/assets/apple-touch-icon-72x72-63c6fdf3ddf65feebac1c0441bf6a378d1e4bde7107f598ae86733c402895eae.png\" sizes=\"72x72\" />\\n<link rel=\"apple-touch-icon\" type=\"image/png\" href=\"/assets/apple-touch-icon-76x76-1740d6e7a59521693c496dd8fbe1caf3d5ad302017cb0f5073b6914b4f5b7544.png\" sizes=\"76x76\" />\\n<link rel=\"apple-touch-icon\" type=\"image/png\" href=\"/assets/apple-touch-icon-114x114-20ba9df1a8f9b341040d661b7942b7b10288b9b4c4ce0663e10018958dc7f4a8.png\" sizes=\"114x114\" />\\n<link rel=\"apple-touch-icon\" type=\"image/png\" href=\"/assets/apple-touch-icon-120x120-c304991e604d1be82639709b96fb87f7b6b6688cc0d04d5f6141604259299648.png\" sizes=\"120x120\" />\\n<link rel=\"apple-touch-icon\" type=\"image/png\" href=\"/assets/apple-touch-icon-144x144-fbf20bdf9d2f7c1fe8eb85d7869a9bda285be88c93a39438150f5eb5955758ce.png\" sizes=\"144x144\" />\\n<link rel=\"apple-touch-icon\" type=\"image/png\" href=\"/assets/apple-touch-icon-152x152-af45dc979e972cab863517b2cb33a3dcf3e04e02a2eb2734c6f93edc21fa395d.png\" sizes=\"152x152\" />\\n<link rel=\"apple-touch-icon\" type=\"image/png\" href=\"/assets/apple-touch-icon-180x180-ea6361d7ae5b3f08c6290652ad703fa239364cc09c84873044f3299845f24652.png\" sizes=\"180x180\" />\\n<link rel=\"icon\" type=\"image/png\" href=\"/assets/favicon-32x32-99b88fcadeef736889823c8a886b89d8cada9d4423a49a27de29bacc0a6bebd1.png\" sizes=\"32x32\" />\\n<link rel=\"icon\" type=\"image/png\" href=\"/assets/favicon-194x194-79d3fb0152c735866e64b1d7535d504483cd13c2fad0131a6142bd9629d30de2.png\" sizes=\"194x194\" />\\n<link rel=\"icon\" type=\"image/png\" href=\"/assets/favicon-96x96-6ffbc38962fddb870f9577b76430a0ee4db5fb4eca485f850cd45436d7f3eb87.png\" sizes=\"96x96\" />\\n<link rel=\"icon\" type=\"image/png\" href=\"/assets/android-chrome-192x192-f970b9be3965dfda6ea9481b305c39b2ec794e296f802235e30d4671f0f896e1.png\" sizes=\"192x192\" />\\n<link rel=\"icon\" type=\"image/png\" href=\"/assets/favicon-16x16-474476c1b2381628a81361a9e2bf04b936d21f77c59e84b48c6c69ea376fb6cf.png\" sizes=\"16x16\" />\\n<link rel=\"mask-icon\" href=\"/assets/tab-icon-d48738778a27141c72d1101a03b278b681e85b966a688533f497aa8bafca2a49.svg\" color=\"#7ebc6f\">\\n<link rel=\"manifest\" href=\"/assets/manifest-b2cc1407226d3e16e6149425747239c259fbe44b41bff3aca36ca6d9e56a6e18.json\">\\n<meta name=\"msapplication-config\" content=\"/assets/browserconfig-c59184dc0264731151cbf50ae58f7fa8ae5153138013f125203e1193800f862f.xml\">\\n<meta name=\"msapplication-TileColor\" content=\"#00a300\">\\n<meta name=\"msapplication-TileImage\" content=\"/assets/mstile-144x144-02723f6f7cb2c18e6f8041c93f80982decb52b24a7e447477bc2ce3136d75806.png\">\\n<meta name=\"theme-color\" content=\"#ffffff\">\\n<link href=\"https://www.openstreetmap.org/search\" rel=\"canonical\" />\\n<link rel=\"search\" type=\"application/opensearchdescription+xml\" title=\"OpenStreetMap Search\" href=\"/assets/osm-25766501e577496ff8d70388097125cb0aa654f55d170659a5bf448ae7236b9c.xml\">\\n<meta name=\"description\" content=\"OpenStreetMap is the free wiki world map.\">\\n<meta property=\"og:site_name\" content=\"OpenStreetMap\">\\n<meta property=\"og:title\" content=\"OpenStreetMap\">\\n<meta property=\"og:type\" content=\"website\">\\n<meta property=\"og:image\" content=\"https://www.openstreetmap.org/assets/osm_logo_256-ed028f90468224a272961c380ecee0cfb73b8048b34f4b4b204b7f0d1097875d.png\">\\n<meta property=\"og:image:secure_url\" content=\"https://www.openstreetmap.org/assets/osm_logo_256-ed028f90468224a272961c380ecee0cfb73b8048b34f4b4b204b7f0d1097875d.png\">\\n<meta property=\"og:url\" content=\"https://www.openstreetmap.org/search\">\\n<meta property=\"og:description\" content=\"OpenStreetMap is a map of the world, created by people like you and free to use under an open license.\">\\n\\n    <script src=\"/assets/index-dcdf05e964c646be721b9b72ca907bd919c35188e10c683f42940b9770fb8378.js\"></script>\\n\\n  \\n  <meta name=\"csrf-param\" content=\"authenticity_token\" />\\n<meta name=\"csrf-token\" content=\"go9c_mPy4GMSsEXNjbILy3kRptvKG34ZeBr6EHzlou1aIAztEvG8jZl9UnSmAS5JAGSXaXF-2jrHUSp8z7iTRA\" />\\n  \\n  <title>OpenStreetMap</title>\\n</head>\\n  <body class=\"map-layout\">\\n    <header class=\"closed clearfix\">\\n  <h1>\\n    <a href=\"/\" class=\"geolink\">\\n      <picture>\\n        <source srcset=\"/assets/osm_logo-d4979005d8a03d67bbf051b4e7e6ef1b26c6a34a5cd1b65908e2947c360ca391.svg\" type=\"image/svg+xml\" />\\n        <img srcset=\"/assets/osm_logo-d4979005d8a03d67bbf051b4e7e6ef1b26c6a34a5cd1b65908e2947c360ca391.svg\" alt=\"OpenStreetMap logo\" class=\"logo\" src=\"/assets/osm_logo-9391021d40a7acdafd2ac5d5622dfe0e469c61421fdb2975365c183f5edaa270.png\" />\\n      </picture>\\n      OpenStreetMap\\n    </a>\\n  </h1>\\n  <a href=\"#\" id=\"menu-icon\"></a>\\n  <nav class=\\'primary\\'>\\n      <div class=\"search_forms\">\\n  <form method=\"GET\" action=\"/search\" class=\"search_form px-1 py-2\">\\n    <div class=\"form-row mx-0\">\\n      <div class=\"col\">\\n        <div class=\"input-group flex-nowrap\">\\n          <div class=\\'query_wrapper position-relative flex-grow-1\\'>\\n            <a class=\"describe_location position-absolute\" title=\"Describe the current location using the search engine\" href=\"#\">Where is this?</a>\\n            <input type=\"text\" name=\"query\" id=\"query\" placeholder=\"Search\" autocomplete=\"on\" class=\"form-control form-control-sm\" dir=\"auto\" />\\n          </div>\\n          <div class=\"input-group-append\">\\n            <input type=\"submit\" name=\"commit\" value=\"Go\" class=\"btn btn-sm btn-primary\" />\\n          </div>\\n        </div>\\n      </div>\\n      <div class=\"col-auto\">\\n        <a class=\"btn btn-sm btn-primary switch_link\" title=\"Find directions between two points\" href=\"/directions\"><img width=\"20\" height=\"20\" src=\"/assets/directions-6ae0ecdabcaa76d0d14dddddfa7d6381ecdd817b05f751ea422e53493945e942.png\" /></a>\\n      </div>\\n    </div>\\n  </form>\\n\\n  <form method=\"GET\" action=\"/directions\" class=\"directions_form pb-3\">\\n    <div class=\"clearfix px-3 py-3\"><span class=\"icon close\"></span></div>\\n\\n    <div class=\"form-row m-1\">\\n      <div class=\"col-1\">\\n        <img class=\"routing_marker mx-auto d-block\" data-type=\"from\" draggable=\"true\" src=\"/assets/marker-green-65a7328dedf1e8396deb167927d899ce3b08ca17f323302db66620db1f3bb97f.png\" />\\n      </div>\\n      <div class=\"col\">\\n        <input type=\"text\" name=\"route_from\" id=\"route_from\" placeholder=\"From\" autocomplete=\"on\" class=\"form-control form-control-sm\" dir=\"auto\" />\\n      </div>\\n    </div>\\n    <div class=\"form-row m-1\">\\n      <div class=\"col-1\">\\n        <img class=\"routing_marker mx-auto d-block\" data-type=\"to\" draggable=\"true\" src=\"/assets/marker-red-080842cf8ca2034c956ba83b530ec6c5c592315ed04b82538bb925a395584644.png\" />\\n      </div>\\n      <div class=\"col\">\\n        <input type=\"text\" name=\"route_to\" id=\"route_to\" placeholder=\"To\" autocomplete=\"on\" class=\"form-control form-control-sm\" dir=\"auto\" />\\n      </div>\\n    </div>\\n    <div class=\"form-row m-1\">\\n      <div class=\"col offset-1\">\\n        <select class=\"routing_engines form-control form-control-sm\" name=\"routing_engines\"></select>\\n      </div>\\n      <div class=\"col-auto\">\\n        <input type=\"submit\" name=\"commit\" value=\"Go\" class=\"routing_go btn btn-sm btn-primary\" />\\n      </div>\\n    </div>\\n    <div class=\"form-row m-1\">\\n      <div class=\"col offset-1\">\\n        <a class=\"reverse_directions\">Reverse Directions</a>\\n      </div>\\n    </div>\\n\\n    <div class=\"loader_copy\"><div class=\"loader\"><img src=\"/assets/searching-3343ef26a638a661762242d1f68b505ce78f59cf7a60d15a1ca81bd64da1166c.gif\" /></div></div>\\n  </form>\\n</div>\\n\\n\\n    <div class=\"btn-group\">\\n      <div id=\"edit_tab\" class=\"btn-group \">\\n        <a class=\"btn btn-outline-primary geolink editlink\" id=\"editanchor\" data-editor=\"id\" href=\"/edit\">Edit</a>\\n        <a class=\\'btn btn-outline-primary dropdown-toggle dropdown-toggle-split\\' data-toggle=\\'dropdown\\' href=\\'#\\'></a>\\n        <ul class=\\'dropdown-menu\\'>\\n            <li>\\n              <a data-editor=\"id\" class=\"geolink editlink dropdown-item\" href=\"/edit?editor=id\">Edit with iD (in-browser editor)</a>\\n            </li>\\n            <li>\\n              <a data-editor=\"remote\" class=\"geolink editlink dropdown-item\" href=\"/edit?editor=remote\">Edit with Remote Control (JOSM, Potlatch, Merkaartor)</a>\\n            </li>\\n        </ul>\\n      </div>\\n      <a class=\"btn btn-outline-primary geolink flex-grow-1 current_page_class(history_path)\" id=\"history_tab\" href=\"/history\">History</a>\\n      <a class=\"btn btn-outline-primary geolink current_page_class(export_path)\" id=\"export_tab\" href=\"/export\">Export</a>\\n    </div>\\n  </nav>\\n  <nav class=\\'secondary\\'>\\n    <ul class=\\'mx-1 px-0\\'>\\n      <li class=\"compact-hide nav-item \">\\n        <a class=\"nav-link\" href=\"/traces\">GPS Traces</a>\\n      </li>\\n      <li class=\"compact-hide nav-item \">\\n        <a class=\"nav-link\" href=\"/diary\">User Diaries</a>\\n      </li>\\n      <li class=\"compact-hide nav-item \">\\n        <a class=\"nav-link\" href=\"/copyright\">Copyright</a>\\n      </li>\\n      <li class=\"compact-hide nav-item \">\\n        <a class=\"nav-link\" href=\"/help\">Help</a>\\n      </li>\\n      <li class=\"compact-hide nav-item \">\\n        <a class=\"nav-link\" href=\"/about\">About</a>\\n      </li>\\n      <li id=\"compact-secondary-nav\" class=\"dropdown nav-item\">\\n        <a class=\"dropdown-toggle nav-link\" data-toggle=\"dropdown\" href=\"#\">More</a>\\n        <ul class=\"dropdown-menu\">\\n          <li class=\"\"><a class=\"dropdown-item\" href=\"/traces\">GPS Traces</a></li>\\n          <li class=\"\"><a class=\"dropdown-item\" href=\"/diary\">User Diaries</a></li>\\n          <li class=\"\"><a class=\"dropdown-item\" href=\"/copyright\">Copyright</a></li>\\n          <li class=\"\"><a class=\"dropdown-item\" href=\"/help\">Help</a></li>\\n          <li class=\"\"><a class=\"dropdown-item\" href=\"/about\">About</a></li>\\n        </ul>\\n      </li>\\n    </ul>\\n      <div class=\"d-inline-flex btn-group login-menu\" role=\"\">\\n        <a class=\"geolink btn btn-outline-secondary\" href=\"/login?referer=%2Fsearch%3Fquery%3D23.963302922421363%252C%2520120.56802083598107\">Log In</a>\\n        <a class=\"btn btn-outline-secondary\" href=\"/user/new\">Sign Up</a>\\n      </ul>\\n  </nav>\\n</header>\\n\\n    <div id=\"content\" class=\"\">\\n      <div id=\"sidebar\">\\n    <div class=\"search_forms\">\\n  <form method=\"GET\" action=\"/search\" class=\"search_form px-1 py-2\">\\n    <div class=\"form-row mx-0\">\\n      <div class=\"col\">\\n        <div class=\"input-group flex-nowrap\">\\n          <div class=\\'query_wrapper position-relative flex-grow-1\\'>\\n            <a class=\"describe_location position-absolute\" title=\"Describe the current location using the search engine\" href=\"#\">Where is this?</a>\\n            <input type=\"text\" name=\"query\" id=\"query\" placeholder=\"Search\" autofocus=\"autofocus\" autocomplete=\"on\" class=\"form-control form-control-sm\" dir=\"auto\" />\\n          </div>\\n          <div class=\"input-group-append\">\\n            <input type=\"submit\" name=\"commit\" value=\"Go\" class=\"btn btn-sm btn-primary\" />\\n          </div>\\n        </div>\\n      </div>\\n      <div class=\"col-auto\">\\n        <a class=\"btn btn-sm btn-primary switch_link\" title=\"Find directions between two points\" href=\"/directions\"><img width=\"20\" height=\"20\" src=\"/assets/directions-6ae0ecdabcaa76d0d14dddddfa7d6381ecdd817b05f751ea422e53493945e942.png\" /></a>\\n      </div>\\n    </div>\\n  </form>\\n\\n  <form method=\"GET\" action=\"/directions\" class=\"directions_form pb-3\">\\n    <div class=\"clearfix px-3 py-3\"><span class=\"icon close\"></span></div>\\n\\n    <div class=\"form-row m-1\">\\n      <div class=\"col-1\">\\n        <img class=\"routing_marker mx-auto d-block\" data-type=\"from\" draggable=\"true\" src=\"/assets/marker-green-65a7328dedf1e8396deb167927d899ce3b08ca17f323302db66620db1f3bb97f.png\" />\\n      </div>\\n      <div class=\"col\">\\n        <input type=\"text\" name=\"route_from\" id=\"route_from\" placeholder=\"From\" autocomplete=\"on\" class=\"form-control form-control-sm\" dir=\"auto\" />\\n      </div>\\n    </div>\\n    <div class=\"form-row m-1\">\\n      <div class=\"col-1\">\\n        <img class=\"routing_marker mx-auto d-block\" data-type=\"to\" draggable=\"true\" src=\"/assets/marker-red-080842cf8ca2034c956ba83b530ec6c5c592315ed04b82538bb925a395584644.png\" />\\n      </div>\\n      <div class=\"col\">\\n        <input type=\"text\" name=\"route_to\" id=\"route_to\" placeholder=\"To\" autocomplete=\"on\" class=\"form-control form-control-sm\" dir=\"auto\" />\\n      </div>\\n    </div>\\n    <div class=\"form-row m-1\">\\n      <div class=\"col offset-1\">\\n        <select class=\"routing_engines form-control form-control-sm\" name=\"routing_engines\"></select>\\n      </div>\\n      <div class=\"col-auto\">\\n        <input type=\"submit\" name=\"commit\" value=\"Go\" class=\"routing_go btn btn-sm btn-primary\" />\\n      </div>\\n    </div>\\n    <div class=\"form-row m-1\">\\n      <div class=\"col offset-1\">\\n        <a class=\"reverse_directions\">Reverse Directions</a>\\n      </div>\\n    </div>\\n\\n    <div class=\"loader_copy\"><div class=\"loader\"><img src=\"/assets/searching-3343ef26a638a661762242d1f68b505ce78f59cf7a60d15a1ca81bd64da1166c.gif\" /></div></div>\\n  </form>\\n</div>\\n\\n\\n    <div id=\"flash\">\\n      \\n\\n\\n    </div>\\n\\n    <div id=\"browse_status\"></div>\\n\\n    <div id=\"sidebar_loader\">\\n      <img alt=\"Loading...\" class=\"loader\" src=\"/assets/searching-3343ef26a638a661762242d1f68b505ce78f59cf7a60d15a1ca81bd64da1166c.gif\">\\n    </div>\\n\\n    <div id=\"sidebar_content\">\\n      \\n<div class=\"d-flex w-100\">\\n  <div class=\"flex-grow-1 text-break\">\\n    <h2>Search Results</h2>\\n  </div>\\n  <div>\\n    <a class=\"geolink\" href=\"/\">\\n      <span class=\"icon close\"></span>\\n    </a>\\n  </div>\\n</div>\\n\\n\\n  <h4>Results from <a href=\"https://openstreetmap.org/\">Internal</a></h4>\\n  <div class=\"search_results_entry mx-n3\" data-href=\"/geocoder/search_latlon?lat=23.963302922421363&amp;latlon_digits=true&amp;lon=120.56802083598107\">\\n    <img class=\"loader\" src=\"/assets/searching-3343ef26a638a661762242d1f68b505ce78f59cf7a60d15a1ca81bd64da1166c.gif\" />\\n  </div>\\n  <h4>Results from <a href=\"https://nominatim.openstreetmap.org/\">OpenStreetMap Nominatim</a></h4>\\n  <div class=\"search_results_entry mx-n3\" data-href=\"/geocoder/search_osm_nominatim_reverse?lat=23.963302922421363&amp;latlon_digits=true&amp;lon=120.56802083598107\">\\n    <img class=\"loader\" src=\"/assets/searching-3343ef26a638a661762242d1f68b505ce78f59cf7a60d15a1ca81bd64da1166c.gif\" />\\n  </div>\\n  <h4>Results from <a href=\"http://www.geonames.org/\">GeoNames</a></h4>\\n  <div class=\"search_results_entry mx-n3\" data-href=\"/geocoder/search_geonames_reverse?lat=23.963302922421363&amp;latlon_digits=true&amp;lon=120.56802083598107\">\\n    <img class=\"loader\" src=\"/assets/searching-3343ef26a638a661762242d1f68b505ce78f59cf7a60d15a1ca81bd64da1166c.gif\" />\\n  </div>\\n\\n    </div>\\n\\n      <div class=\"welcome p-3\">\\n        <div class=\"d-flex w-100\">\\n  <div class=\"flex-grow-1 text-break\">\\n    <h2>Welcome to OpenStreetMap!</h2>\\n  </div>\\n  <div>\\n    <a class=\"geolink\" href=\"/\">\\n      <span class=\"icon close\"></span>\\n    </a>\\n  </div>\\n</div>\\n\\n        <div>\\n          <p>OpenStreetMap is a map of the world, created by people like you and free to use under an open license.</p>\\n          <p>Hosting is supported by <a href=\"https://www.ucl.ac.uk\">UCL</a>, <a href=\"https://www.fastly.com/\">Fastly</a>, <a href=\"https://www.bytemark.co.uk\">Bytemark Hosting</a>, and other <a href=\"https://hardware.openstreetmap.org/thanks/\">partners</a>.\\n          </p>\\n          <div class=\"d-flex mx-n1\">\\n            <div class=\"w-50 px-1\">\\n              <a class=\"btn btn-primary w-100\" href=\"/about\">Learn More</a>\\n            </div>\\n            <div class=\"w-50 px-1\">\\n              <a class=\"btn btn-primary w-100\" href=\"/user/new\">Start Mapping</a>\\n            </div>\\n          </div>\\n        </div>\\n      </div>\\n\\n    <div id=\"banner\">\\n      \\n    </div>\\n  </div>\\n\\n  <noscript>\\n    <div id=\"noscript\">\\n      <p>You are either using a browser that does not support JavaScript, or you have disabled JavaScript.</p>\\n      <p>OpenStreetMap uses JavaScript for its slippy map.</p>\\n    </div>\\n  </noscript>\\n\\n  <div id=\"map-ui\">\\n  </div>\\n\\n  <div id=\"map\" tabindex=\"2\">\\n  </div>\\n\\n  <div id=\"attribution\">\\n    <table>\\n      <tr>\\n        <td class=\"attribution_license\">https://openstreetmap.org/copyright</td>\\n        <td class=\"attribution_project\">https://openstreetmap.org</td>\\n      </tr>\\n      <tr>\\n        <td colspan=\"2\" class=\"attribution_notice\">Copyright OpenStreetMap and contributors, under an open license</td>\\n      </tr>\\n    </table>\\n  </div>\\n\\n</div>\\n\\n    <noscript><p><img src=\"https://piwik.openstreetmap.org/piwik.php?idsite=1\" class=\"piwik\" alt=\"\" /></p></noscript>\\n  </body>\\n</html>\\n\\n'"
      ]
     },
     "execution_count": 3,
     "metadata": {},
     "output_type": "execute_result"
    }
   ],
   "source": [
    "r.content"
   ]
  },
  {
   "cell_type": "code",
   "execution_count": 4,
   "id": "98e27294-dc7c-42d3-b78e-e734f2996c30",
   "metadata": {
    "collapsed": true,
    "jupyter": {
     "outputs_hidden": true
    },
    "tags": []
   },
   "outputs": [
    {
     "data": {
      "text/plain": [
       "'\\n\\n\\n\\n\\n<!DOCTYPE html>\\n<html lang=\"en\" dir=\"ltr\">\\n  <head data-locale=\"en\" data-preferred-editor=\"id\">\\n  <meta http-equiv=\"X-UA-Compatible\" content=\"IE=edge\" />\\n  <meta name=\"viewport\" content=\"width=device-width, minimum-scale=1.0, maximum-scale=1.0\" />\\n  \\n  <script src=\"/assets/application-8ec2aaebfe809ac2784ec57662ee1ca4ef004c04c2f4c2e3d146503070998803.js\"></script>\\n  <script src=\"/assets/i18n/en-54eb6800793b7b729a76474dfd32bcce2628acb21b86891739e81db0d44e6b05.js\"></script>\\n  <link rel=\"stylesheet\" media=\"screen\" href=\"/assets/screen-ltr-b13550f08be9714e162d85c7b028ed7b17c9990568e2152d6e254d8cb3e735c0.css\" />\\n  <link rel=\"stylesheet\" media=\"print\" href=\"/assets/print-ltr-caa7583ae1332e048eae046dd88a36a96be04ecfb868c0d1b1692e8755f53b24.css\" />\\n  <link rel=\"stylesheet\" media=\"screen, print\" href=\"/assets/leaflet-all-a63fa045cb067bc93e2e445c634430b650d921a64d0e752fb48d980e55e067ba.css\" />\\n  \\n<link rel=\"apple-touch-icon\" type=\"image/png\" href=\"/assets/apple-touch-icon-57x57-0af2b52ac2b1a8cb0aba42f17aa901bfdedb9174bd978f838e3b3e1dd8602f52.png\" sizes=\"57x57\" />\\n<link rel=\"apple-touch-icon\" type=\"image/png\" href=\"/assets/apple-touch-icon-60x60-cff74c9066d8e7fd08b29407712edbae5613cc9a4c03ee0398a89502a6a41d1f.png\" sizes=\"60x60\" />\\n<link rel=\"apple-touch-icon\" type=\"image/png\" href=\"/assets/apple-touch-icon-72x72-63c6fdf3ddf65feebac1c0441bf6a378d1e4bde7107f598ae86733c402895eae.png\" sizes=\"72x72\" />\\n<link rel=\"apple-touch-icon\" type=\"image/png\" href=\"/assets/apple-touch-icon-76x76-1740d6e7a59521693c496dd8fbe1caf3d5ad302017cb0f5073b6914b4f5b7544.png\" sizes=\"76x76\" />\\n<link rel=\"apple-touch-icon\" type=\"image/png\" href=\"/assets/apple-touch-icon-114x114-20ba9df1a8f9b341040d661b7942b7b10288b9b4c4ce0663e10018958dc7f4a8.png\" sizes=\"114x114\" />\\n<link rel=\"apple-touch-icon\" type=\"image/png\" href=\"/assets/apple-touch-icon-120x120-c304991e604d1be82639709b96fb87f7b6b6688cc0d04d5f6141604259299648.png\" sizes=\"120x120\" />\\n<link rel=\"apple-touch-icon\" type=\"image/png\" href=\"/assets/apple-touch-icon-144x144-fbf20bdf9d2f7c1fe8eb85d7869a9bda285be88c93a39438150f5eb5955758ce.png\" sizes=\"144x144\" />\\n<link rel=\"apple-touch-icon\" type=\"image/png\" href=\"/assets/apple-touch-icon-152x152-af45dc979e972cab863517b2cb33a3dcf3e04e02a2eb2734c6f93edc21fa395d.png\" sizes=\"152x152\" />\\n<link rel=\"apple-touch-icon\" type=\"image/png\" href=\"/assets/apple-touch-icon-180x180-ea6361d7ae5b3f08c6290652ad703fa239364cc09c84873044f3299845f24652.png\" sizes=\"180x180\" />\\n<link rel=\"icon\" type=\"image/png\" href=\"/assets/favicon-32x32-99b88fcadeef736889823c8a886b89d8cada9d4423a49a27de29bacc0a6bebd1.png\" sizes=\"32x32\" />\\n<link rel=\"icon\" type=\"image/png\" href=\"/assets/favicon-194x194-79d3fb0152c735866e64b1d7535d504483cd13c2fad0131a6142bd9629d30de2.png\" sizes=\"194x194\" />\\n<link rel=\"icon\" type=\"image/png\" href=\"/assets/favicon-96x96-6ffbc38962fddb870f9577b76430a0ee4db5fb4eca485f850cd45436d7f3eb87.png\" sizes=\"96x96\" />\\n<link rel=\"icon\" type=\"image/png\" href=\"/assets/android-chrome-192x192-f970b9be3965dfda6ea9481b305c39b2ec794e296f802235e30d4671f0f896e1.png\" sizes=\"192x192\" />\\n<link rel=\"icon\" type=\"image/png\" href=\"/assets/favicon-16x16-474476c1b2381628a81361a9e2bf04b936d21f77c59e84b48c6c69ea376fb6cf.png\" sizes=\"16x16\" />\\n<link rel=\"mask-icon\" href=\"/assets/tab-icon-d48738778a27141c72d1101a03b278b681e85b966a688533f497aa8bafca2a49.svg\" color=\"#7ebc6f\">\\n<link rel=\"manifest\" href=\"/assets/manifest-b2cc1407226d3e16e6149425747239c259fbe44b41bff3aca36ca6d9e56a6e18.json\">\\n<meta name=\"msapplication-config\" content=\"/assets/browserconfig-c59184dc0264731151cbf50ae58f7fa8ae5153138013f125203e1193800f862f.xml\">\\n<meta name=\"msapplication-TileColor\" content=\"#00a300\">\\n<meta name=\"msapplication-TileImage\" content=\"/assets/mstile-144x144-02723f6f7cb2c18e6f8041c93f80982decb52b24a7e447477bc2ce3136d75806.png\">\\n<meta name=\"theme-color\" content=\"#ffffff\">\\n<link href=\"https://www.openstreetmap.org/search\" rel=\"canonical\" />\\n<link rel=\"search\" type=\"application/opensearchdescription+xml\" title=\"OpenStreetMap Search\" href=\"/assets/osm-25766501e577496ff8d70388097125cb0aa654f55d170659a5bf448ae7236b9c.xml\">\\n<meta name=\"description\" content=\"OpenStreetMap is the free wiki world map.\">\\n<meta property=\"og:site_name\" content=\"OpenStreetMap\">\\n<meta property=\"og:title\" content=\"OpenStreetMap\">\\n<meta property=\"og:type\" content=\"website\">\\n<meta property=\"og:image\" content=\"https://www.openstreetmap.org/assets/osm_logo_256-ed028f90468224a272961c380ecee0cfb73b8048b34f4b4b204b7f0d1097875d.png\">\\n<meta property=\"og:image:secure_url\" content=\"https://www.openstreetmap.org/assets/osm_logo_256-ed028f90468224a272961c380ecee0cfb73b8048b34f4b4b204b7f0d1097875d.png\">\\n<meta property=\"og:url\" content=\"https://www.openstreetmap.org/search\">\\n<meta property=\"og:description\" content=\"OpenStreetMap is a map of the world, created by people like you and free to use under an open license.\">\\n\\n    <script src=\"/assets/index-dcdf05e964c646be721b9b72ca907bd919c35188e10c683f42940b9770fb8378.js\"></script>\\n\\n  \\n  <meta name=\"csrf-param\" content=\"authenticity_token\" />\\n<meta name=\"csrf-token\" content=\"go9c_mPy4GMSsEXNjbILy3kRptvKG34ZeBr6EHzlou1aIAztEvG8jZl9UnSmAS5JAGSXaXF-2jrHUSp8z7iTRA\" />\\n  \\n  <title>OpenStreetMap</title>\\n</head>\\n  <body class=\"map-layout\">\\n    <header class=\"closed clearfix\">\\n  <h1>\\n    <a href=\"/\" class=\"geolink\">\\n      <picture>\\n        <source srcset=\"/assets/osm_logo-d4979005d8a03d67bbf051b4e7e6ef1b26c6a34a5cd1b65908e2947c360ca391.svg\" type=\"image/svg+xml\" />\\n        <img srcset=\"/assets/osm_logo-d4979005d8a03d67bbf051b4e7e6ef1b26c6a34a5cd1b65908e2947c360ca391.svg\" alt=\"OpenStreetMap logo\" class=\"logo\" src=\"/assets/osm_logo-9391021d40a7acdafd2ac5d5622dfe0e469c61421fdb2975365c183f5edaa270.png\" />\\n      </picture>\\n      OpenStreetMap\\n    </a>\\n  </h1>\\n  <a href=\"#\" id=\"menu-icon\"></a>\\n  <nav class=\\'primary\\'>\\n      <div class=\"search_forms\">\\n  <form method=\"GET\" action=\"/search\" class=\"search_form px-1 py-2\">\\n    <div class=\"form-row mx-0\">\\n      <div class=\"col\">\\n        <div class=\"input-group flex-nowrap\">\\n          <div class=\\'query_wrapper position-relative flex-grow-1\\'>\\n            <a class=\"describe_location position-absolute\" title=\"Describe the current location using the search engine\" href=\"#\">Where is this?</a>\\n            <input type=\"text\" name=\"query\" id=\"query\" placeholder=\"Search\" autocomplete=\"on\" class=\"form-control form-control-sm\" dir=\"auto\" />\\n          </div>\\n          <div class=\"input-group-append\">\\n            <input type=\"submit\" name=\"commit\" value=\"Go\" class=\"btn btn-sm btn-primary\" />\\n          </div>\\n        </div>\\n      </div>\\n      <div class=\"col-auto\">\\n        <a class=\"btn btn-sm btn-primary switch_link\" title=\"Find directions between two points\" href=\"/directions\"><img width=\"20\" height=\"20\" src=\"/assets/directions-6ae0ecdabcaa76d0d14dddddfa7d6381ecdd817b05f751ea422e53493945e942.png\" /></a>\\n      </div>\\n    </div>\\n  </form>\\n\\n  <form method=\"GET\" action=\"/directions\" class=\"directions_form pb-3\">\\n    <div class=\"clearfix px-3 py-3\"><span class=\"icon close\"></span></div>\\n\\n    <div class=\"form-row m-1\">\\n      <div class=\"col-1\">\\n        <img class=\"routing_marker mx-auto d-block\" data-type=\"from\" draggable=\"true\" src=\"/assets/marker-green-65a7328dedf1e8396deb167927d899ce3b08ca17f323302db66620db1f3bb97f.png\" />\\n      </div>\\n      <div class=\"col\">\\n        <input type=\"text\" name=\"route_from\" id=\"route_from\" placeholder=\"From\" autocomplete=\"on\" class=\"form-control form-control-sm\" dir=\"auto\" />\\n      </div>\\n    </div>\\n    <div class=\"form-row m-1\">\\n      <div class=\"col-1\">\\n        <img class=\"routing_marker mx-auto d-block\" data-type=\"to\" draggable=\"true\" src=\"/assets/marker-red-080842cf8ca2034c956ba83b530ec6c5c592315ed04b82538bb925a395584644.png\" />\\n      </div>\\n      <div class=\"col\">\\n        <input type=\"text\" name=\"route_to\" id=\"route_to\" placeholder=\"To\" autocomplete=\"on\" class=\"form-control form-control-sm\" dir=\"auto\" />\\n      </div>\\n    </div>\\n    <div class=\"form-row m-1\">\\n      <div class=\"col offset-1\">\\n        <select class=\"routing_engines form-control form-control-sm\" name=\"routing_engines\"></select>\\n      </div>\\n      <div class=\"col-auto\">\\n        <input type=\"submit\" name=\"commit\" value=\"Go\" class=\"routing_go btn btn-sm btn-primary\" />\\n      </div>\\n    </div>\\n    <div class=\"form-row m-1\">\\n      <div class=\"col offset-1\">\\n        <a class=\"reverse_directions\">Reverse Directions</a>\\n      </div>\\n    </div>\\n\\n    <div class=\"loader_copy\"><div class=\"loader\"><img src=\"/assets/searching-3343ef26a638a661762242d1f68b505ce78f59cf7a60d15a1ca81bd64da1166c.gif\" /></div></div>\\n  </form>\\n</div>\\n\\n\\n    <div class=\"btn-group\">\\n      <div id=\"edit_tab\" class=\"btn-group \">\\n        <a class=\"btn btn-outline-primary geolink editlink\" id=\"editanchor\" data-editor=\"id\" href=\"/edit\">Edit</a>\\n        <a class=\\'btn btn-outline-primary dropdown-toggle dropdown-toggle-split\\' data-toggle=\\'dropdown\\' href=\\'#\\'></a>\\n        <ul class=\\'dropdown-menu\\'>\\n            <li>\\n              <a data-editor=\"id\" class=\"geolink editlink dropdown-item\" href=\"/edit?editor=id\">Edit with iD (in-browser editor)</a>\\n            </li>\\n            <li>\\n              <a data-editor=\"remote\" class=\"geolink editlink dropdown-item\" href=\"/edit?editor=remote\">Edit with Remote Control (JOSM, Potlatch, Merkaartor)</a>\\n            </li>\\n        </ul>\\n      </div>\\n      <a class=\"btn btn-outline-primary geolink flex-grow-1 current_page_class(history_path)\" id=\"history_tab\" href=\"/history\">History</a>\\n      <a class=\"btn btn-outline-primary geolink current_page_class(export_path)\" id=\"export_tab\" href=\"/export\">Export</a>\\n    </div>\\n  </nav>\\n  <nav class=\\'secondary\\'>\\n    <ul class=\\'mx-1 px-0\\'>\\n      <li class=\"compact-hide nav-item \">\\n        <a class=\"nav-link\" href=\"/traces\">GPS Traces</a>\\n      </li>\\n      <li class=\"compact-hide nav-item \">\\n        <a class=\"nav-link\" href=\"/diary\">User Diaries</a>\\n      </li>\\n      <li class=\"compact-hide nav-item \">\\n        <a class=\"nav-link\" href=\"/copyright\">Copyright</a>\\n      </li>\\n      <li class=\"compact-hide nav-item \">\\n        <a class=\"nav-link\" href=\"/help\">Help</a>\\n      </li>\\n      <li class=\"compact-hide nav-item \">\\n        <a class=\"nav-link\" href=\"/about\">About</a>\\n      </li>\\n      <li id=\"compact-secondary-nav\" class=\"dropdown nav-item\">\\n        <a class=\"dropdown-toggle nav-link\" data-toggle=\"dropdown\" href=\"#\">More</a>\\n        <ul class=\"dropdown-menu\">\\n          <li class=\"\"><a class=\"dropdown-item\" href=\"/traces\">GPS Traces</a></li>\\n          <li class=\"\"><a class=\"dropdown-item\" href=\"/diary\">User Diaries</a></li>\\n          <li class=\"\"><a class=\"dropdown-item\" href=\"/copyright\">Copyright</a></li>\\n          <li class=\"\"><a class=\"dropdown-item\" href=\"/help\">Help</a></li>\\n          <li class=\"\"><a class=\"dropdown-item\" href=\"/about\">About</a></li>\\n        </ul>\\n      </li>\\n    </ul>\\n      <div class=\"d-inline-flex btn-group login-menu\" role=\"\">\\n        <a class=\"geolink btn btn-outline-secondary\" href=\"/login?referer=%2Fsearch%3Fquery%3D23.963302922421363%252C%2520120.56802083598107\">Log In</a>\\n        <a class=\"btn btn-outline-secondary\" href=\"/user/new\">Sign Up</a>\\n      </ul>\\n  </nav>\\n</header>\\n\\n    <div id=\"content\" class=\"\">\\n      <div id=\"sidebar\">\\n    <div class=\"search_forms\">\\n  <form method=\"GET\" action=\"/search\" class=\"search_form px-1 py-2\">\\n    <div class=\"form-row mx-0\">\\n      <div class=\"col\">\\n        <div class=\"input-group flex-nowrap\">\\n          <div class=\\'query_wrapper position-relative flex-grow-1\\'>\\n            <a class=\"describe_location position-absolute\" title=\"Describe the current location using the search engine\" href=\"#\">Where is this?</a>\\n            <input type=\"text\" name=\"query\" id=\"query\" placeholder=\"Search\" autofocus=\"autofocus\" autocomplete=\"on\" class=\"form-control form-control-sm\" dir=\"auto\" />\\n          </div>\\n          <div class=\"input-group-append\">\\n            <input type=\"submit\" name=\"commit\" value=\"Go\" class=\"btn btn-sm btn-primary\" />\\n          </div>\\n        </div>\\n      </div>\\n      <div class=\"col-auto\">\\n        <a class=\"btn btn-sm btn-primary switch_link\" title=\"Find directions between two points\" href=\"/directions\"><img width=\"20\" height=\"20\" src=\"/assets/directions-6ae0ecdabcaa76d0d14dddddfa7d6381ecdd817b05f751ea422e53493945e942.png\" /></a>\\n      </div>\\n    </div>\\n  </form>\\n\\n  <form method=\"GET\" action=\"/directions\" class=\"directions_form pb-3\">\\n    <div class=\"clearfix px-3 py-3\"><span class=\"icon close\"></span></div>\\n\\n    <div class=\"form-row m-1\">\\n      <div class=\"col-1\">\\n        <img class=\"routing_marker mx-auto d-block\" data-type=\"from\" draggable=\"true\" src=\"/assets/marker-green-65a7328dedf1e8396deb167927d899ce3b08ca17f323302db66620db1f3bb97f.png\" />\\n      </div>\\n      <div class=\"col\">\\n        <input type=\"text\" name=\"route_from\" id=\"route_from\" placeholder=\"From\" autocomplete=\"on\" class=\"form-control form-control-sm\" dir=\"auto\" />\\n      </div>\\n    </div>\\n    <div class=\"form-row m-1\">\\n      <div class=\"col-1\">\\n        <img class=\"routing_marker mx-auto d-block\" data-type=\"to\" draggable=\"true\" src=\"/assets/marker-red-080842cf8ca2034c956ba83b530ec6c5c592315ed04b82538bb925a395584644.png\" />\\n      </div>\\n      <div class=\"col\">\\n        <input type=\"text\" name=\"route_to\" id=\"route_to\" placeholder=\"To\" autocomplete=\"on\" class=\"form-control form-control-sm\" dir=\"auto\" />\\n      </div>\\n    </div>\\n    <div class=\"form-row m-1\">\\n      <div class=\"col offset-1\">\\n        <select class=\"routing_engines form-control form-control-sm\" name=\"routing_engines\"></select>\\n      </div>\\n      <div class=\"col-auto\">\\n        <input type=\"submit\" name=\"commit\" value=\"Go\" class=\"routing_go btn btn-sm btn-primary\" />\\n      </div>\\n    </div>\\n    <div class=\"form-row m-1\">\\n      <div class=\"col offset-1\">\\n        <a class=\"reverse_directions\">Reverse Directions</a>\\n      </div>\\n    </div>\\n\\n    <div class=\"loader_copy\"><div class=\"loader\"><img src=\"/assets/searching-3343ef26a638a661762242d1f68b505ce78f59cf7a60d15a1ca81bd64da1166c.gif\" /></div></div>\\n  </form>\\n</div>\\n\\n\\n    <div id=\"flash\">\\n      \\n\\n\\n    </div>\\n\\n    <div id=\"browse_status\"></div>\\n\\n    <div id=\"sidebar_loader\">\\n      <img alt=\"Loading...\" class=\"loader\" src=\"/assets/searching-3343ef26a638a661762242d1f68b505ce78f59cf7a60d15a1ca81bd64da1166c.gif\">\\n    </div>\\n\\n    <div id=\"sidebar_content\">\\n      \\n<div class=\"d-flex w-100\">\\n  <div class=\"flex-grow-1 text-break\">\\n    <h2>Search Results</h2>\\n  </div>\\n  <div>\\n    <a class=\"geolink\" href=\"/\">\\n      <span class=\"icon close\"></span>\\n    </a>\\n  </div>\\n</div>\\n\\n\\n  <h4>Results from <a href=\"https://openstreetmap.org/\">Internal</a></h4>\\n  <div class=\"search_results_entry mx-n3\" data-href=\"/geocoder/search_latlon?lat=23.963302922421363&amp;latlon_digits=true&amp;lon=120.56802083598107\">\\n    <img class=\"loader\" src=\"/assets/searching-3343ef26a638a661762242d1f68b505ce78f59cf7a60d15a1ca81bd64da1166c.gif\" />\\n  </div>\\n  <h4>Results from <a href=\"https://nominatim.openstreetmap.org/\">OpenStreetMap Nominatim</a></h4>\\n  <div class=\"search_results_entry mx-n3\" data-href=\"/geocoder/search_osm_nominatim_reverse?lat=23.963302922421363&amp;latlon_digits=true&amp;lon=120.56802083598107\">\\n    <img class=\"loader\" src=\"/assets/searching-3343ef26a638a661762242d1f68b505ce78f59cf7a60d15a1ca81bd64da1166c.gif\" />\\n  </div>\\n  <h4>Results from <a href=\"http://www.geonames.org/\">GeoNames</a></h4>\\n  <div class=\"search_results_entry mx-n3\" data-href=\"/geocoder/search_geonames_reverse?lat=23.963302922421363&amp;latlon_digits=true&amp;lon=120.56802083598107\">\\n    <img class=\"loader\" src=\"/assets/searching-3343ef26a638a661762242d1f68b505ce78f59cf7a60d15a1ca81bd64da1166c.gif\" />\\n  </div>\\n\\n    </div>\\n\\n      <div class=\"welcome p-3\">\\n        <div class=\"d-flex w-100\">\\n  <div class=\"flex-grow-1 text-break\">\\n    <h2>Welcome to OpenStreetMap!</h2>\\n  </div>\\n  <div>\\n    <a class=\"geolink\" href=\"/\">\\n      <span class=\"icon close\"></span>\\n    </a>\\n  </div>\\n</div>\\n\\n        <div>\\n          <p>OpenStreetMap is a map of the world, created by people like you and free to use under an open license.</p>\\n          <p>Hosting is supported by <a href=\"https://www.ucl.ac.uk\">UCL</a>, <a href=\"https://www.fastly.com/\">Fastly</a>, <a href=\"https://www.bytemark.co.uk\">Bytemark Hosting</a>, and other <a href=\"https://hardware.openstreetmap.org/thanks/\">partners</a>.\\n          </p>\\n          <div class=\"d-flex mx-n1\">\\n            <div class=\"w-50 px-1\">\\n              <a class=\"btn btn-primary w-100\" href=\"/about\">Learn More</a>\\n            </div>\\n            <div class=\"w-50 px-1\">\\n              <a class=\"btn btn-primary w-100\" href=\"/user/new\">Start Mapping</a>\\n            </div>\\n          </div>\\n        </div>\\n      </div>\\n\\n    <div id=\"banner\">\\n      \\n    </div>\\n  </div>\\n\\n  <noscript>\\n    <div id=\"noscript\">\\n      <p>You are either using a browser that does not support JavaScript, or you have disabled JavaScript.</p>\\n      <p>OpenStreetMap uses JavaScript for its slippy map.</p>\\n    </div>\\n  </noscript>\\n\\n  <div id=\"map-ui\">\\n  </div>\\n\\n  <div id=\"map\" tabindex=\"2\">\\n  </div>\\n\\n  <div id=\"attribution\">\\n    <table>\\n      <tr>\\n        <td class=\"attribution_license\">https://openstreetmap.org/copyright</td>\\n        <td class=\"attribution_project\">https://openstreetmap.org</td>\\n      </tr>\\n      <tr>\\n        <td colspan=\"2\" class=\"attribution_notice\">Copyright OpenStreetMap and contributors, under an open license</td>\\n      </tr>\\n    </table>\\n  </div>\\n\\n</div>\\n\\n    <noscript><p><img src=\"https://piwik.openstreetmap.org/piwik.php?idsite=1\" class=\"piwik\" alt=\"\" /></p></noscript>\\n  </body>\\n</html>\\n\\n'"
      ]
     },
     "execution_count": 4,
     "metadata": {},
     "output_type": "execute_result"
    }
   ],
   "source": [
    "r.text  # 獲取網頁原始碼"
   ]
  },
  {
   "cell_type": "code",
   "execution_count": 5,
   "id": "e8c933dc-b573-4f50-831d-3583be1f8132",
   "metadata": {
    "collapsed": true,
    "jupyter": {
     "outputs_hidden": true
    },
    "tags": []
   },
   "outputs": [
    {
     "data": {
      "text/plain": [
       "\n",
       "<!DOCTYPE html>\n",
       "\n",
       "<html dir=\"ltr\" lang=\"en\">\n",
       "<head data-locale=\"en\" data-preferred-editor=\"id\">\n",
       "<meta content=\"IE=edge\" http-equiv=\"X-UA-Compatible\"/>\n",
       "<meta content=\"width=device-width, minimum-scale=1.0, maximum-scale=1.0\" name=\"viewport\"/>\n",
       "<script src=\"/assets/application-8ec2aaebfe809ac2784ec57662ee1ca4ef004c04c2f4c2e3d146503070998803.js\"></script>\n",
       "<script src=\"/assets/i18n/en-54eb6800793b7b729a76474dfd32bcce2628acb21b86891739e81db0d44e6b05.js\"></script>\n",
       "<link href=\"/assets/screen-ltr-b13550f08be9714e162d85c7b028ed7b17c9990568e2152d6e254d8cb3e735c0.css\" media=\"screen\" rel=\"stylesheet\"/>\n",
       "<link href=\"/assets/print-ltr-caa7583ae1332e048eae046dd88a36a96be04ecfb868c0d1b1692e8755f53b24.css\" media=\"print\" rel=\"stylesheet\"/>\n",
       "<link href=\"/assets/leaflet-all-a63fa045cb067bc93e2e445c634430b650d921a64d0e752fb48d980e55e067ba.css\" media=\"screen, print\" rel=\"stylesheet\"/>\n",
       "<link href=\"/assets/apple-touch-icon-57x57-0af2b52ac2b1a8cb0aba42f17aa901bfdedb9174bd978f838e3b3e1dd8602f52.png\" rel=\"apple-touch-icon\" sizes=\"57x57\" type=\"image/png\"/>\n",
       "<link href=\"/assets/apple-touch-icon-60x60-cff74c9066d8e7fd08b29407712edbae5613cc9a4c03ee0398a89502a6a41d1f.png\" rel=\"apple-touch-icon\" sizes=\"60x60\" type=\"image/png\"/>\n",
       "<link href=\"/assets/apple-touch-icon-72x72-63c6fdf3ddf65feebac1c0441bf6a378d1e4bde7107f598ae86733c402895eae.png\" rel=\"apple-touch-icon\" sizes=\"72x72\" type=\"image/png\"/>\n",
       "<link href=\"/assets/apple-touch-icon-76x76-1740d6e7a59521693c496dd8fbe1caf3d5ad302017cb0f5073b6914b4f5b7544.png\" rel=\"apple-touch-icon\" sizes=\"76x76\" type=\"image/png\"/>\n",
       "<link href=\"/assets/apple-touch-icon-114x114-20ba9df1a8f9b341040d661b7942b7b10288b9b4c4ce0663e10018958dc7f4a8.png\" rel=\"apple-touch-icon\" sizes=\"114x114\" type=\"image/png\"/>\n",
       "<link href=\"/assets/apple-touch-icon-120x120-c304991e604d1be82639709b96fb87f7b6b6688cc0d04d5f6141604259299648.png\" rel=\"apple-touch-icon\" sizes=\"120x120\" type=\"image/png\"/>\n",
       "<link href=\"/assets/apple-touch-icon-144x144-fbf20bdf9d2f7c1fe8eb85d7869a9bda285be88c93a39438150f5eb5955758ce.png\" rel=\"apple-touch-icon\" sizes=\"144x144\" type=\"image/png\"/>\n",
       "<link href=\"/assets/apple-touch-icon-152x152-af45dc979e972cab863517b2cb33a3dcf3e04e02a2eb2734c6f93edc21fa395d.png\" rel=\"apple-touch-icon\" sizes=\"152x152\" type=\"image/png\"/>\n",
       "<link href=\"/assets/apple-touch-icon-180x180-ea6361d7ae5b3f08c6290652ad703fa239364cc09c84873044f3299845f24652.png\" rel=\"apple-touch-icon\" sizes=\"180x180\" type=\"image/png\"/>\n",
       "<link href=\"/assets/favicon-32x32-99b88fcadeef736889823c8a886b89d8cada9d4423a49a27de29bacc0a6bebd1.png\" rel=\"icon\" sizes=\"32x32\" type=\"image/png\"/>\n",
       "<link href=\"/assets/favicon-194x194-79d3fb0152c735866e64b1d7535d504483cd13c2fad0131a6142bd9629d30de2.png\" rel=\"icon\" sizes=\"194x194\" type=\"image/png\"/>\n",
       "<link href=\"/assets/favicon-96x96-6ffbc38962fddb870f9577b76430a0ee4db5fb4eca485f850cd45436d7f3eb87.png\" rel=\"icon\" sizes=\"96x96\" type=\"image/png\"/>\n",
       "<link href=\"/assets/android-chrome-192x192-f970b9be3965dfda6ea9481b305c39b2ec794e296f802235e30d4671f0f896e1.png\" rel=\"icon\" sizes=\"192x192\" type=\"image/png\"/>\n",
       "<link href=\"/assets/favicon-16x16-474476c1b2381628a81361a9e2bf04b936d21f77c59e84b48c6c69ea376fb6cf.png\" rel=\"icon\" sizes=\"16x16\" type=\"image/png\"/>\n",
       "<link color=\"#7ebc6f\" href=\"/assets/tab-icon-d48738778a27141c72d1101a03b278b681e85b966a688533f497aa8bafca2a49.svg\" rel=\"mask-icon\"/>\n",
       "<link href=\"/assets/manifest-b2cc1407226d3e16e6149425747239c259fbe44b41bff3aca36ca6d9e56a6e18.json\" rel=\"manifest\"/>\n",
       "<meta content=\"/assets/browserconfig-c59184dc0264731151cbf50ae58f7fa8ae5153138013f125203e1193800f862f.xml\" name=\"msapplication-config\"/>\n",
       "<meta content=\"#00a300\" name=\"msapplication-TileColor\"/>\n",
       "<meta content=\"/assets/mstile-144x144-02723f6f7cb2c18e6f8041c93f80982decb52b24a7e447477bc2ce3136d75806.png\" name=\"msapplication-TileImage\"/>\n",
       "<meta content=\"#ffffff\" name=\"theme-color\"/>\n",
       "<link href=\"https://www.openstreetmap.org/search\" rel=\"canonical\">\n",
       "<link href=\"/assets/osm-25766501e577496ff8d70388097125cb0aa654f55d170659a5bf448ae7236b9c.xml\" rel=\"search\" title=\"OpenStreetMap Search\" type=\"application/opensearchdescription+xml\"/>\n",
       "<meta content=\"OpenStreetMap is the free wiki world map.\" name=\"description\"/>\n",
       "<meta content=\"OpenStreetMap\" property=\"og:site_name\"/>\n",
       "<meta content=\"OpenStreetMap\" property=\"og:title\"/>\n",
       "<meta content=\"website\" property=\"og:type\"/>\n",
       "<meta content=\"https://www.openstreetmap.org/assets/osm_logo_256-ed028f90468224a272961c380ecee0cfb73b8048b34f4b4b204b7f0d1097875d.png\" property=\"og:image\"/>\n",
       "<meta content=\"https://www.openstreetmap.org/assets/osm_logo_256-ed028f90468224a272961c380ecee0cfb73b8048b34f4b4b204b7f0d1097875d.png\" property=\"og:image:secure_url\"/>\n",
       "<meta content=\"https://www.openstreetmap.org/search\" property=\"og:url\"/>\n",
       "<meta content=\"OpenStreetMap is a map of the world, created by people like you and free to use under an open license.\" property=\"og:description\"/>\n",
       "<script src=\"/assets/index-dcdf05e964c646be721b9b72ca907bd919c35188e10c683f42940b9770fb8378.js\"></script>\n",
       "<meta content=\"authenticity_token\" name=\"csrf-param\">\n",
       "<meta content=\"go9c_mPy4GMSsEXNjbILy3kRptvKG34ZeBr6EHzlou1aIAztEvG8jZl9UnSmAS5JAGSXaXF-2jrHUSp8z7iTRA\" name=\"csrf-token\">\n",
       "<title>OpenStreetMap</title>\n",
       "</meta></meta></link></head>\n",
       "<body class=\"map-layout\">\n",
       "<header class=\"closed clearfix\">\n",
       "<h1>\n",
       "<a class=\"geolink\" href=\"/\">\n",
       "<picture>\n",
       "<source srcset=\"/assets/osm_logo-d4979005d8a03d67bbf051b4e7e6ef1b26c6a34a5cd1b65908e2947c360ca391.svg\" type=\"image/svg+xml\"/>\n",
       "<img alt=\"OpenStreetMap logo\" class=\"logo\" src=\"/assets/osm_logo-9391021d40a7acdafd2ac5d5622dfe0e469c61421fdb2975365c183f5edaa270.png\" srcset=\"/assets/osm_logo-d4979005d8a03d67bbf051b4e7e6ef1b26c6a34a5cd1b65908e2947c360ca391.svg\"/>\n",
       "</picture>\n",
       "      OpenStreetMap\n",
       "    </a>\n",
       "</h1>\n",
       "<a href=\"#\" id=\"menu-icon\"></a>\n",
       "<nav class=\"primary\">\n",
       "<div class=\"search_forms\">\n",
       "<form action=\"/search\" class=\"search_form px-1 py-2\" method=\"GET\">\n",
       "<div class=\"form-row mx-0\">\n",
       "<div class=\"col\">\n",
       "<div class=\"input-group flex-nowrap\">\n",
       "<div class=\"query_wrapper position-relative flex-grow-1\">\n",
       "<a class=\"describe_location position-absolute\" href=\"#\" title=\"Describe the current location using the search engine\">Where is this?</a>\n",
       "<input autocomplete=\"on\" class=\"form-control form-control-sm\" dir=\"auto\" id=\"query\" name=\"query\" placeholder=\"Search\" type=\"text\"/>\n",
       "</div>\n",
       "<div class=\"input-group-append\">\n",
       "<input class=\"btn btn-sm btn-primary\" name=\"commit\" type=\"submit\" value=\"Go\"/>\n",
       "</div>\n",
       "</div>\n",
       "</div>\n",
       "<div class=\"col-auto\">\n",
       "<a class=\"btn btn-sm btn-primary switch_link\" href=\"/directions\" title=\"Find directions between two points\"><img height=\"20\" src=\"/assets/directions-6ae0ecdabcaa76d0d14dddddfa7d6381ecdd817b05f751ea422e53493945e942.png\" width=\"20\"/></a>\n",
       "</div>\n",
       "</div>\n",
       "</form>\n",
       "<form action=\"/directions\" class=\"directions_form pb-3\" method=\"GET\">\n",
       "<div class=\"clearfix px-3 py-3\"><span class=\"icon close\"></span></div>\n",
       "<div class=\"form-row m-1\">\n",
       "<div class=\"col-1\">\n",
       "<img class=\"routing_marker mx-auto d-block\" data-type=\"from\" draggable=\"true\" src=\"/assets/marker-green-65a7328dedf1e8396deb167927d899ce3b08ca17f323302db66620db1f3bb97f.png\"/>\n",
       "</div>\n",
       "<div class=\"col\">\n",
       "<input autocomplete=\"on\" class=\"form-control form-control-sm\" dir=\"auto\" id=\"route_from\" name=\"route_from\" placeholder=\"From\" type=\"text\"/>\n",
       "</div>\n",
       "</div>\n",
       "<div class=\"form-row m-1\">\n",
       "<div class=\"col-1\">\n",
       "<img class=\"routing_marker mx-auto d-block\" data-type=\"to\" draggable=\"true\" src=\"/assets/marker-red-080842cf8ca2034c956ba83b530ec6c5c592315ed04b82538bb925a395584644.png\"/>\n",
       "</div>\n",
       "<div class=\"col\">\n",
       "<input autocomplete=\"on\" class=\"form-control form-control-sm\" dir=\"auto\" id=\"route_to\" name=\"route_to\" placeholder=\"To\" type=\"text\"/>\n",
       "</div>\n",
       "</div>\n",
       "<div class=\"form-row m-1\">\n",
       "<div class=\"col offset-1\">\n",
       "<select class=\"routing_engines form-control form-control-sm\" name=\"routing_engines\"></select>\n",
       "</div>\n",
       "<div class=\"col-auto\">\n",
       "<input class=\"routing_go btn btn-sm btn-primary\" name=\"commit\" type=\"submit\" value=\"Go\"/>\n",
       "</div>\n",
       "</div>\n",
       "<div class=\"form-row m-1\">\n",
       "<div class=\"col offset-1\">\n",
       "<a class=\"reverse_directions\">Reverse Directions</a>\n",
       "</div>\n",
       "</div>\n",
       "<div class=\"loader_copy\"><div class=\"loader\"><img src=\"/assets/searching-3343ef26a638a661762242d1f68b505ce78f59cf7a60d15a1ca81bd64da1166c.gif\"/></div></div>\n",
       "</form>\n",
       "</div>\n",
       "<div class=\"btn-group\">\n",
       "<div class=\"btn-group\" id=\"edit_tab\">\n",
       "<a class=\"btn btn-outline-primary geolink editlink\" data-editor=\"id\" href=\"/edit\" id=\"editanchor\">Edit</a>\n",
       "<a class=\"btn btn-outline-primary dropdown-toggle dropdown-toggle-split\" data-toggle=\"dropdown\" href=\"#\"></a>\n",
       "<ul class=\"dropdown-menu\">\n",
       "<li>\n",
       "<a class=\"geolink editlink dropdown-item\" data-editor=\"id\" href=\"/edit?editor=id\">Edit with iD (in-browser editor)</a>\n",
       "</li>\n",
       "<li>\n",
       "<a class=\"geolink editlink dropdown-item\" data-editor=\"remote\" href=\"/edit?editor=remote\">Edit with Remote Control (JOSM, Potlatch, Merkaartor)</a>\n",
       "</li>\n",
       "</ul>\n",
       "</div>\n",
       "<a class=\"btn btn-outline-primary geolink flex-grow-1 current_page_class(history_path)\" href=\"/history\" id=\"history_tab\">History</a>\n",
       "<a class=\"btn btn-outline-primary geolink current_page_class(export_path)\" href=\"/export\" id=\"export_tab\">Export</a>\n",
       "</div>\n",
       "</nav>\n",
       "<nav class=\"secondary\">\n",
       "<ul class=\"mx-1 px-0\">\n",
       "<li class=\"compact-hide nav-item\">\n",
       "<a class=\"nav-link\" href=\"/traces\">GPS Traces</a>\n",
       "</li>\n",
       "<li class=\"compact-hide nav-item\">\n",
       "<a class=\"nav-link\" href=\"/diary\">User Diaries</a>\n",
       "</li>\n",
       "<li class=\"compact-hide nav-item\">\n",
       "<a class=\"nav-link\" href=\"/copyright\">Copyright</a>\n",
       "</li>\n",
       "<li class=\"compact-hide nav-item\">\n",
       "<a class=\"nav-link\" href=\"/help\">Help</a>\n",
       "</li>\n",
       "<li class=\"compact-hide nav-item\">\n",
       "<a class=\"nav-link\" href=\"/about\">About</a>\n",
       "</li>\n",
       "<li class=\"dropdown nav-item\" id=\"compact-secondary-nav\">\n",
       "<a class=\"dropdown-toggle nav-link\" data-toggle=\"dropdown\" href=\"#\">More</a>\n",
       "<ul class=\"dropdown-menu\">\n",
       "<li class=\"\"><a class=\"dropdown-item\" href=\"/traces\">GPS Traces</a></li>\n",
       "<li class=\"\"><a class=\"dropdown-item\" href=\"/diary\">User Diaries</a></li>\n",
       "<li class=\"\"><a class=\"dropdown-item\" href=\"/copyright\">Copyright</a></li>\n",
       "<li class=\"\"><a class=\"dropdown-item\" href=\"/help\">Help</a></li>\n",
       "<li class=\"\"><a class=\"dropdown-item\" href=\"/about\">About</a></li>\n",
       "</ul>\n",
       "</li>\n",
       "</ul>\n",
       "<div class=\"d-inline-flex btn-group login-menu\" role=\"\">\n",
       "<a class=\"geolink btn btn-outline-secondary\" href=\"/login?referer=%2Fsearch%3Fquery%3D23.963302922421363%252C%2520120.56802083598107\">Log In</a>\n",
       "<a class=\"btn btn-outline-secondary\" href=\"/user/new\">Sign Up</a>\n",
       "\n",
       "</div></nav>\n",
       "</header>\n",
       "<div class=\"\" id=\"content\">\n",
       "<div id=\"sidebar\">\n",
       "<div class=\"search_forms\">\n",
       "<form action=\"/search\" class=\"search_form px-1 py-2\" method=\"GET\">\n",
       "<div class=\"form-row mx-0\">\n",
       "<div class=\"col\">\n",
       "<div class=\"input-group flex-nowrap\">\n",
       "<div class=\"query_wrapper position-relative flex-grow-1\">\n",
       "<a class=\"describe_location position-absolute\" href=\"#\" title=\"Describe the current location using the search engine\">Where is this?</a>\n",
       "<input autocomplete=\"on\" autofocus=\"autofocus\" class=\"form-control form-control-sm\" dir=\"auto\" id=\"query\" name=\"query\" placeholder=\"Search\" type=\"text\"/>\n",
       "</div>\n",
       "<div class=\"input-group-append\">\n",
       "<input class=\"btn btn-sm btn-primary\" name=\"commit\" type=\"submit\" value=\"Go\"/>\n",
       "</div>\n",
       "</div>\n",
       "</div>\n",
       "<div class=\"col-auto\">\n",
       "<a class=\"btn btn-sm btn-primary switch_link\" href=\"/directions\" title=\"Find directions between two points\"><img height=\"20\" src=\"/assets/directions-6ae0ecdabcaa76d0d14dddddfa7d6381ecdd817b05f751ea422e53493945e942.png\" width=\"20\"/></a>\n",
       "</div>\n",
       "</div>\n",
       "</form>\n",
       "<form action=\"/directions\" class=\"directions_form pb-3\" method=\"GET\">\n",
       "<div class=\"clearfix px-3 py-3\"><span class=\"icon close\"></span></div>\n",
       "<div class=\"form-row m-1\">\n",
       "<div class=\"col-1\">\n",
       "<img class=\"routing_marker mx-auto d-block\" data-type=\"from\" draggable=\"true\" src=\"/assets/marker-green-65a7328dedf1e8396deb167927d899ce3b08ca17f323302db66620db1f3bb97f.png\"/>\n",
       "</div>\n",
       "<div class=\"col\">\n",
       "<input autocomplete=\"on\" class=\"form-control form-control-sm\" dir=\"auto\" id=\"route_from\" name=\"route_from\" placeholder=\"From\" type=\"text\"/>\n",
       "</div>\n",
       "</div>\n",
       "<div class=\"form-row m-1\">\n",
       "<div class=\"col-1\">\n",
       "<img class=\"routing_marker mx-auto d-block\" data-type=\"to\" draggable=\"true\" src=\"/assets/marker-red-080842cf8ca2034c956ba83b530ec6c5c592315ed04b82538bb925a395584644.png\"/>\n",
       "</div>\n",
       "<div class=\"col\">\n",
       "<input autocomplete=\"on\" class=\"form-control form-control-sm\" dir=\"auto\" id=\"route_to\" name=\"route_to\" placeholder=\"To\" type=\"text\"/>\n",
       "</div>\n",
       "</div>\n",
       "<div class=\"form-row m-1\">\n",
       "<div class=\"col offset-1\">\n",
       "<select class=\"routing_engines form-control form-control-sm\" name=\"routing_engines\"></select>\n",
       "</div>\n",
       "<div class=\"col-auto\">\n",
       "<input class=\"routing_go btn btn-sm btn-primary\" name=\"commit\" type=\"submit\" value=\"Go\"/>\n",
       "</div>\n",
       "</div>\n",
       "<div class=\"form-row m-1\">\n",
       "<div class=\"col offset-1\">\n",
       "<a class=\"reverse_directions\">Reverse Directions</a>\n",
       "</div>\n",
       "</div>\n",
       "<div class=\"loader_copy\"><div class=\"loader\"><img src=\"/assets/searching-3343ef26a638a661762242d1f68b505ce78f59cf7a60d15a1ca81bd64da1166c.gif\"/></div></div>\n",
       "</form>\n",
       "</div>\n",
       "<div id=\"flash\">\n",
       "</div>\n",
       "<div id=\"browse_status\"></div>\n",
       "<div id=\"sidebar_loader\">\n",
       "<img alt=\"Loading...\" class=\"loader\" src=\"/assets/searching-3343ef26a638a661762242d1f68b505ce78f59cf7a60d15a1ca81bd64da1166c.gif\"/>\n",
       "</div>\n",
       "<div id=\"sidebar_content\">\n",
       "<div class=\"d-flex w-100\">\n",
       "<div class=\"flex-grow-1 text-break\">\n",
       "<h2>Search Results</h2>\n",
       "</div>\n",
       "<div>\n",
       "<a class=\"geolink\" href=\"/\">\n",
       "<span class=\"icon close\"></span>\n",
       "</a>\n",
       "</div>\n",
       "</div>\n",
       "<h4>Results from <a href=\"https://openstreetmap.org/\">Internal</a></h4>\n",
       "<div class=\"search_results_entry mx-n3\" data-href=\"/geocoder/search_latlon?lat=23.963302922421363&amp;latlon_digits=true&amp;lon=120.56802083598107\">\n",
       "<img class=\"loader\" src=\"/assets/searching-3343ef26a638a661762242d1f68b505ce78f59cf7a60d15a1ca81bd64da1166c.gif\">\n",
       "</img></div>\n",
       "<h4>Results from <a href=\"https://nominatim.openstreetmap.org/\">OpenStreetMap Nominatim</a></h4>\n",
       "<div class=\"search_results_entry mx-n3\" data-href=\"/geocoder/search_osm_nominatim_reverse?lat=23.963302922421363&amp;latlon_digits=true&amp;lon=120.56802083598107\">\n",
       "<img class=\"loader\" src=\"/assets/searching-3343ef26a638a661762242d1f68b505ce78f59cf7a60d15a1ca81bd64da1166c.gif\"/>\n",
       "</div>\n",
       "<h4>Results from <a href=\"http://www.geonames.org/\">GeoNames</a></h4>\n",
       "<div class=\"search_results_entry mx-n3\" data-href=\"/geocoder/search_geonames_reverse?lat=23.963302922421363&amp;latlon_digits=true&amp;lon=120.56802083598107\">\n",
       "<img class=\"loader\" src=\"/assets/searching-3343ef26a638a661762242d1f68b505ce78f59cf7a60d15a1ca81bd64da1166c.gif\"/>\n",
       "</div>\n",
       "</div>\n",
       "<div class=\"welcome p-3\">\n",
       "<div class=\"d-flex w-100\">\n",
       "<div class=\"flex-grow-1 text-break\">\n",
       "<h2>Welcome to OpenStreetMap!</h2>\n",
       "</div>\n",
       "<div>\n",
       "<a class=\"geolink\" href=\"/\">\n",
       "<span class=\"icon close\"></span>\n",
       "</a>\n",
       "</div>\n",
       "</div>\n",
       "<div>\n",
       "<p>OpenStreetMap is a map of the world, created by people like you and free to use under an open license.</p>\n",
       "<p>Hosting is supported by <a href=\"https://www.ucl.ac.uk\">UCL</a>, <a href=\"https://www.fastly.com/\">Fastly</a>, <a href=\"https://www.bytemark.co.uk\">Bytemark Hosting</a>, and other <a href=\"https://hardware.openstreetmap.org/thanks/\">partners</a>.\n",
       "          </p>\n",
       "<div class=\"d-flex mx-n1\">\n",
       "<div class=\"w-50 px-1\">\n",
       "<a class=\"btn btn-primary w-100\" href=\"/about\">Learn More</a>\n",
       "</div>\n",
       "<div class=\"w-50 px-1\">\n",
       "<a class=\"btn btn-primary w-100\" href=\"/user/new\">Start Mapping</a>\n",
       "</div>\n",
       "</div>\n",
       "</div>\n",
       "</div>\n",
       "<div id=\"banner\">\n",
       "</div>\n",
       "</div>\n",
       "<noscript>\n",
       "<div id=\"noscript\">\n",
       "<p>You are either using a browser that does not support JavaScript, or you have disabled JavaScript.</p>\n",
       "<p>OpenStreetMap uses JavaScript for its slippy map.</p>\n",
       "</div>\n",
       "</noscript>\n",
       "<div id=\"map-ui\">\n",
       "</div>\n",
       "<div id=\"map\" tabindex=\"2\">\n",
       "</div>\n",
       "<div id=\"attribution\">\n",
       "<table>\n",
       "<tr>\n",
       "<td class=\"attribution_license\">https://openstreetmap.org/copyright</td>\n",
       "<td class=\"attribution_project\">https://openstreetmap.org</td>\n",
       "</tr>\n",
       "<tr>\n",
       "<td class=\"attribution_notice\" colspan=\"2\">Copyright OpenStreetMap and contributors, under an open license</td>\n",
       "</tr>\n",
       "</table>\n",
       "</div>\n",
       "</div>\n",
       "<noscript><p><img alt=\"\" class=\"piwik\" src=\"https://piwik.openstreetmap.org/piwik.php?idsite=1\"/></p></noscript>\n",
       "</body>\n",
       "</html>"
      ]
     },
     "execution_count": 5,
     "metadata": {},
     "output_type": "execute_result"
    }
   ],
   "source": [
    "soup = BeautifulSoup(r.text,\"html.parser\")\n",
    "soup"
   ]
  },
  {
   "cell_type": "code",
   "execution_count": 6,
   "id": "61354de8-afe4-4024-9368-025887e555ec",
   "metadata": {
    "collapsed": true,
    "jupyter": {
     "outputs_hidden": true
    },
    "tags": []
   },
   "outputs": [
    {
     "data": {
      "text/plain": [
       "<!DOCTYPE html>\n",
       "<html dir=\"ltr\" lang=\"en\">\n",
       "<head data-locale=\"en\" data-preferred-editor=\"id\">\n",
       "<meta content=\"IE=edge\" http-equiv=\"X-UA-Compatible\"/>\n",
       "<meta content=\"width=device-width, minimum-scale=1.0, maximum-scale=1.0\" name=\"viewport\"/>\n",
       "<script src=\"/assets/application-8ec2aaebfe809ac2784ec57662ee1ca4ef004c04c2f4c2e3d146503070998803.js\"></script>\n",
       "<script src=\"/assets/i18n/en-54eb6800793b7b729a76474dfd32bcce2628acb21b86891739e81db0d44e6b05.js\"></script>\n",
       "<link href=\"/assets/screen-ltr-b13550f08be9714e162d85c7b028ed7b17c9990568e2152d6e254d8cb3e735c0.css\" media=\"screen\" rel=\"stylesheet\"/>\n",
       "<link href=\"/assets/print-ltr-caa7583ae1332e048eae046dd88a36a96be04ecfb868c0d1b1692e8755f53b24.css\" media=\"print\" rel=\"stylesheet\"/>\n",
       "<link href=\"/assets/leaflet-all-a63fa045cb067bc93e2e445c634430b650d921a64d0e752fb48d980e55e067ba.css\" media=\"screen, print\" rel=\"stylesheet\"/>\n",
       "<link href=\"/assets/apple-touch-icon-57x57-0af2b52ac2b1a8cb0aba42f17aa901bfdedb9174bd978f838e3b3e1dd8602f52.png\" rel=\"apple-touch-icon\" sizes=\"57x57\" type=\"image/png\"/>\n",
       "<link href=\"/assets/apple-touch-icon-60x60-cff74c9066d8e7fd08b29407712edbae5613cc9a4c03ee0398a89502a6a41d1f.png\" rel=\"apple-touch-icon\" sizes=\"60x60\" type=\"image/png\"/>\n",
       "<link href=\"/assets/apple-touch-icon-72x72-63c6fdf3ddf65feebac1c0441bf6a378d1e4bde7107f598ae86733c402895eae.png\" rel=\"apple-touch-icon\" sizes=\"72x72\" type=\"image/png\"/>\n",
       "<link href=\"/assets/apple-touch-icon-76x76-1740d6e7a59521693c496dd8fbe1caf3d5ad302017cb0f5073b6914b4f5b7544.png\" rel=\"apple-touch-icon\" sizes=\"76x76\" type=\"image/png\"/>\n",
       "<link href=\"/assets/apple-touch-icon-114x114-20ba9df1a8f9b341040d661b7942b7b10288b9b4c4ce0663e10018958dc7f4a8.png\" rel=\"apple-touch-icon\" sizes=\"114x114\" type=\"image/png\"/>\n",
       "<link href=\"/assets/apple-touch-icon-120x120-c304991e604d1be82639709b96fb87f7b6b6688cc0d04d5f6141604259299648.png\" rel=\"apple-touch-icon\" sizes=\"120x120\" type=\"image/png\"/>\n",
       "<link href=\"/assets/apple-touch-icon-144x144-fbf20bdf9d2f7c1fe8eb85d7869a9bda285be88c93a39438150f5eb5955758ce.png\" rel=\"apple-touch-icon\" sizes=\"144x144\" type=\"image/png\"/>\n",
       "<link href=\"/assets/apple-touch-icon-152x152-af45dc979e972cab863517b2cb33a3dcf3e04e02a2eb2734c6f93edc21fa395d.png\" rel=\"apple-touch-icon\" sizes=\"152x152\" type=\"image/png\"/>\n",
       "<link href=\"/assets/apple-touch-icon-180x180-ea6361d7ae5b3f08c6290652ad703fa239364cc09c84873044f3299845f24652.png\" rel=\"apple-touch-icon\" sizes=\"180x180\" type=\"image/png\"/>\n",
       "<link href=\"/assets/favicon-32x32-99b88fcadeef736889823c8a886b89d8cada9d4423a49a27de29bacc0a6bebd1.png\" rel=\"icon\" sizes=\"32x32\" type=\"image/png\"/>\n",
       "<link href=\"/assets/favicon-194x194-79d3fb0152c735866e64b1d7535d504483cd13c2fad0131a6142bd9629d30de2.png\" rel=\"icon\" sizes=\"194x194\" type=\"image/png\"/>\n",
       "<link href=\"/assets/favicon-96x96-6ffbc38962fddb870f9577b76430a0ee4db5fb4eca485f850cd45436d7f3eb87.png\" rel=\"icon\" sizes=\"96x96\" type=\"image/png\"/>\n",
       "<link href=\"/assets/android-chrome-192x192-f970b9be3965dfda6ea9481b305c39b2ec794e296f802235e30d4671f0f896e1.png\" rel=\"icon\" sizes=\"192x192\" type=\"image/png\"/>\n",
       "<link href=\"/assets/favicon-16x16-474476c1b2381628a81361a9e2bf04b936d21f77c59e84b48c6c69ea376fb6cf.png\" rel=\"icon\" sizes=\"16x16\" type=\"image/png\"/>\n",
       "<link color=\"#7ebc6f\" href=\"/assets/tab-icon-d48738778a27141c72d1101a03b278b681e85b966a688533f497aa8bafca2a49.svg\" rel=\"mask-icon\"/>\n",
       "<link href=\"/assets/manifest-b2cc1407226d3e16e6149425747239c259fbe44b41bff3aca36ca6d9e56a6e18.json\" rel=\"manifest\"/>\n",
       "<meta content=\"/assets/browserconfig-c59184dc0264731151cbf50ae58f7fa8ae5153138013f125203e1193800f862f.xml\" name=\"msapplication-config\"/>\n",
       "<meta content=\"#00a300\" name=\"msapplication-TileColor\"/>\n",
       "<meta content=\"/assets/mstile-144x144-02723f6f7cb2c18e6f8041c93f80982decb52b24a7e447477bc2ce3136d75806.png\" name=\"msapplication-TileImage\"/>\n",
       "<meta content=\"#ffffff\" name=\"theme-color\"/>\n",
       "<link href=\"https://www.openstreetmap.org/search\" rel=\"canonical\"/>\n",
       "<link href=\"/assets/osm-25766501e577496ff8d70388097125cb0aa654f55d170659a5bf448ae7236b9c.xml\" rel=\"search\" title=\"OpenStreetMap Search\" type=\"application/opensearchdescription+xml\"/>\n",
       "<meta content=\"OpenStreetMap is the free wiki world map.\" name=\"description\"/>\n",
       "<meta content=\"OpenStreetMap\" property=\"og:site_name\"/>\n",
       "<meta content=\"OpenStreetMap\" property=\"og:title\"/>\n",
       "<meta content=\"website\" property=\"og:type\"/>\n",
       "<meta content=\"https://www.openstreetmap.org/assets/osm_logo_256-ed028f90468224a272961c380ecee0cfb73b8048b34f4b4b204b7f0d1097875d.png\" property=\"og:image\"/>\n",
       "<meta content=\"https://www.openstreetmap.org/assets/osm_logo_256-ed028f90468224a272961c380ecee0cfb73b8048b34f4b4b204b7f0d1097875d.png\" property=\"og:image:secure_url\"/>\n",
       "<meta content=\"https://www.openstreetmap.org/search\" property=\"og:url\"/>\n",
       "<meta content=\"OpenStreetMap is a map of the world, created by people like you and free to use under an open license.\" property=\"og:description\"/>\n",
       "<script src=\"/assets/index-dcdf05e964c646be721b9b72ca907bd919c35188e10c683f42940b9770fb8378.js\"></script>\n",
       "<meta content=\"authenticity_token\" name=\"csrf-param\"/>\n",
       "<meta content=\"go9c_mPy4GMSsEXNjbILy3kRptvKG34ZeBr6EHzlou1aIAztEvG8jZl9UnSmAS5JAGSXaXF-2jrHUSp8z7iTRA\" name=\"csrf-token\"/>\n",
       "<title>OpenStreetMap</title>\n",
       "</head>\n",
       "<body class=\"map-layout\">\n",
       "<header class=\"closed clearfix\">\n",
       "<h1>\n",
       "<a class=\"geolink\" href=\"/\">\n",
       "<picture>\n",
       "<source srcset=\"/assets/osm_logo-d4979005d8a03d67bbf051b4e7e6ef1b26c6a34a5cd1b65908e2947c360ca391.svg\" type=\"image/svg+xml\"/>\n",
       "<img alt=\"OpenStreetMap logo\" class=\"logo\" src=\"/assets/osm_logo-9391021d40a7acdafd2ac5d5622dfe0e469c61421fdb2975365c183f5edaa270.png\" srcset=\"/assets/osm_logo-d4979005d8a03d67bbf051b4e7e6ef1b26c6a34a5cd1b65908e2947c360ca391.svg\"/>\n",
       "</picture>\n",
       "      OpenStreetMap\n",
       "    </a>\n",
       "</h1>\n",
       "<a href=\"#\" id=\"menu-icon\"></a>\n",
       "<nav class=\"primary\">\n",
       "<div class=\"search_forms\">\n",
       "<form action=\"/search\" class=\"search_form px-1 py-2\" method=\"GET\">\n",
       "<div class=\"form-row mx-0\">\n",
       "<div class=\"col\">\n",
       "<div class=\"input-group flex-nowrap\">\n",
       "<div class=\"query_wrapper position-relative flex-grow-1\">\n",
       "<a class=\"describe_location position-absolute\" href=\"#\" title=\"Describe the current location using the search engine\">Where is this?</a>\n",
       "<input autocomplete=\"on\" class=\"form-control form-control-sm\" dir=\"auto\" id=\"query\" name=\"query\" placeholder=\"Search\" type=\"text\"/>\n",
       "</div>\n",
       "<div class=\"input-group-append\">\n",
       "<input class=\"btn btn-sm btn-primary\" name=\"commit\" type=\"submit\" value=\"Go\"/>\n",
       "</div>\n",
       "</div>\n",
       "</div>\n",
       "<div class=\"col-auto\">\n",
       "<a class=\"btn btn-sm btn-primary switch_link\" href=\"/directions\" title=\"Find directions between two points\"><img height=\"20\" src=\"/assets/directions-6ae0ecdabcaa76d0d14dddddfa7d6381ecdd817b05f751ea422e53493945e942.png\" width=\"20\"/></a>\n",
       "</div>\n",
       "</div>\n",
       "</form>\n",
       "<form action=\"/directions\" class=\"directions_form pb-3\" method=\"GET\">\n",
       "<div class=\"clearfix px-3 py-3\"><span class=\"icon close\"></span></div>\n",
       "<div class=\"form-row m-1\">\n",
       "<div class=\"col-1\">\n",
       "<img class=\"routing_marker mx-auto d-block\" data-type=\"from\" draggable=\"true\" src=\"/assets/marker-green-65a7328dedf1e8396deb167927d899ce3b08ca17f323302db66620db1f3bb97f.png\"/>\n",
       "</div>\n",
       "<div class=\"col\">\n",
       "<input autocomplete=\"on\" class=\"form-control form-control-sm\" dir=\"auto\" id=\"route_from\" name=\"route_from\" placeholder=\"From\" type=\"text\"/>\n",
       "</div>\n",
       "</div>\n",
       "<div class=\"form-row m-1\">\n",
       "<div class=\"col-1\">\n",
       "<img class=\"routing_marker mx-auto d-block\" data-type=\"to\" draggable=\"true\" src=\"/assets/marker-red-080842cf8ca2034c956ba83b530ec6c5c592315ed04b82538bb925a395584644.png\"/>\n",
       "</div>\n",
       "<div class=\"col\">\n",
       "<input autocomplete=\"on\" class=\"form-control form-control-sm\" dir=\"auto\" id=\"route_to\" name=\"route_to\" placeholder=\"To\" type=\"text\"/>\n",
       "</div>\n",
       "</div>\n",
       "<div class=\"form-row m-1\">\n",
       "<div class=\"col offset-1\">\n",
       "<select class=\"routing_engines form-control form-control-sm\" name=\"routing_engines\"></select>\n",
       "</div>\n",
       "<div class=\"col-auto\">\n",
       "<input class=\"routing_go btn btn-sm btn-primary\" name=\"commit\" type=\"submit\" value=\"Go\"/>\n",
       "</div>\n",
       "</div>\n",
       "<div class=\"form-row m-1\">\n",
       "<div class=\"col offset-1\">\n",
       "<a class=\"reverse_directions\">Reverse Directions</a>\n",
       "</div>\n",
       "</div>\n",
       "<div class=\"loader_copy\"><div class=\"loader\"><img src=\"/assets/searching-3343ef26a638a661762242d1f68b505ce78f59cf7a60d15a1ca81bd64da1166c.gif\"/></div></div>\n",
       "</form>\n",
       "</div>\n",
       "<div class=\"btn-group\">\n",
       "<div class=\"btn-group\" id=\"edit_tab\">\n",
       "<a class=\"btn btn-outline-primary geolink editlink\" data-editor=\"id\" href=\"/edit\" id=\"editanchor\">Edit</a>\n",
       "<a class=\"btn btn-outline-primary dropdown-toggle dropdown-toggle-split\" data-toggle=\"dropdown\" href=\"#\"></a>\n",
       "<ul class=\"dropdown-menu\">\n",
       "<li>\n",
       "<a class=\"geolink editlink dropdown-item\" data-editor=\"id\" href=\"/edit?editor=id\">Edit with iD (in-browser editor)</a>\n",
       "</li>\n",
       "<li>\n",
       "<a class=\"geolink editlink dropdown-item\" data-editor=\"remote\" href=\"/edit?editor=remote\">Edit with Remote Control (JOSM, Potlatch, Merkaartor)</a>\n",
       "</li>\n",
       "</ul>\n",
       "</div>\n",
       "<a class=\"btn btn-outline-primary geolink flex-grow-1 current_page_class(history_path)\" href=\"/history\" id=\"history_tab\">History</a>\n",
       "<a class=\"btn btn-outline-primary geolink current_page_class(export_path)\" href=\"/export\" id=\"export_tab\">Export</a>\n",
       "</div>\n",
       "</nav>\n",
       "<nav class=\"secondary\">\n",
       "<ul class=\"mx-1 px-0\">\n",
       "<li class=\"compact-hide nav-item\">\n",
       "<a class=\"nav-link\" href=\"/traces\">GPS Traces</a>\n",
       "</li>\n",
       "<li class=\"compact-hide nav-item\">\n",
       "<a class=\"nav-link\" href=\"/diary\">User Diaries</a>\n",
       "</li>\n",
       "<li class=\"compact-hide nav-item\">\n",
       "<a class=\"nav-link\" href=\"/copyright\">Copyright</a>\n",
       "</li>\n",
       "<li class=\"compact-hide nav-item\">\n",
       "<a class=\"nav-link\" href=\"/help\">Help</a>\n",
       "</li>\n",
       "<li class=\"compact-hide nav-item\">\n",
       "<a class=\"nav-link\" href=\"/about\">About</a>\n",
       "</li>\n",
       "<li class=\"dropdown nav-item\" id=\"compact-secondary-nav\">\n",
       "<a class=\"dropdown-toggle nav-link\" data-toggle=\"dropdown\" href=\"#\">More</a>\n",
       "<ul class=\"dropdown-menu\">\n",
       "<li class=\"\"><a class=\"dropdown-item\" href=\"/traces\">GPS Traces</a></li>\n",
       "<li class=\"\"><a class=\"dropdown-item\" href=\"/diary\">User Diaries</a></li>\n",
       "<li class=\"\"><a class=\"dropdown-item\" href=\"/copyright\">Copyright</a></li>\n",
       "<li class=\"\"><a class=\"dropdown-item\" href=\"/help\">Help</a></li>\n",
       "<li class=\"\"><a class=\"dropdown-item\" href=\"/about\">About</a></li>\n",
       "</ul>\n",
       "</li>\n",
       "</ul>\n",
       "<div class=\"d-inline-flex btn-group login-menu\" role=\"\">\n",
       "<a class=\"geolink btn btn-outline-secondary\" href=\"/login?referer=%2Fsearch%3Fquery%3D23.963302922421363%252C%2520120.56802083598107\">Log In</a>\n",
       "<a class=\"btn btn-outline-secondary\" href=\"/user/new\">Sign Up</a>\n",
       "<div class=\"\" id=\"content\">\n",
       "<div id=\"sidebar\">\n",
       "<div class=\"search_forms\">\n",
       "<form action=\"/search\" class=\"search_form px-1 py-2\" method=\"GET\">\n",
       "<div class=\"form-row mx-0\">\n",
       "<div class=\"col\">\n",
       "<div class=\"input-group flex-nowrap\">\n",
       "<div class=\"query_wrapper position-relative flex-grow-1\">\n",
       "<a class=\"describe_location position-absolute\" href=\"#\" title=\"Describe the current location using the search engine\">Where is this?</a>\n",
       "<input autocomplete=\"on\" autofocus=\"autofocus\" class=\"form-control form-control-sm\" dir=\"auto\" id=\"query\" name=\"query\" placeholder=\"Search\" type=\"text\"/>\n",
       "</div>\n",
       "<div class=\"input-group-append\">\n",
       "<input class=\"btn btn-sm btn-primary\" name=\"commit\" type=\"submit\" value=\"Go\"/>\n",
       "</div>\n",
       "</div>\n",
       "</div>\n",
       "<div class=\"col-auto\">\n",
       "<a class=\"btn btn-sm btn-primary switch_link\" href=\"/directions\" title=\"Find directions between two points\"><img height=\"20\" src=\"/assets/directions-6ae0ecdabcaa76d0d14dddddfa7d6381ecdd817b05f751ea422e53493945e942.png\" width=\"20\"/></a>\n",
       "</div>\n",
       "</div>\n",
       "</form>\n",
       "<form action=\"/directions\" class=\"directions_form pb-3\" method=\"GET\">\n",
       "<div class=\"clearfix px-3 py-3\"><span class=\"icon close\"></span></div>\n",
       "<div class=\"form-row m-1\">\n",
       "<div class=\"col-1\">\n",
       "<img class=\"routing_marker mx-auto d-block\" data-type=\"from\" draggable=\"true\" src=\"/assets/marker-green-65a7328dedf1e8396deb167927d899ce3b08ca17f323302db66620db1f3bb97f.png\"/>\n",
       "</div>\n",
       "<div class=\"col\">\n",
       "<input autocomplete=\"on\" class=\"form-control form-control-sm\" dir=\"auto\" id=\"route_from\" name=\"route_from\" placeholder=\"From\" type=\"text\"/>\n",
       "</div>\n",
       "</div>\n",
       "<div class=\"form-row m-1\">\n",
       "<div class=\"col-1\">\n",
       "<img class=\"routing_marker mx-auto d-block\" data-type=\"to\" draggable=\"true\" src=\"/assets/marker-red-080842cf8ca2034c956ba83b530ec6c5c592315ed04b82538bb925a395584644.png\"/>\n",
       "</div>\n",
       "<div class=\"col\">\n",
       "<input autocomplete=\"on\" class=\"form-control form-control-sm\" dir=\"auto\" id=\"route_to\" name=\"route_to\" placeholder=\"To\" type=\"text\"/>\n",
       "</div>\n",
       "</div>\n",
       "<div class=\"form-row m-1\">\n",
       "<div class=\"col offset-1\">\n",
       "<select class=\"routing_engines form-control form-control-sm\" name=\"routing_engines\"></select>\n",
       "</div>\n",
       "<div class=\"col-auto\">\n",
       "<input class=\"routing_go btn btn-sm btn-primary\" name=\"commit\" type=\"submit\" value=\"Go\"/>\n",
       "</div>\n",
       "</div>\n",
       "<div class=\"form-row m-1\">\n",
       "<div class=\"col offset-1\">\n",
       "<a class=\"reverse_directions\">Reverse Directions</a>\n",
       "</div>\n",
       "</div>\n",
       "<div class=\"loader_copy\"><div class=\"loader\"><img src=\"/assets/searching-3343ef26a638a661762242d1f68b505ce78f59cf7a60d15a1ca81bd64da1166c.gif\"/></div></div>\n",
       "</form>\n",
       "</div>\n",
       "<div id=\"flash\">\n",
       "</div>\n",
       "<div id=\"browse_status\"></div>\n",
       "<div id=\"sidebar_loader\">\n",
       "<img alt=\"Loading...\" class=\"loader\" src=\"/assets/searching-3343ef26a638a661762242d1f68b505ce78f59cf7a60d15a1ca81bd64da1166c.gif\"/>\n",
       "</div>\n",
       "<div id=\"sidebar_content\">\n",
       "<div class=\"d-flex w-100\">\n",
       "<div class=\"flex-grow-1 text-break\">\n",
       "<h2>Search Results</h2>\n",
       "</div>\n",
       "<div>\n",
       "<a class=\"geolink\" href=\"/\">\n",
       "<span class=\"icon close\"></span>\n",
       "</a>\n",
       "</div>\n",
       "</div>\n",
       "<h4>Results from <a href=\"https://openstreetmap.org/\">Internal</a></h4>\n",
       "<div class=\"search_results_entry mx-n3\" data-href=\"/geocoder/search_latlon?lat=23.963302922421363&amp;latlon_digits=true&amp;lon=120.56802083598107\">\n",
       "<img class=\"loader\" src=\"/assets/searching-3343ef26a638a661762242d1f68b505ce78f59cf7a60d15a1ca81bd64da1166c.gif\"/>\n",
       "</div>\n",
       "<h4>Results from <a href=\"https://nominatim.openstreetmap.org/\">OpenStreetMap Nominatim</a></h4>\n",
       "<div class=\"search_results_entry mx-n3\" data-href=\"/geocoder/search_osm_nominatim_reverse?lat=23.963302922421363&amp;latlon_digits=true&amp;lon=120.56802083598107\">\n",
       "<img class=\"loader\" src=\"/assets/searching-3343ef26a638a661762242d1f68b505ce78f59cf7a60d15a1ca81bd64da1166c.gif\"/>\n",
       "</div>\n",
       "<h4>Results from <a href=\"http://www.geonames.org/\">GeoNames</a></h4>\n",
       "<div class=\"search_results_entry mx-n3\" data-href=\"/geocoder/search_geonames_reverse?lat=23.963302922421363&amp;latlon_digits=true&amp;lon=120.56802083598107\">\n",
       "<img class=\"loader\" src=\"/assets/searching-3343ef26a638a661762242d1f68b505ce78f59cf7a60d15a1ca81bd64da1166c.gif\"/>\n",
       "</div>\n",
       "</div>\n",
       "<div class=\"welcome p-3\">\n",
       "<div class=\"d-flex w-100\">\n",
       "<div class=\"flex-grow-1 text-break\">\n",
       "<h2>Welcome to OpenStreetMap!</h2>\n",
       "</div>\n",
       "<div>\n",
       "<a class=\"geolink\" href=\"/\">\n",
       "<span class=\"icon close\"></span>\n",
       "</a>\n",
       "</div>\n",
       "</div>\n",
       "<div>\n",
       "<p>OpenStreetMap is a map of the world, created by people like you and free to use under an open license.</p>\n",
       "<p>Hosting is supported by <a href=\"https://www.ucl.ac.uk\">UCL</a>, <a href=\"https://www.fastly.com/\">Fastly</a>, <a href=\"https://www.bytemark.co.uk\">Bytemark Hosting</a>, and other <a href=\"https://hardware.openstreetmap.org/thanks/\">partners</a>.\n",
       "          </p>\n",
       "<div class=\"d-flex mx-n1\">\n",
       "<div class=\"w-50 px-1\">\n",
       "<a class=\"btn btn-primary w-100\" href=\"/about\">Learn More</a>\n",
       "</div>\n",
       "<div class=\"w-50 px-1\">\n",
       "<a class=\"btn btn-primary w-100\" href=\"/user/new\">Start Mapping</a>\n",
       "</div>\n",
       "</div>\n",
       "</div>\n",
       "</div>\n",
       "<div id=\"banner\">\n",
       "</div>\n",
       "</div>\n",
       "<noscript>\n",
       "<div id=\"noscript\">\n",
       "<p>You are either using a browser that does not support JavaScript, or you have disabled JavaScript.</p>\n",
       "<p>OpenStreetMap uses JavaScript for its slippy map.</p>\n",
       "</div>\n",
       "</noscript>\n",
       "<div id=\"map-ui\">\n",
       "</div>\n",
       "<div id=\"map\" tabindex=\"2\">\n",
       "</div>\n",
       "<div id=\"attribution\">\n",
       "<table>\n",
       "<tr>\n",
       "<td class=\"attribution_license\">https://openstreetmap.org/copyright</td>\n",
       "<td class=\"attribution_project\">https://openstreetmap.org</td>\n",
       "</tr>\n",
       "<tr>\n",
       "<td class=\"attribution_notice\" colspan=\"2\">Copyright OpenStreetMap and contributors, under an open license</td>\n",
       "</tr>\n",
       "</table>\n",
       "</div>\n",
       "</div>\n",
       "<noscript><p><img alt=\"\" class=\"piwik\" src=\"https://piwik.openstreetmap.org/piwik.php?idsite=1\"/></p></noscript>\n",
       "</div></nav></header></body>\n",
       "</html>"
      ]
     },
     "execution_count": 6,
     "metadata": {},
     "output_type": "execute_result"
    }
   ],
   "source": [
    "soup2 = BeautifulSoup(r.text,\"lxml\")\n",
    "soup2"
   ]
  },
  {
   "cell_type": "code",
   "execution_count": 7,
   "id": "ed55ba61-8bef-4fc8-b451-91534eb8ade1",
   "metadata": {},
   "outputs": [
    {
     "name": "stdout",
     "output_type": "stream",
     "text": [
      "None\n"
     ]
    }
   ],
   "source": [
    "# b = soup.find_all('a')\n",
    "# print(b)\n",
    "    \n",
    "a = soup.find('a', class_ = 'set_position')\n",
    "print(a)"
   ]
  },
  {
   "cell_type": "code",
   "execution_count": 8,
   "id": "50e9ae1c-7d98-4d74-be38-d8c32cbc22a3",
   "metadata": {},
   "outputs": [],
   "source": [
    "# from requests_html import HTMLSession\n",
    "\n",
    "# session = HTMLSession()\n",
    "# url = \"https://www.openstreetmap.org/search?query=23.963302922421363%2C%20120.56802083598107#map=19/23.96330/120.56802\"\n",
    "# r = session.get(url)\n",
    "# r.html.render()\n",
    "\n",
    "# print(r.content)"
   ]
  },
  {
   "cell_type": "code",
   "execution_count": 9,
   "id": "83bddec1-33fe-4fc3-b118-03b9e98d9e01",
   "metadata": {},
   "outputs": [
    {
     "name": "stdout",
     "output_type": "stream",
     "text": [
      "utf-8\n"
     ]
    }
   ],
   "source": [
    "url=f\"https://www.openstreetmap.org/geocoder/search_osm_nominatim_reverse?lat=25.055514987236375&latlon_digits=true&lon=121.54951320353304&zoom=19&minlon=12&minlat=24&maxlon=122&maxlat=26\"\n",
    "\n",
    "headers = {\n",
    "    'User-Agent' : 'Mozilla/5.0 (X11; Ubuntu; Linux x86_64; rv:46.0) Gecko/20100101 Firefox/46.0',\n",
    "        'Content-Type': 'application/x-www-form-urlencoded',\n",
    "        'Connection' : 'Keep-Alive',\n",
    "        'Accept':'text/html,application/xhtml+xml,application/xml;q=0.9,*/*;q=0.8'\n",
    "}  # 模擬瀏覽器訪問\n",
    "\n",
    "r = requests.get(url, headers=headers)  # 請求訪問網站\n",
    "print(r.encoding)"
   ]
  },
  {
   "cell_type": "code",
   "execution_count": 10,
   "id": "25b4c7b1-33a1-4e1f-bd8f-1b04f0bddc17",
   "metadata": {},
   "outputs": [
    {
     "name": "stdout",
     "output_type": "stream",
     "text": [
      "b'  <ul class=\\'results-list list-group list-group-flush\\'>\\n      <li class=\"list-group-item search_results_entry\"><a class=\"set_position\" data-lat=\"25.0553867\" data-lon=\"121.54959523344101\" data-zoom=\"19\" data-name=\"199, \\xe6\\x95\\xa6\\xe5\\x8c\\x96\\xe5\\x8c\\x97\\xe8\\xb7\\xaf, \\xe4\\xb8\\xad\\xe8\\x8f\\xaf\\xe9\\x87\\x8c, \\xe6\\x9d\\xbe\\xe5\\xb1\\xb1\\xe5\\x8d\\x80, \\xe4\\xb8\\xad\\xe5\\xb4\\x99, \\xe4\\xb8\\x8b\\xe5\\x9f\\xa4\\xe9\\xa0\\xad, \\xe8\\x87\\xba\\xe5\\x8c\\x97\\xe5\\xb8\\x82, 10547, \\xe8\\x87\\xba\\xe7\\x81\\xa3\" data-type=\"way\" data-id=\"364650978\" href=\"/way/364650978\">199, \\xe6\\x95\\xa6\\xe5\\x8c\\x96\\xe5\\x8c\\x97\\xe8\\xb7\\xaf, \\xe4\\xb8\\xad\\xe8\\x8f\\xaf\\xe9\\x87\\x8c, \\xe6\\x9d\\xbe\\xe5\\xb1\\xb1\\xe5\\x8d\\x80, \\xe4\\xb8\\xad\\xe5\\xb4\\x99, \\xe4\\xb8\\x8b\\xe5\\x9f\\xa4\\xe9\\xa0\\xad, \\xe8\\x87\\xba\\xe5\\x8c\\x97\\xe5\\xb8\\x82, 10547, \\xe8\\x87\\xba\\xe7\\x81\\xa3</a></li>\\n  </ul>\\n'\n"
     ]
    }
   ],
   "source": [
    "print(r.content)\n",
    "# raw_bytes = b'\\xe5\\x8f\\xb0\\xe5\\x8c\\x97\\xe9\\x95\\xb7\\xe5\\xba\\x9a\\xe7\\xb4\\x80\\xe5\\xbf\\xb5\\xe9\\x86\\xab\\xe9\\x99\\xa2, 199, \\xe6\\x95\\xa6\\xe5\\x8c\\x96\\xe5\\x8c\\x97\\xe8\\xb7\\xaf, \\xe4\\xb8\\xad\\xe8\\x8f\\xaf\\xe9\\x87\\x8c, \\xe6\\x9d\\xbe\\xe5\\xb1\\xb1\\xe5\\x8d\\x80, \\xe4\\xb8\\xad\\xe5\\xb4\\x99, \\xe4\\xb8\\x8b\\xe5\\x9f\\xa4\\xe9\\xa0\\xad, \\xe8\\x87\\xba\\xe5\\x8c\\x97\\xe5\\xb8\\x82, 105, \\xe8\\x87\\xba\\xe7\\x81\\xa3'\n",
    "# string_text = raw_bytes.decode(\"utf-8\")\n",
    "# string_text"
   ]
  },
  {
   "cell_type": "code",
   "execution_count": 11,
   "id": "2e9c45b7-7e9e-4c63-91ed-e2ac756faa83",
   "metadata": {},
   "outputs": [
    {
     "data": {
      "text/plain": [
       " <ul class=\"results-list list-group list-group-flush\">\n",
       "<li class=\"list-group-item search_results_entry\"><a class=\"set_position\" data-id=\"364650978\" data-lat=\"25.0553867\" data-lon=\"121.54959523344101\" data-name=\"199, 敦化北路, 中華里, 松山區, 中崙, 下埤頭, 臺北市, 10547, 臺灣\" data-type=\"way\" data-zoom=\"19\" href=\"/way/364650978\">199, 敦化北路, 中華里, 松山區, 中崙, 下埤頭, 臺北市, 10547, 臺灣</a></li>\n",
       "</ul>"
      ]
     },
     "execution_count": 11,
     "metadata": {},
     "output_type": "execute_result"
    }
   ],
   "source": [
    "soup = BeautifulSoup(r.text,\"html.parser\")\n",
    "soup"
   ]
  },
  {
   "cell_type": "code",
   "execution_count": 12,
   "id": "3990baa5-8fc2-4861-9a68-e1895d08192d",
   "metadata": {},
   "outputs": [
    {
     "name": "stdout",
     "output_type": "stream",
     "text": [
      "199, 敦化北路, 中華里, 松山區, 中崙, 下埤頭, 臺北市, 10547, 臺灣\n"
     ]
    }
   ],
   "source": [
    "a = soup.find('a').text\n",
    "print(a)"
   ]
  },
  {
   "cell_type": "code",
   "execution_count": null,
   "id": "c4ff90a3-450b-43a2-8ab0-09ff57468912",
   "metadata": {},
   "outputs": [],
   "source": []
  },
  {
   "cell_type": "code",
   "execution_count": 2,
   "id": "523d2015-3b5c-420f-9817-4e445f73f68c",
   "metadata": {},
   "outputs": [],
   "source": [
    "def OSM(lat,lon):\n",
    "    try:\n",
    "        url=f\"https://www.openstreetmap.org/geocoder/search_osm_nominatim_reverse?lat={lat}&latlon_digits=true&lon={lon}&zoom=19&minlon=12&minlat=24&maxlon=122&maxlat=26\"\n",
    "        headers = {\n",
    "        'User-Agent' : 'Mozilla/5.0 (X11; Ubuntu; Linux x86_64; rv:46.0) Gecko/20100101 Firefox/46.0',\n",
    "        'Content-Type': 'application/x-www-form-urlencoded',\n",
    "        'Connection' : 'Keep-Alive',\n",
    "        'Accept':'text/html,application/xhtml+xml,application/xml;q=0.9,*/*;q=0.8'\n",
    "        }  # 模擬瀏覽器訪問\n",
    "        r = requests.get(url, headers=headers)  # 請求訪問網站\n",
    "        soup = BeautifulSoup(r.text,\"html.parser\")\n",
    "        a = soup.find('a').text\n",
    "    except:\n",
    "        a=f'不知道:{lat},{lon}'\n",
    "    return a"
   ]
  },
  {
   "cell_type": "code",
   "execution_count": 3,
   "id": "51f3d624-e9e7-4f54-9201-02d4bed36330",
   "metadata": {},
   "outputs": [
    {
     "data": {
      "text/plain": [
       "'1483, 環山路一段24巷, 西康里, 內湖區, 臺北市, 11443, 臺灣'"
      ]
     },
     "execution_count": 3,
     "metadata": {},
     "output_type": "execute_result"
    }
   ],
   "source": [
    "OSM(25.084214253728792, 121.56430540147981)"
   ]
  },
  {
   "cell_type": "code",
   "execution_count": 15,
   "id": "11213cf8-7617-4252-9683-6434d5a821fc",
   "metadata": {},
   "outputs": [
    {
     "data": {
      "text/html": [
       "<div>\n",
       "<style scoped>\n",
       "    .dataframe tbody tr th:only-of-type {\n",
       "        vertical-align: middle;\n",
       "    }\n",
       "\n",
       "    .dataframe tbody tr th {\n",
       "        vertical-align: top;\n",
       "    }\n",
       "\n",
       "    .dataframe thead th {\n",
       "        text-align: right;\n",
       "    }\n",
       "</style>\n",
       "<table border=\"1\" class=\"dataframe\">\n",
       "  <thead>\n",
       "    <tr style=\"text-align: right;\">\n",
       "      <th></th>\n",
       "      <th>city</th>\n",
       "      <th>town</th>\n",
       "      <th>La4</th>\n",
       "      <th>Lo4</th>\n",
       "      <th>projtype</th>\n",
       "      <th>cnt</th>\n",
       "      <th>sno</th>\n",
       "    </tr>\n",
       "  </thead>\n",
       "  <tbody>\n",
       "    <tr>\n",
       "      <th>0</th>\n",
       "      <td>嘉義市</td>\n",
       "      <td>東區</td>\n",
       "      <td>23.4780</td>\n",
       "      <td>120.4506</td>\n",
       "      <td>0</td>\n",
       "      <td>138</td>\n",
       "      <td>1</td>\n",
       "    </tr>\n",
       "    <tr>\n",
       "      <th>1</th>\n",
       "      <td>嘉義市</td>\n",
       "      <td>東區</td>\n",
       "      <td>23.4781</td>\n",
       "      <td>120.4506</td>\n",
       "      <td>0</td>\n",
       "      <td>92</td>\n",
       "      <td>2</td>\n",
       "    </tr>\n",
       "    <tr>\n",
       "      <th>2</th>\n",
       "      <td>嘉義市</td>\n",
       "      <td>東區</td>\n",
       "      <td>23.4764</td>\n",
       "      <td>120.4578</td>\n",
       "      <td>0</td>\n",
       "      <td>75</td>\n",
       "      <td>3</td>\n",
       "    </tr>\n",
       "    <tr>\n",
       "      <th>3</th>\n",
       "      <td>嘉義市</td>\n",
       "      <td>東區</td>\n",
       "      <td>23.4780</td>\n",
       "      <td>120.4507</td>\n",
       "      <td>0</td>\n",
       "      <td>73</td>\n",
       "      <td>4</td>\n",
       "    </tr>\n",
       "    <tr>\n",
       "      <th>4</th>\n",
       "      <td>嘉義市</td>\n",
       "      <td>東區</td>\n",
       "      <td>23.4781</td>\n",
       "      <td>120.4507</td>\n",
       "      <td>0</td>\n",
       "      <td>70</td>\n",
       "      <td>5</td>\n",
       "    </tr>\n",
       "  </tbody>\n",
       "</table>\n",
       "</div>"
      ],
      "text/plain": [
       "  city town      La4       Lo4  projtype  cnt  sno\n",
       "0  嘉義市   東區  23.4780  120.4506         0  138    1\n",
       "1  嘉義市   東區  23.4781  120.4506         0   92    2\n",
       "2  嘉義市   東區  23.4764  120.4578         0   75    3\n",
       "3  嘉義市   東區  23.4780  120.4507         0   73    4\n",
       "4  嘉義市   東區  23.4781  120.4507         0   70    5"
      ]
     },
     "execution_count": 15,
     "metadata": {},
     "output_type": "execute_result"
    }
   ],
   "source": [
    "import pandas as pd\n",
    "df = pd.read_csv('data/各區top100熄火小數點四位.csv')\n",
    "df.head()"
   ]
  },
  {
   "cell_type": "code",
   "execution_count": 16,
   "id": "f2217791-7313-47ec-bba8-007ec82608f1",
   "metadata": {},
   "outputs": [],
   "source": [
    "df['景點']=''"
   ]
  },
  {
   "cell_type": "code",
   "execution_count": 17,
   "id": "1c6f5dfd-7673-4d24-85c9-8a7af01442bc",
   "metadata": {},
   "outputs": [
    {
     "data": {
      "text/html": [
       "<div>\n",
       "<style scoped>\n",
       "    .dataframe tbody tr th:only-of-type {\n",
       "        vertical-align: middle;\n",
       "    }\n",
       "\n",
       "    .dataframe tbody tr th {\n",
       "        vertical-align: top;\n",
       "    }\n",
       "\n",
       "    .dataframe thead th {\n",
       "        text-align: right;\n",
       "    }\n",
       "</style>\n",
       "<table border=\"1\" class=\"dataframe\">\n",
       "  <thead>\n",
       "    <tr style=\"text-align: right;\">\n",
       "      <th></th>\n",
       "      <th>city</th>\n",
       "      <th>town</th>\n",
       "      <th>La4</th>\n",
       "      <th>Lo4</th>\n",
       "      <th>projtype</th>\n",
       "      <th>cnt</th>\n",
       "      <th>sno</th>\n",
       "      <th>景點</th>\n",
       "    </tr>\n",
       "  </thead>\n",
       "  <tbody>\n",
       "    <tr>\n",
       "      <th>0</th>\n",
       "      <td>嘉義市</td>\n",
       "      <td>東區</td>\n",
       "      <td>23.4780</td>\n",
       "      <td>120.4506</td>\n",
       "      <td>0</td>\n",
       "      <td>138</td>\n",
       "      <td>1</td>\n",
       "      <td></td>\n",
       "    </tr>\n",
       "    <tr>\n",
       "      <th>1</th>\n",
       "      <td>嘉義市</td>\n",
       "      <td>東區</td>\n",
       "      <td>23.4781</td>\n",
       "      <td>120.4506</td>\n",
       "      <td>0</td>\n",
       "      <td>92</td>\n",
       "      <td>2</td>\n",
       "      <td></td>\n",
       "    </tr>\n",
       "    <tr>\n",
       "      <th>2</th>\n",
       "      <td>嘉義市</td>\n",
       "      <td>東區</td>\n",
       "      <td>23.4764</td>\n",
       "      <td>120.4578</td>\n",
       "      <td>0</td>\n",
       "      <td>75</td>\n",
       "      <td>3</td>\n",
       "      <td></td>\n",
       "    </tr>\n",
       "    <tr>\n",
       "      <th>3</th>\n",
       "      <td>嘉義市</td>\n",
       "      <td>東區</td>\n",
       "      <td>23.4780</td>\n",
       "      <td>120.4507</td>\n",
       "      <td>0</td>\n",
       "      <td>73</td>\n",
       "      <td>4</td>\n",
       "      <td></td>\n",
       "    </tr>\n",
       "    <tr>\n",
       "      <th>4</th>\n",
       "      <td>嘉義市</td>\n",
       "      <td>東區</td>\n",
       "      <td>23.4781</td>\n",
       "      <td>120.4507</td>\n",
       "      <td>0</td>\n",
       "      <td>70</td>\n",
       "      <td>5</td>\n",
       "      <td></td>\n",
       "    </tr>\n",
       "  </tbody>\n",
       "</table>\n",
       "</div>"
      ],
      "text/plain": [
       "  city town      La4       Lo4  projtype  cnt  sno 景點\n",
       "0  嘉義市   東區  23.4780  120.4506         0  138    1   \n",
       "1  嘉義市   東區  23.4781  120.4506         0   92    2   \n",
       "2  嘉義市   東區  23.4764  120.4578         0   75    3   \n",
       "3  嘉義市   東區  23.4780  120.4507         0   73    4   \n",
       "4  嘉義市   東區  23.4781  120.4507         0   70    5   "
      ]
     },
     "execution_count": 17,
     "metadata": {},
     "output_type": "execute_result"
    }
   ],
   "source": [
    "df.head()"
   ]
  },
  {
   "cell_type": "code",
   "execution_count": 18,
   "id": "a9765414-cbb9-47aa-8dfe-73af1dfe32fa",
   "metadata": {
    "tags": []
   },
   "outputs": [
    {
     "data": {
      "text/plain": [
       "34947"
      ]
     },
     "execution_count": 18,
     "metadata": {},
     "output_type": "execute_result"
    }
   ],
   "source": [
    "df.shape[0]"
   ]
  },
  {
   "cell_type": "code",
   "execution_count": 19,
   "id": "3effe3b9-31c9-4705-8cc2-99e1f5711b7a",
   "metadata": {
    "tags": []
   },
   "outputs": [
    {
     "data": {
      "text/plain": [
       "23.478"
      ]
     },
     "execution_count": 19,
     "metadata": {},
     "output_type": "execute_result"
    }
   ],
   "source": [
    "df.iloc[0,2]"
   ]
  },
  {
   "cell_type": "code",
   "execution_count": 20,
   "id": "3383397f-5c6a-4b24-be54-cd55f9f83dc8",
   "metadata": {
    "tags": []
   },
   "outputs": [
    {
     "data": {
      "text/plain": [
       "120.4506"
      ]
     },
     "execution_count": 20,
     "metadata": {},
     "output_type": "execute_result"
    }
   ],
   "source": [
    "df.iloc[0,3]"
   ]
  },
  {
   "cell_type": "code",
   "execution_count": 21,
   "id": "b5b77b17-d130-45da-9082-f10dfecde96b",
   "metadata": {},
   "outputs": [
    {
     "data": {
      "text/plain": [
       "''"
      ]
     },
     "execution_count": 21,
     "metadata": {},
     "output_type": "execute_result"
    }
   ],
   "source": [
    "df['景點'][0]"
   ]
  },
  {
   "cell_type": "code",
   "execution_count": 22,
   "id": "ad48a2bb-e58a-48b0-b445-7836961ca89b",
   "metadata": {},
   "outputs": [],
   "source": [
    "for i in range(df.shape[0]):\n",
    "    with open(\"log2.txt\",\"a\") as file: #寫入不覆蓋，一直寫下去\n",
    "        file.write(f'{i} : {df.iloc[i,2]},{df.iloc[i,3]}\\n')\n",
    "        \n",
    "    ans = OSM(df.iloc[i,2],df.iloc[i,3])\n",
    "    df['景點'][i]=ans"
   ]
  },
  {
   "cell_type": "code",
   "execution_count": 23,
   "id": "8e0eebdf-8af9-4a64-8841-8288b4cc9a1d",
   "metadata": {},
   "outputs": [],
   "source": [
    "df.to_csv(\"LonLatStation.csv\")"
   ]
  },
  {
   "cell_type": "code",
   "execution_count": null,
   "id": "59615e63-218c-4c99-a35f-c1e907871683",
   "metadata": {},
   "outputs": [],
   "source": []
  }
 ],
 "metadata": {
  "kernelspec": {
   "display_name": "Python 3 (ipykernel)",
   "language": "python",
   "name": "python3"
  },
  "language_info": {
   "codemirror_mode": {
    "name": "ipython",
    "version": 3
   },
   "file_extension": ".py",
   "mimetype": "text/x-python",
   "name": "python",
   "nbconvert_exporter": "python",
   "pygments_lexer": "ipython3",
   "version": "3.8.10"
  }
 },
 "nbformat": 4,
 "nbformat_minor": 5
}
